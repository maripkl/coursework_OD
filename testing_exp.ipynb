{
  "nbformat": 4,
  "nbformat_minor": 0,
  "metadata": {
    "colab": {
      "name": "onlineD_AMI.ipynb",
      "provenance": [],
      "collapsed_sections": []
    },
    "kernelspec": {
      "name": "python3",
      "display_name": "Python 3"
    },
    "language_info": {
      "name": "python"
    },
    "accelerator": "GPU",
    "widgets": {
      "application/vnd.jupyter.widget-state+json": {
        "38c738a09f3b4f72a236b9ae48a9dd39": {
          "model_module": "@jupyter-widgets/controls",
          "model_name": "HBoxModel",
          "model_module_version": "1.5.0",
          "state": {
            "_dom_classes": [],
            "_model_module": "@jupyter-widgets/controls",
            "_model_module_version": "1.5.0",
            "_model_name": "HBoxModel",
            "_view_count": null,
            "_view_module": "@jupyter-widgets/controls",
            "_view_module_version": "1.5.0",
            "_view_name": "HBoxView",
            "box_style": "",
            "children": [
              "IPY_MODEL_148d03dd942645ab8fb5167f3aab04fa",
              "IPY_MODEL_853d8cda783647a2971b59e961b2ba5b",
              "IPY_MODEL_325a791e23424256b4bf9852c930beb1"
            ],
            "layout": "IPY_MODEL_727460a26b9a42538ccdd6fe717b6fe1"
          }
        },
        "148d03dd942645ab8fb5167f3aab04fa": {
          "model_module": "@jupyter-widgets/controls",
          "model_name": "HTMLModel",
          "model_module_version": "1.5.0",
          "state": {
            "_dom_classes": [],
            "_model_module": "@jupyter-widgets/controls",
            "_model_module_version": "1.5.0",
            "_model_name": "HTMLModel",
            "_view_count": null,
            "_view_module": "@jupyter-widgets/controls",
            "_view_module_version": "1.5.0",
            "_view_name": "HTMLView",
            "description": "",
            "description_tooltip": null,
            "layout": "IPY_MODEL_2b51bcad77e149a399fc7249635184d6",
            "placeholder": "​",
            "style": "IPY_MODEL_3a9288d046244e2387693729b61e2eee",
            "value": "Downloading: 100%"
          }
        },
        "853d8cda783647a2971b59e961b2ba5b": {
          "model_module": "@jupyter-widgets/controls",
          "model_name": "FloatProgressModel",
          "model_module_version": "1.5.0",
          "state": {
            "_dom_classes": [],
            "_model_module": "@jupyter-widgets/controls",
            "_model_module_version": "1.5.0",
            "_model_name": "FloatProgressModel",
            "_view_count": null,
            "_view_module": "@jupyter-widgets/controls",
            "_view_module_version": "1.5.0",
            "_view_name": "ProgressView",
            "bar_style": "success",
            "description": "",
            "description_tooltip": null,
            "layout": "IPY_MODEL_7ae92fe31b674ef2a4df6c83f356cd95",
            "max": 17739960,
            "min": 0,
            "orientation": "horizontal",
            "style": "IPY_MODEL_48c76f166d19483fabb6b5394950e73f",
            "value": 17739960
          }
        },
        "325a791e23424256b4bf9852c930beb1": {
          "model_module": "@jupyter-widgets/controls",
          "model_name": "HTMLModel",
          "model_module_version": "1.5.0",
          "state": {
            "_dom_classes": [],
            "_model_module": "@jupyter-widgets/controls",
            "_model_module_version": "1.5.0",
            "_model_name": "HTMLModel",
            "_view_count": null,
            "_view_module": "@jupyter-widgets/controls",
            "_view_module_version": "1.5.0",
            "_view_name": "HTMLView",
            "description": "",
            "description_tooltip": null,
            "layout": "IPY_MODEL_feb5d33d4f00432790d62c93fddb764d",
            "placeholder": "​",
            "style": "IPY_MODEL_7313c3290ffc42908b2572a837a61d2d",
            "value": " 17.7M/17.7M [00:00&lt;00:00, 34.0MB/s]"
          }
        },
        "727460a26b9a42538ccdd6fe717b6fe1": {
          "model_module": "@jupyter-widgets/base",
          "model_name": "LayoutModel",
          "model_module_version": "1.2.0",
          "state": {
            "_model_module": "@jupyter-widgets/base",
            "_model_module_version": "1.2.0",
            "_model_name": "LayoutModel",
            "_view_count": null,
            "_view_module": "@jupyter-widgets/base",
            "_view_module_version": "1.2.0",
            "_view_name": "LayoutView",
            "align_content": null,
            "align_items": null,
            "align_self": null,
            "border": null,
            "bottom": null,
            "display": null,
            "flex": null,
            "flex_flow": null,
            "grid_area": null,
            "grid_auto_columns": null,
            "grid_auto_flow": null,
            "grid_auto_rows": null,
            "grid_column": null,
            "grid_gap": null,
            "grid_row": null,
            "grid_template_areas": null,
            "grid_template_columns": null,
            "grid_template_rows": null,
            "height": null,
            "justify_content": null,
            "justify_items": null,
            "left": null,
            "margin": null,
            "max_height": null,
            "max_width": null,
            "min_height": null,
            "min_width": null,
            "object_fit": null,
            "object_position": null,
            "order": null,
            "overflow": null,
            "overflow_x": null,
            "overflow_y": null,
            "padding": null,
            "right": null,
            "top": null,
            "visibility": null,
            "width": null
          }
        },
        "2b51bcad77e149a399fc7249635184d6": {
          "model_module": "@jupyter-widgets/base",
          "model_name": "LayoutModel",
          "model_module_version": "1.2.0",
          "state": {
            "_model_module": "@jupyter-widgets/base",
            "_model_module_version": "1.2.0",
            "_model_name": "LayoutModel",
            "_view_count": null,
            "_view_module": "@jupyter-widgets/base",
            "_view_module_version": "1.2.0",
            "_view_name": "LayoutView",
            "align_content": null,
            "align_items": null,
            "align_self": null,
            "border": null,
            "bottom": null,
            "display": null,
            "flex": null,
            "flex_flow": null,
            "grid_area": null,
            "grid_auto_columns": null,
            "grid_auto_flow": null,
            "grid_auto_rows": null,
            "grid_column": null,
            "grid_gap": null,
            "grid_row": null,
            "grid_template_areas": null,
            "grid_template_columns": null,
            "grid_template_rows": null,
            "height": null,
            "justify_content": null,
            "justify_items": null,
            "left": null,
            "margin": null,
            "max_height": null,
            "max_width": null,
            "min_height": null,
            "min_width": null,
            "object_fit": null,
            "object_position": null,
            "order": null,
            "overflow": null,
            "overflow_x": null,
            "overflow_y": null,
            "padding": null,
            "right": null,
            "top": null,
            "visibility": null,
            "width": null
          }
        },
        "3a9288d046244e2387693729b61e2eee": {
          "model_module": "@jupyter-widgets/controls",
          "model_name": "DescriptionStyleModel",
          "model_module_version": "1.5.0",
          "state": {
            "_model_module": "@jupyter-widgets/controls",
            "_model_module_version": "1.5.0",
            "_model_name": "DescriptionStyleModel",
            "_view_count": null,
            "_view_module": "@jupyter-widgets/base",
            "_view_module_version": "1.2.0",
            "_view_name": "StyleView",
            "description_width": ""
          }
        },
        "7ae92fe31b674ef2a4df6c83f356cd95": {
          "model_module": "@jupyter-widgets/base",
          "model_name": "LayoutModel",
          "model_module_version": "1.2.0",
          "state": {
            "_model_module": "@jupyter-widgets/base",
            "_model_module_version": "1.2.0",
            "_model_name": "LayoutModel",
            "_view_count": null,
            "_view_module": "@jupyter-widgets/base",
            "_view_module_version": "1.2.0",
            "_view_name": "LayoutView",
            "align_content": null,
            "align_items": null,
            "align_self": null,
            "border": null,
            "bottom": null,
            "display": null,
            "flex": null,
            "flex_flow": null,
            "grid_area": null,
            "grid_auto_columns": null,
            "grid_auto_flow": null,
            "grid_auto_rows": null,
            "grid_column": null,
            "grid_gap": null,
            "grid_row": null,
            "grid_template_areas": null,
            "grid_template_columns": null,
            "grid_template_rows": null,
            "height": null,
            "justify_content": null,
            "justify_items": null,
            "left": null,
            "margin": null,
            "max_height": null,
            "max_width": null,
            "min_height": null,
            "min_width": null,
            "object_fit": null,
            "object_position": null,
            "order": null,
            "overflow": null,
            "overflow_x": null,
            "overflow_y": null,
            "padding": null,
            "right": null,
            "top": null,
            "visibility": null,
            "width": null
          }
        },
        "48c76f166d19483fabb6b5394950e73f": {
          "model_module": "@jupyter-widgets/controls",
          "model_name": "ProgressStyleModel",
          "model_module_version": "1.5.0",
          "state": {
            "_model_module": "@jupyter-widgets/controls",
            "_model_module_version": "1.5.0",
            "_model_name": "ProgressStyleModel",
            "_view_count": null,
            "_view_module": "@jupyter-widgets/base",
            "_view_module_version": "1.2.0",
            "_view_name": "StyleView",
            "bar_color": null,
            "description_width": ""
          }
        },
        "feb5d33d4f00432790d62c93fddb764d": {
          "model_module": "@jupyter-widgets/base",
          "model_name": "LayoutModel",
          "model_module_version": "1.2.0",
          "state": {
            "_model_module": "@jupyter-widgets/base",
            "_model_module_version": "1.2.0",
            "_model_name": "LayoutModel",
            "_view_count": null,
            "_view_module": "@jupyter-widgets/base",
            "_view_module_version": "1.2.0",
            "_view_name": "LayoutView",
            "align_content": null,
            "align_items": null,
            "align_self": null,
            "border": null,
            "bottom": null,
            "display": null,
            "flex": null,
            "flex_flow": null,
            "grid_area": null,
            "grid_auto_columns": null,
            "grid_auto_flow": null,
            "grid_auto_rows": null,
            "grid_column": null,
            "grid_gap": null,
            "grid_row": null,
            "grid_template_areas": null,
            "grid_template_columns": null,
            "grid_template_rows": null,
            "height": null,
            "justify_content": null,
            "justify_items": null,
            "left": null,
            "margin": null,
            "max_height": null,
            "max_width": null,
            "min_height": null,
            "min_width": null,
            "object_fit": null,
            "object_position": null,
            "order": null,
            "overflow": null,
            "overflow_x": null,
            "overflow_y": null,
            "padding": null,
            "right": null,
            "top": null,
            "visibility": null,
            "width": null
          }
        },
        "7313c3290ffc42908b2572a837a61d2d": {
          "model_module": "@jupyter-widgets/controls",
          "model_name": "DescriptionStyleModel",
          "model_module_version": "1.5.0",
          "state": {
            "_model_module": "@jupyter-widgets/controls",
            "_model_module_version": "1.5.0",
            "_model_name": "DescriptionStyleModel",
            "_view_count": null,
            "_view_module": "@jupyter-widgets/base",
            "_view_module_version": "1.2.0",
            "_view_name": "StyleView",
            "description_width": ""
          }
        },
        "9e3edbc4639d4067ae2847b1a1793c4a": {
          "model_module": "@jupyter-widgets/controls",
          "model_name": "HBoxModel",
          "model_module_version": "1.5.0",
          "state": {
            "_dom_classes": [],
            "_model_module": "@jupyter-widgets/controls",
            "_model_module_version": "1.5.0",
            "_model_name": "HBoxModel",
            "_view_count": null,
            "_view_module": "@jupyter-widgets/controls",
            "_view_module_version": "1.5.0",
            "_view_name": "HBoxView",
            "box_style": "",
            "children": [
              "IPY_MODEL_b67ed46fe4cf479fad6003f0d97571fd",
              "IPY_MODEL_879f0ece2fcc42b19ea8744a70b9216f",
              "IPY_MODEL_785b400cc17948b4b95574ea2bbffe05"
            ],
            "layout": "IPY_MODEL_7532dbb64d474fe1ad738e44832f4f3f"
          }
        },
        "b67ed46fe4cf479fad6003f0d97571fd": {
          "model_module": "@jupyter-widgets/controls",
          "model_name": "HTMLModel",
          "model_module_version": "1.5.0",
          "state": {
            "_dom_classes": [],
            "_model_module": "@jupyter-widgets/controls",
            "_model_module_version": "1.5.0",
            "_model_name": "HTMLModel",
            "_view_count": null,
            "_view_module": "@jupyter-widgets/controls",
            "_view_module_version": "1.5.0",
            "_view_name": "HTMLView",
            "description": "",
            "description_tooltip": null,
            "layout": "IPY_MODEL_b3bf597f88454c9eab6b0408ae91f1c4",
            "placeholder": "​",
            "style": "IPY_MODEL_56b6ba1b0e6340f2bd3e8f822a7f6837",
            "value": "Downloading: 100%"
          }
        },
        "879f0ece2fcc42b19ea8744a70b9216f": {
          "model_module": "@jupyter-widgets/controls",
          "model_name": "FloatProgressModel",
          "model_module_version": "1.5.0",
          "state": {
            "_dom_classes": [],
            "_model_module": "@jupyter-widgets/controls",
            "_model_module_version": "1.5.0",
            "_model_name": "FloatProgressModel",
            "_view_count": null,
            "_view_module": "@jupyter-widgets/controls",
            "_view_module_version": "1.5.0",
            "_view_name": "ProgressView",
            "bar_style": "success",
            "description": "",
            "description_tooltip": null,
            "layout": "IPY_MODEL_f0e3dafe330f4ec9af7f2aa969f79450",
            "max": 1980,
            "min": 0,
            "orientation": "horizontal",
            "style": "IPY_MODEL_ec1aeb3b620a4e759219cdee0eea280c",
            "value": 1980
          }
        },
        "785b400cc17948b4b95574ea2bbffe05": {
          "model_module": "@jupyter-widgets/controls",
          "model_name": "HTMLModel",
          "model_module_version": "1.5.0",
          "state": {
            "_dom_classes": [],
            "_model_module": "@jupyter-widgets/controls",
            "_model_module_version": "1.5.0",
            "_model_name": "HTMLModel",
            "_view_count": null,
            "_view_module": "@jupyter-widgets/controls",
            "_view_module_version": "1.5.0",
            "_view_name": "HTMLView",
            "description": "",
            "description_tooltip": null,
            "layout": "IPY_MODEL_154a62b78d944457bfa9d0594530b5a7",
            "placeholder": "​",
            "style": "IPY_MODEL_44a9533e7262493d819a5f0d160efdea",
            "value": " 1.98k/1.98k [00:00&lt;00:00, 62.5kB/s]"
          }
        },
        "7532dbb64d474fe1ad738e44832f4f3f": {
          "model_module": "@jupyter-widgets/base",
          "model_name": "LayoutModel",
          "model_module_version": "1.2.0",
          "state": {
            "_model_module": "@jupyter-widgets/base",
            "_model_module_version": "1.2.0",
            "_model_name": "LayoutModel",
            "_view_count": null,
            "_view_module": "@jupyter-widgets/base",
            "_view_module_version": "1.2.0",
            "_view_name": "LayoutView",
            "align_content": null,
            "align_items": null,
            "align_self": null,
            "border": null,
            "bottom": null,
            "display": null,
            "flex": null,
            "flex_flow": null,
            "grid_area": null,
            "grid_auto_columns": null,
            "grid_auto_flow": null,
            "grid_auto_rows": null,
            "grid_column": null,
            "grid_gap": null,
            "grid_row": null,
            "grid_template_areas": null,
            "grid_template_columns": null,
            "grid_template_rows": null,
            "height": null,
            "justify_content": null,
            "justify_items": null,
            "left": null,
            "margin": null,
            "max_height": null,
            "max_width": null,
            "min_height": null,
            "min_width": null,
            "object_fit": null,
            "object_position": null,
            "order": null,
            "overflow": null,
            "overflow_x": null,
            "overflow_y": null,
            "padding": null,
            "right": null,
            "top": null,
            "visibility": null,
            "width": null
          }
        },
        "b3bf597f88454c9eab6b0408ae91f1c4": {
          "model_module": "@jupyter-widgets/base",
          "model_name": "LayoutModel",
          "model_module_version": "1.2.0",
          "state": {
            "_model_module": "@jupyter-widgets/base",
            "_model_module_version": "1.2.0",
            "_model_name": "LayoutModel",
            "_view_count": null,
            "_view_module": "@jupyter-widgets/base",
            "_view_module_version": "1.2.0",
            "_view_name": "LayoutView",
            "align_content": null,
            "align_items": null,
            "align_self": null,
            "border": null,
            "bottom": null,
            "display": null,
            "flex": null,
            "flex_flow": null,
            "grid_area": null,
            "grid_auto_columns": null,
            "grid_auto_flow": null,
            "grid_auto_rows": null,
            "grid_column": null,
            "grid_gap": null,
            "grid_row": null,
            "grid_template_areas": null,
            "grid_template_columns": null,
            "grid_template_rows": null,
            "height": null,
            "justify_content": null,
            "justify_items": null,
            "left": null,
            "margin": null,
            "max_height": null,
            "max_width": null,
            "min_height": null,
            "min_width": null,
            "object_fit": null,
            "object_position": null,
            "order": null,
            "overflow": null,
            "overflow_x": null,
            "overflow_y": null,
            "padding": null,
            "right": null,
            "top": null,
            "visibility": null,
            "width": null
          }
        },
        "56b6ba1b0e6340f2bd3e8f822a7f6837": {
          "model_module": "@jupyter-widgets/controls",
          "model_name": "DescriptionStyleModel",
          "model_module_version": "1.5.0",
          "state": {
            "_model_module": "@jupyter-widgets/controls",
            "_model_module_version": "1.5.0",
            "_model_name": "DescriptionStyleModel",
            "_view_count": null,
            "_view_module": "@jupyter-widgets/base",
            "_view_module_version": "1.2.0",
            "_view_name": "StyleView",
            "description_width": ""
          }
        },
        "f0e3dafe330f4ec9af7f2aa969f79450": {
          "model_module": "@jupyter-widgets/base",
          "model_name": "LayoutModel",
          "model_module_version": "1.2.0",
          "state": {
            "_model_module": "@jupyter-widgets/base",
            "_model_module_version": "1.2.0",
            "_model_name": "LayoutModel",
            "_view_count": null,
            "_view_module": "@jupyter-widgets/base",
            "_view_module_version": "1.2.0",
            "_view_name": "LayoutView",
            "align_content": null,
            "align_items": null,
            "align_self": null,
            "border": null,
            "bottom": null,
            "display": null,
            "flex": null,
            "flex_flow": null,
            "grid_area": null,
            "grid_auto_columns": null,
            "grid_auto_flow": null,
            "grid_auto_rows": null,
            "grid_column": null,
            "grid_gap": null,
            "grid_row": null,
            "grid_template_areas": null,
            "grid_template_columns": null,
            "grid_template_rows": null,
            "height": null,
            "justify_content": null,
            "justify_items": null,
            "left": null,
            "margin": null,
            "max_height": null,
            "max_width": null,
            "min_height": null,
            "min_width": null,
            "object_fit": null,
            "object_position": null,
            "order": null,
            "overflow": null,
            "overflow_x": null,
            "overflow_y": null,
            "padding": null,
            "right": null,
            "top": null,
            "visibility": null,
            "width": null
          }
        },
        "ec1aeb3b620a4e759219cdee0eea280c": {
          "model_module": "@jupyter-widgets/controls",
          "model_name": "ProgressStyleModel",
          "model_module_version": "1.5.0",
          "state": {
            "_model_module": "@jupyter-widgets/controls",
            "_model_module_version": "1.5.0",
            "_model_name": "ProgressStyleModel",
            "_view_count": null,
            "_view_module": "@jupyter-widgets/base",
            "_view_module_version": "1.2.0",
            "_view_name": "StyleView",
            "bar_color": null,
            "description_width": ""
          }
        },
        "154a62b78d944457bfa9d0594530b5a7": {
          "model_module": "@jupyter-widgets/base",
          "model_name": "LayoutModel",
          "model_module_version": "1.2.0",
          "state": {
            "_model_module": "@jupyter-widgets/base",
            "_model_module_version": "1.2.0",
            "_model_name": "LayoutModel",
            "_view_count": null,
            "_view_module": "@jupyter-widgets/base",
            "_view_module_version": "1.2.0",
            "_view_name": "LayoutView",
            "align_content": null,
            "align_items": null,
            "align_self": null,
            "border": null,
            "bottom": null,
            "display": null,
            "flex": null,
            "flex_flow": null,
            "grid_area": null,
            "grid_auto_columns": null,
            "grid_auto_flow": null,
            "grid_auto_rows": null,
            "grid_column": null,
            "grid_gap": null,
            "grid_row": null,
            "grid_template_areas": null,
            "grid_template_columns": null,
            "grid_template_rows": null,
            "height": null,
            "justify_content": null,
            "justify_items": null,
            "left": null,
            "margin": null,
            "max_height": null,
            "max_width": null,
            "min_height": null,
            "min_width": null,
            "object_fit": null,
            "object_position": null,
            "order": null,
            "overflow": null,
            "overflow_x": null,
            "overflow_y": null,
            "padding": null,
            "right": null,
            "top": null,
            "visibility": null,
            "width": null
          }
        },
        "44a9533e7262493d819a5f0d160efdea": {
          "model_module": "@jupyter-widgets/controls",
          "model_name": "DescriptionStyleModel",
          "model_module_version": "1.5.0",
          "state": {
            "_model_module": "@jupyter-widgets/controls",
            "_model_module_version": "1.5.0",
            "_model_name": "DescriptionStyleModel",
            "_view_count": null,
            "_view_module": "@jupyter-widgets/base",
            "_view_module_version": "1.2.0",
            "_view_name": "StyleView",
            "description_width": ""
          }
        },
        "0fa51bf36194459abfc5591dcd41a372": {
          "model_module": "@jupyter-widgets/controls",
          "model_name": "HBoxModel",
          "model_module_version": "1.5.0",
          "state": {
            "_dom_classes": [],
            "_model_module": "@jupyter-widgets/controls",
            "_model_module_version": "1.5.0",
            "_model_name": "HBoxModel",
            "_view_count": null,
            "_view_module": "@jupyter-widgets/controls",
            "_view_module_version": "1.5.0",
            "_view_name": "HBoxView",
            "box_style": "",
            "children": [
              "IPY_MODEL_e1d467edf77a4a1ebdad2b534abe98ce",
              "IPY_MODEL_e0fee1b8461844d69d233abd89f36a02",
              "IPY_MODEL_71b6a877bbec4e14b8a0aabfa97a0793"
            ],
            "layout": "IPY_MODEL_de9d580573c54390a4c6455b18200d93"
          }
        },
        "e1d467edf77a4a1ebdad2b534abe98ce": {
          "model_module": "@jupyter-widgets/controls",
          "model_name": "HTMLModel",
          "model_module_version": "1.5.0",
          "state": {
            "_dom_classes": [],
            "_model_module": "@jupyter-widgets/controls",
            "_model_module_version": "1.5.0",
            "_model_name": "HTMLModel",
            "_view_count": null,
            "_view_module": "@jupyter-widgets/controls",
            "_view_module_version": "1.5.0",
            "_view_name": "HTMLView",
            "description": "",
            "description_tooltip": null,
            "layout": "IPY_MODEL_e0691b64bce64ef88defa9a6ecf8ee14",
            "placeholder": "​",
            "style": "IPY_MODEL_dba24af17b92492797c98f10db3246a2",
            "value": "Downloading: 100%"
          }
        },
        "e0fee1b8461844d69d233abd89f36a02": {
          "model_module": "@jupyter-widgets/controls",
          "model_name": "FloatProgressModel",
          "model_module_version": "1.5.0",
          "state": {
            "_dom_classes": [],
            "_model_module": "@jupyter-widgets/controls",
            "_model_module_version": "1.5.0",
            "_model_name": "FloatProgressModel",
            "_view_count": null,
            "_view_module": "@jupyter-widgets/controls",
            "_view_module_version": "1.5.0",
            "_view_name": "ProgressView",
            "bar_style": "success",
            "description": "",
            "description_tooltip": null,
            "layout": "IPY_MODEL_8ed85b1d1d154be7821b25751991d91a",
            "max": 96383626,
            "min": 0,
            "orientation": "horizontal",
            "style": "IPY_MODEL_3ece5bb620ec4db49a5d130dcd060779",
            "value": 96383626
          }
        },
        "71b6a877bbec4e14b8a0aabfa97a0793": {
          "model_module": "@jupyter-widgets/controls",
          "model_name": "HTMLModel",
          "model_module_version": "1.5.0",
          "state": {
            "_dom_classes": [],
            "_model_module": "@jupyter-widgets/controls",
            "_model_module_version": "1.5.0",
            "_model_name": "HTMLModel",
            "_view_count": null,
            "_view_module": "@jupyter-widgets/controls",
            "_view_module_version": "1.5.0",
            "_view_name": "HTMLView",
            "description": "",
            "description_tooltip": null,
            "layout": "IPY_MODEL_598ea71e5de840b8a1474a02e456c338",
            "placeholder": "​",
            "style": "IPY_MODEL_5620e783d6b84eb7a4e2600e6073c732",
            "value": " 96.4M/96.4M [00:01&lt;00:00, 57.5MB/s]"
          }
        },
        "de9d580573c54390a4c6455b18200d93": {
          "model_module": "@jupyter-widgets/base",
          "model_name": "LayoutModel",
          "model_module_version": "1.2.0",
          "state": {
            "_model_module": "@jupyter-widgets/base",
            "_model_module_version": "1.2.0",
            "_model_name": "LayoutModel",
            "_view_count": null,
            "_view_module": "@jupyter-widgets/base",
            "_view_module_version": "1.2.0",
            "_view_name": "LayoutView",
            "align_content": null,
            "align_items": null,
            "align_self": null,
            "border": null,
            "bottom": null,
            "display": null,
            "flex": null,
            "flex_flow": null,
            "grid_area": null,
            "grid_auto_columns": null,
            "grid_auto_flow": null,
            "grid_auto_rows": null,
            "grid_column": null,
            "grid_gap": null,
            "grid_row": null,
            "grid_template_areas": null,
            "grid_template_columns": null,
            "grid_template_rows": null,
            "height": null,
            "justify_content": null,
            "justify_items": null,
            "left": null,
            "margin": null,
            "max_height": null,
            "max_width": null,
            "min_height": null,
            "min_width": null,
            "object_fit": null,
            "object_position": null,
            "order": null,
            "overflow": null,
            "overflow_x": null,
            "overflow_y": null,
            "padding": null,
            "right": null,
            "top": null,
            "visibility": null,
            "width": null
          }
        },
        "e0691b64bce64ef88defa9a6ecf8ee14": {
          "model_module": "@jupyter-widgets/base",
          "model_name": "LayoutModel",
          "model_module_version": "1.2.0",
          "state": {
            "_model_module": "@jupyter-widgets/base",
            "_model_module_version": "1.2.0",
            "_model_name": "LayoutModel",
            "_view_count": null,
            "_view_module": "@jupyter-widgets/base",
            "_view_module_version": "1.2.0",
            "_view_name": "LayoutView",
            "align_content": null,
            "align_items": null,
            "align_self": null,
            "border": null,
            "bottom": null,
            "display": null,
            "flex": null,
            "flex_flow": null,
            "grid_area": null,
            "grid_auto_columns": null,
            "grid_auto_flow": null,
            "grid_auto_rows": null,
            "grid_column": null,
            "grid_gap": null,
            "grid_row": null,
            "grid_template_areas": null,
            "grid_template_columns": null,
            "grid_template_rows": null,
            "height": null,
            "justify_content": null,
            "justify_items": null,
            "left": null,
            "margin": null,
            "max_height": null,
            "max_width": null,
            "min_height": null,
            "min_width": null,
            "object_fit": null,
            "object_position": null,
            "order": null,
            "overflow": null,
            "overflow_x": null,
            "overflow_y": null,
            "padding": null,
            "right": null,
            "top": null,
            "visibility": null,
            "width": null
          }
        },
        "dba24af17b92492797c98f10db3246a2": {
          "model_module": "@jupyter-widgets/controls",
          "model_name": "DescriptionStyleModel",
          "model_module_version": "1.5.0",
          "state": {
            "_model_module": "@jupyter-widgets/controls",
            "_model_module_version": "1.5.0",
            "_model_name": "DescriptionStyleModel",
            "_view_count": null,
            "_view_module": "@jupyter-widgets/base",
            "_view_module_version": "1.2.0",
            "_view_name": "StyleView",
            "description_width": ""
          }
        },
        "8ed85b1d1d154be7821b25751991d91a": {
          "model_module": "@jupyter-widgets/base",
          "model_name": "LayoutModel",
          "model_module_version": "1.2.0",
          "state": {
            "_model_module": "@jupyter-widgets/base",
            "_model_module_version": "1.2.0",
            "_model_name": "LayoutModel",
            "_view_count": null,
            "_view_module": "@jupyter-widgets/base",
            "_view_module_version": "1.2.0",
            "_view_name": "LayoutView",
            "align_content": null,
            "align_items": null,
            "align_self": null,
            "border": null,
            "bottom": null,
            "display": null,
            "flex": null,
            "flex_flow": null,
            "grid_area": null,
            "grid_auto_columns": null,
            "grid_auto_flow": null,
            "grid_auto_rows": null,
            "grid_column": null,
            "grid_gap": null,
            "grid_row": null,
            "grid_template_areas": null,
            "grid_template_columns": null,
            "grid_template_rows": null,
            "height": null,
            "justify_content": null,
            "justify_items": null,
            "left": null,
            "margin": null,
            "max_height": null,
            "max_width": null,
            "min_height": null,
            "min_width": null,
            "object_fit": null,
            "object_position": null,
            "order": null,
            "overflow": null,
            "overflow_x": null,
            "overflow_y": null,
            "padding": null,
            "right": null,
            "top": null,
            "visibility": null,
            "width": null
          }
        },
        "3ece5bb620ec4db49a5d130dcd060779": {
          "model_module": "@jupyter-widgets/controls",
          "model_name": "ProgressStyleModel",
          "model_module_version": "1.5.0",
          "state": {
            "_model_module": "@jupyter-widgets/controls",
            "_model_module_version": "1.5.0",
            "_model_name": "ProgressStyleModel",
            "_view_count": null,
            "_view_module": "@jupyter-widgets/base",
            "_view_module_version": "1.2.0",
            "_view_name": "StyleView",
            "bar_color": null,
            "description_width": ""
          }
        },
        "598ea71e5de840b8a1474a02e456c338": {
          "model_module": "@jupyter-widgets/base",
          "model_name": "LayoutModel",
          "model_module_version": "1.2.0",
          "state": {
            "_model_module": "@jupyter-widgets/base",
            "_model_module_version": "1.2.0",
            "_model_name": "LayoutModel",
            "_view_count": null,
            "_view_module": "@jupyter-widgets/base",
            "_view_module_version": "1.2.0",
            "_view_name": "LayoutView",
            "align_content": null,
            "align_items": null,
            "align_self": null,
            "border": null,
            "bottom": null,
            "display": null,
            "flex": null,
            "flex_flow": null,
            "grid_area": null,
            "grid_auto_columns": null,
            "grid_auto_flow": null,
            "grid_auto_rows": null,
            "grid_column": null,
            "grid_gap": null,
            "grid_row": null,
            "grid_template_areas": null,
            "grid_template_columns": null,
            "grid_template_rows": null,
            "height": null,
            "justify_content": null,
            "justify_items": null,
            "left": null,
            "margin": null,
            "max_height": null,
            "max_width": null,
            "min_height": null,
            "min_width": null,
            "object_fit": null,
            "object_position": null,
            "order": null,
            "overflow": null,
            "overflow_x": null,
            "overflow_y": null,
            "padding": null,
            "right": null,
            "top": null,
            "visibility": null,
            "width": null
          }
        },
        "5620e783d6b84eb7a4e2600e6073c732": {
          "model_module": "@jupyter-widgets/controls",
          "model_name": "DescriptionStyleModel",
          "model_module_version": "1.5.0",
          "state": {
            "_model_module": "@jupyter-widgets/controls",
            "_model_module_version": "1.5.0",
            "_model_name": "DescriptionStyleModel",
            "_view_count": null,
            "_view_module": "@jupyter-widgets/base",
            "_view_module_version": "1.2.0",
            "_view_name": "StyleView",
            "description_width": ""
          }
        },
        "2a2119538197455cb616eaa10fa00516": {
          "model_module": "@jupyter-widgets/controls",
          "model_name": "HBoxModel",
          "model_module_version": "1.5.0",
          "state": {
            "_dom_classes": [],
            "_model_module": "@jupyter-widgets/controls",
            "_model_module_version": "1.5.0",
            "_model_name": "HBoxModel",
            "_view_count": null,
            "_view_module": "@jupyter-widgets/controls",
            "_view_module_version": "1.5.0",
            "_view_name": "HBoxView",
            "box_style": "",
            "children": [
              "IPY_MODEL_0e1108d406ba4a00b5bc3fea21e06be4",
              "IPY_MODEL_859b6cdf59e64f62962a8327df1ab18a",
              "IPY_MODEL_6bc080f2d152457ea3c3a62bad3eb2af"
            ],
            "layout": "IPY_MODEL_8e8ce700a7204f99a61fbcb61ed735ca"
          }
        },
        "0e1108d406ba4a00b5bc3fea21e06be4": {
          "model_module": "@jupyter-widgets/controls",
          "model_name": "HTMLModel",
          "model_module_version": "1.5.0",
          "state": {
            "_dom_classes": [],
            "_model_module": "@jupyter-widgets/controls",
            "_model_module_version": "1.5.0",
            "_model_name": "HTMLModel",
            "_view_count": null,
            "_view_module": "@jupyter-widgets/controls",
            "_view_module_version": "1.5.0",
            "_view_name": "HTMLView",
            "description": "",
            "description_tooltip": null,
            "layout": "IPY_MODEL_32054351474e46a5b8b6fd4017b96375",
            "placeholder": "​",
            "style": "IPY_MODEL_688cb02fa9324743b803d223ffeb1157",
            "value": "Downloading: 100%"
          }
        },
        "859b6cdf59e64f62962a8327df1ab18a": {
          "model_module": "@jupyter-widgets/controls",
          "model_name": "FloatProgressModel",
          "model_module_version": "1.5.0",
          "state": {
            "_dom_classes": [],
            "_model_module": "@jupyter-widgets/controls",
            "_model_module_version": "1.5.0",
            "_model_name": "FloatProgressModel",
            "_view_count": null,
            "_view_module": "@jupyter-widgets/controls",
            "_view_module_version": "1.5.0",
            "_view_name": "ProgressView",
            "bar_style": "success",
            "description": "",
            "description_tooltip": null,
            "layout": "IPY_MODEL_b1490170d994449084cd4e1bdc3f347c",
            "max": 1996,
            "min": 0,
            "orientation": "horizontal",
            "style": "IPY_MODEL_1f908699afaa42098531a44fad3f95f8",
            "value": 1996
          }
        },
        "6bc080f2d152457ea3c3a62bad3eb2af": {
          "model_module": "@jupyter-widgets/controls",
          "model_name": "HTMLModel",
          "model_module_version": "1.5.0",
          "state": {
            "_dom_classes": [],
            "_model_module": "@jupyter-widgets/controls",
            "_model_module_version": "1.5.0",
            "_model_name": "HTMLModel",
            "_view_count": null,
            "_view_module": "@jupyter-widgets/controls",
            "_view_module_version": "1.5.0",
            "_view_name": "HTMLView",
            "description": "",
            "description_tooltip": null,
            "layout": "IPY_MODEL_fa8cbc86177d4cf5af6cd333e8f8f63f",
            "placeholder": "​",
            "style": "IPY_MODEL_ecfb6d0c646149da89c0e5376200bc5a",
            "value": " 2.00k/2.00k [00:00&lt;00:00, 53.1kB/s]"
          }
        },
        "8e8ce700a7204f99a61fbcb61ed735ca": {
          "model_module": "@jupyter-widgets/base",
          "model_name": "LayoutModel",
          "model_module_version": "1.2.0",
          "state": {
            "_model_module": "@jupyter-widgets/base",
            "_model_module_version": "1.2.0",
            "_model_name": "LayoutModel",
            "_view_count": null,
            "_view_module": "@jupyter-widgets/base",
            "_view_module_version": "1.2.0",
            "_view_name": "LayoutView",
            "align_content": null,
            "align_items": null,
            "align_self": null,
            "border": null,
            "bottom": null,
            "display": null,
            "flex": null,
            "flex_flow": null,
            "grid_area": null,
            "grid_auto_columns": null,
            "grid_auto_flow": null,
            "grid_auto_rows": null,
            "grid_column": null,
            "grid_gap": null,
            "grid_row": null,
            "grid_template_areas": null,
            "grid_template_columns": null,
            "grid_template_rows": null,
            "height": null,
            "justify_content": null,
            "justify_items": null,
            "left": null,
            "margin": null,
            "max_height": null,
            "max_width": null,
            "min_height": null,
            "min_width": null,
            "object_fit": null,
            "object_position": null,
            "order": null,
            "overflow": null,
            "overflow_x": null,
            "overflow_y": null,
            "padding": null,
            "right": null,
            "top": null,
            "visibility": null,
            "width": null
          }
        },
        "32054351474e46a5b8b6fd4017b96375": {
          "model_module": "@jupyter-widgets/base",
          "model_name": "LayoutModel",
          "model_module_version": "1.2.0",
          "state": {
            "_model_module": "@jupyter-widgets/base",
            "_model_module_version": "1.2.0",
            "_model_name": "LayoutModel",
            "_view_count": null,
            "_view_module": "@jupyter-widgets/base",
            "_view_module_version": "1.2.0",
            "_view_name": "LayoutView",
            "align_content": null,
            "align_items": null,
            "align_self": null,
            "border": null,
            "bottom": null,
            "display": null,
            "flex": null,
            "flex_flow": null,
            "grid_area": null,
            "grid_auto_columns": null,
            "grid_auto_flow": null,
            "grid_auto_rows": null,
            "grid_column": null,
            "grid_gap": null,
            "grid_row": null,
            "grid_template_areas": null,
            "grid_template_columns": null,
            "grid_template_rows": null,
            "height": null,
            "justify_content": null,
            "justify_items": null,
            "left": null,
            "margin": null,
            "max_height": null,
            "max_width": null,
            "min_height": null,
            "min_width": null,
            "object_fit": null,
            "object_position": null,
            "order": null,
            "overflow": null,
            "overflow_x": null,
            "overflow_y": null,
            "padding": null,
            "right": null,
            "top": null,
            "visibility": null,
            "width": null
          }
        },
        "688cb02fa9324743b803d223ffeb1157": {
          "model_module": "@jupyter-widgets/controls",
          "model_name": "DescriptionStyleModel",
          "model_module_version": "1.5.0",
          "state": {
            "_model_module": "@jupyter-widgets/controls",
            "_model_module_version": "1.5.0",
            "_model_name": "DescriptionStyleModel",
            "_view_count": null,
            "_view_module": "@jupyter-widgets/base",
            "_view_module_version": "1.2.0",
            "_view_name": "StyleView",
            "description_width": ""
          }
        },
        "b1490170d994449084cd4e1bdc3f347c": {
          "model_module": "@jupyter-widgets/base",
          "model_name": "LayoutModel",
          "model_module_version": "1.2.0",
          "state": {
            "_model_module": "@jupyter-widgets/base",
            "_model_module_version": "1.2.0",
            "_model_name": "LayoutModel",
            "_view_count": null,
            "_view_module": "@jupyter-widgets/base",
            "_view_module_version": "1.2.0",
            "_view_name": "LayoutView",
            "align_content": null,
            "align_items": null,
            "align_self": null,
            "border": null,
            "bottom": null,
            "display": null,
            "flex": null,
            "flex_flow": null,
            "grid_area": null,
            "grid_auto_columns": null,
            "grid_auto_flow": null,
            "grid_auto_rows": null,
            "grid_column": null,
            "grid_gap": null,
            "grid_row": null,
            "grid_template_areas": null,
            "grid_template_columns": null,
            "grid_template_rows": null,
            "height": null,
            "justify_content": null,
            "justify_items": null,
            "left": null,
            "margin": null,
            "max_height": null,
            "max_width": null,
            "min_height": null,
            "min_width": null,
            "object_fit": null,
            "object_position": null,
            "order": null,
            "overflow": null,
            "overflow_x": null,
            "overflow_y": null,
            "padding": null,
            "right": null,
            "top": null,
            "visibility": null,
            "width": null
          }
        },
        "1f908699afaa42098531a44fad3f95f8": {
          "model_module": "@jupyter-widgets/controls",
          "model_name": "ProgressStyleModel",
          "model_module_version": "1.5.0",
          "state": {
            "_model_module": "@jupyter-widgets/controls",
            "_model_module_version": "1.5.0",
            "_model_name": "ProgressStyleModel",
            "_view_count": null,
            "_view_module": "@jupyter-widgets/base",
            "_view_module_version": "1.2.0",
            "_view_name": "StyleView",
            "bar_color": null,
            "description_width": ""
          }
        },
        "fa8cbc86177d4cf5af6cd333e8f8f63f": {
          "model_module": "@jupyter-widgets/base",
          "model_name": "LayoutModel",
          "model_module_version": "1.2.0",
          "state": {
            "_model_module": "@jupyter-widgets/base",
            "_model_module_version": "1.2.0",
            "_model_name": "LayoutModel",
            "_view_count": null,
            "_view_module": "@jupyter-widgets/base",
            "_view_module_version": "1.2.0",
            "_view_name": "LayoutView",
            "align_content": null,
            "align_items": null,
            "align_self": null,
            "border": null,
            "bottom": null,
            "display": null,
            "flex": null,
            "flex_flow": null,
            "grid_area": null,
            "grid_auto_columns": null,
            "grid_auto_flow": null,
            "grid_auto_rows": null,
            "grid_column": null,
            "grid_gap": null,
            "grid_row": null,
            "grid_template_areas": null,
            "grid_template_columns": null,
            "grid_template_rows": null,
            "height": null,
            "justify_content": null,
            "justify_items": null,
            "left": null,
            "margin": null,
            "max_height": null,
            "max_width": null,
            "min_height": null,
            "min_width": null,
            "object_fit": null,
            "object_position": null,
            "order": null,
            "overflow": null,
            "overflow_x": null,
            "overflow_y": null,
            "padding": null,
            "right": null,
            "top": null,
            "visibility": null,
            "width": null
          }
        },
        "ecfb6d0c646149da89c0e5376200bc5a": {
          "model_module": "@jupyter-widgets/controls",
          "model_name": "DescriptionStyleModel",
          "model_module_version": "1.5.0",
          "state": {
            "_model_module": "@jupyter-widgets/controls",
            "_model_module_version": "1.5.0",
            "_model_name": "DescriptionStyleModel",
            "_view_count": null,
            "_view_module": "@jupyter-widgets/base",
            "_view_module_version": "1.2.0",
            "_view_name": "StyleView",
            "description_width": ""
          }
        }
      }
    }
  },
  "cells": [
    {
      "cell_type": "code",
      "source": [
        "from google.colab import drive\n",
        "drive.mount('/content/drive')"
      ],
      "metadata": {
        "colab": {
          "base_uri": "https://localhost:8080/"
        },
        "id": "05_vlg08wzGK",
        "outputId": "cb1ace3b-0871-448e-f8c6-c5fd9eb985c6"
      },
      "execution_count": 1,
      "outputs": [
        {
          "output_type": "stream",
          "name": "stdout",
          "text": [
            "Mounted at /content/drive\n"
          ]
        }
      ]
    },
    {
      "cell_type": "code",
      "source": [
        "!cp /content/drive/MyDrive/vox1_test_txt.zip /content"
      ],
      "metadata": {
        "id": "Fdv9DWEDN1as"
      },
      "execution_count": 2,
      "outputs": []
    },
    {
      "cell_type": "code",
      "source": [
        "!cp -r /content/drive/MyDrive/HSE_proj/speaker-diarization /content/ "
      ],
      "metadata": {
        "id": "1YKYeo8fYa81"
      },
      "execution_count": 3,
      "outputs": []
    },
    {
      "cell_type": "code",
      "source": [
        "!cp /content/drive/MyDrive/online_clustering.py /content/speaker-diarization/"
      ],
      "metadata": {
        "id": "9bSm3-3cz6jO",
        "colab": {
          "base_uri": "https://localhost:8080/"
        },
        "outputId": "3532d1e7-d270-4d96-c098-4cfe2703dd45"
      },
      "execution_count": 4,
      "outputs": [
        {
          "output_type": "stream",
          "name": "stdout",
          "text": [
            "cp: cannot stat '/content/drive/MyDrive/online_clustering.py': No such file or directory\n"
          ]
        }
      ]
    },
    {
      "cell_type": "code",
      "source": [
        "# !unzip /content/vox1_test_txt.zip"
      ],
      "metadata": {
        "id": "qIlmTgK2N-L8"
      },
      "execution_count": 5,
      "outputs": []
    },
    {
      "cell_type": "code",
      "source": [
        "!cp -r /content/drive/MyDrive/HSE_proj/voiceid /content/"
      ],
      "metadata": {
        "id": "eWQqcSUZCrJV"
      },
      "execution_count": 6,
      "outputs": []
    },
    {
      "cell_type": "code",
      "source": [
        "!rm -r /content/voiceid/embeddings/clova/voxceleb_trainer/"
      ],
      "metadata": {
        "id": "KnuU_-qoGF-F"
      },
      "execution_count": 7,
      "outputs": []
    },
    {
      "cell_type": "code",
      "source": [
        "!rm -r /content/voiceid/embeddings/speechbrain/"
      ],
      "metadata": {
        "id": "nUhKUA-SIj4k"
      },
      "execution_count": 8,
      "outputs": []
    },
    {
      "cell_type": "code",
      "source": [
        "%cd /content/voiceid/"
      ],
      "metadata": {
        "colab": {
          "base_uri": "https://localhost:8080/"
        },
        "id": "9t1u_sDJD6f6",
        "outputId": "f6e495ac-ffc6-4b8c-df41-d4f5e804331d"
      },
      "execution_count": 9,
      "outputs": [
        {
          "output_type": "stream",
          "name": "stdout",
          "text": [
            "/content/voiceid\n"
          ]
        }
      ]
    },
    {
      "cell_type": "code",
      "source": [
        "!bash download.sh"
      ],
      "metadata": {
        "id": "yym_oRqxwz4x"
      },
      "execution_count": null,
      "outputs": []
    },
    {
      "cell_type": "code",
      "source": [
        "!pip install onnxruntime"
      ],
      "metadata": {
        "id": "Gvam2zBzAvgS"
      },
      "execution_count": null,
      "outputs": []
    },
    {
      "cell_type": "code",
      "source": [
        "# ! python3 test_embeddings_voxceleb.py"
      ],
      "metadata": {
        "id": "0GpyxfiUAvdT"
      },
      "execution_count": 12,
      "outputs": []
    },
    {
      "cell_type": "code",
      "source": [
        "%cd .."
      ],
      "metadata": {
        "colab": {
          "base_uri": "https://localhost:8080/"
        },
        "id": "lcwZud71plbl",
        "outputId": "aa3723b3-ec91-45f1-af1b-99449b489abd"
      },
      "execution_count": 12,
      "outputs": [
        {
          "output_type": "stream",
          "name": "stdout",
          "text": [
            "/content\n"
          ]
        }
      ]
    },
    {
      "cell_type": "code",
      "source": [
        "# !wget https://openslr.elda.org/resources/111/test.tar.gz"
      ],
      "metadata": {
        "id": "xjH7Nqr1YnQb"
      },
      "execution_count": 14,
      "outputs": []
    },
    {
      "cell_type": "code",
      "source": [
        "# !tar xvf  /content/test.tar.gz"
      ],
      "metadata": {
        "id": "fzwi9jjOab-b"
      },
      "execution_count": 15,
      "outputs": []
    },
    {
      "cell_type": "code",
      "source": [
        "# !pip install pyannote.metrics"
      ],
      "metadata": {
        "id": "BNgg8ninbj6o"
      },
      "execution_count": 16,
      "outputs": []
    },
    {
      "cell_type": "code",
      "source": [
        "# !pip install pyannote.core"
      ],
      "metadata": {
        "id": "Gdp24_8kb9Yt"
      },
      "execution_count": 17,
      "outputs": []
    },
    {
      "cell_type": "code",
      "source": [
        "# !pip install https://github.com/pyannote/pyannote-audio/archive/develop.zip"
      ],
      "metadata": {
        "id": "1031zXqc9IkL"
      },
      "execution_count": 18,
      "outputs": []
    },
    {
      "cell_type": "code",
      "source": [
        "# !wget https://www.robots.ox.ac.uk/~vgg/data/voxconverse/data/voxconverse_dev_wav.zip"
      ],
      "metadata": {
        "id": "bLA__-XIqmvm"
      },
      "execution_count": 19,
      "outputs": []
    },
    {
      "cell_type": "code",
      "source": [
        "# !unzip  /content/voxconverse_dev_wav.zip"
      ],
      "metadata": {
        "id": "3B90sgLbrEnF"
      },
      "execution_count": 20,
      "outputs": []
    },
    {
      "cell_type": "code",
      "source": [
        "!pip install git+https://github.com/pyannote/pyannote-core.git@develop;#egg=pyannote-audio\n"
      ],
      "metadata": {
        "id": "AJPJ4lVfrpO1"
      },
      "execution_count": null,
      "outputs": []
    },
    {
      "cell_type": "code",
      "source": [
        "!pip install git+https://github.com/pyannote/pyannote-audio.git@develop;#egg=pyannote-audio\n"
      ],
      "metadata": {
        "id": "XjtXIqL1P5rV"
      },
      "execution_count": null,
      "outputs": []
    },
    {
      "cell_type": "code",
      "source": [
        "%cd speaker-diarization/"
      ],
      "metadata": {
        "colab": {
          "base_uri": "https://localhost:8080/"
        },
        "id": "-IP5HXBf8_tm",
        "outputId": "9ec57c08-207e-41a9-e881-4bbf0d77e5dd"
      },
      "execution_count": 15,
      "outputs": [
        {
          "output_type": "stream",
          "name": "stdout",
          "text": [
            "/content/speaker-diarization\n"
          ]
        }
      ]
    },
    {
      "cell_type": "code",
      "source": [
        "!wget    -P /content/audio https://groups.inf.ed.ac.uk/ami/AMICorpusMirror//amicorpus/ES2011a/audio/ES2011a.Mix-Headset.wav\n",
        "!wget    -P /content/audio https://groups.inf.ed.ac.uk/ami/AMICorpusMirror//amicorpus/ES2011b/audio/ES2011b.Mix-Headset.wav\n",
        "!wget    -P /content/audio https://groups.inf.ed.ac.uk/ami/AMICorpusMirror//amicorpus/ES2011c/audio/ES2011c.Mix-Headset.wav\n",
        "!wget    -P /content/audio https://groups.inf.ed.ac.uk/ami/AMICorpusMirror//amicorpus/ES2011d/audio/ES2011d.Mix-Headset.wav\n",
        "!wget    -P /content/audio https://groups.inf.ed.ac.uk/ami/AMICorpusMirror//amicorpus/IS1008a/audio/IS1008a.Mix-Headset.wav\n",
        "!wget    -P /content/audio https://groups.inf.ed.ac.uk/ami/AMICorpusMirror//amicorpus/IS1008b/audio/IS1008b.Mix-Headset.wav\n",
        "!wget    -P /content/audio https://groups.inf.ed.ac.uk/ami/AMICorpusMirror//amicorpus/IS1008c/audio/IS1008c.Mix-Headset.wav\n",
        "!wget    -P /content/audio https://groups.inf.ed.ac.uk/ami/AMICorpusMirror//amicorpus/IS1008d/audio/IS1008d.Mix-Headset.wav\n",
        "!wget    -P /content/audio https://groups.inf.ed.ac.uk/ami/AMICorpusMirror//amicorpus/TS3004a/audio/TS3004a.Mix-Headset.wav\n",
        "!wget    -P /content/audio https://groups.inf.ed.ac.uk/ami/AMICorpusMirror//amicorpus/TS3004b/audio/TS3004b.Mix-Headset.wav\n",
        "!wget    -P /content/audio https://groups.inf.ed.ac.uk/ami/AMICorpusMirror//amicorpus/TS3004c/audio/TS3004c.Mix-Headset.wav\n",
        "!wget    -P /content/audio https://groups.inf.ed.ac.uk/ami/AMICorpusMirror//amicorpus/TS3004d/audio/TS3004d.Mix-Headset.wav\n",
        "!wget    -P /content/audio https://groups.inf.ed.ac.uk/ami/AMICorpusMirror//amicorpus/IB4001/audio/IB4001.Mix-Headset.wav\n",
        "!wget    -P /content/audio https://groups.inf.ed.ac.uk/ami/AMICorpusMirror//amicorpus/IB4002/audio/IB4002.Mix-Headset.wav\n",
        "!wget    -P /content/audio https://groups.inf.ed.ac.uk/ami/AMICorpusMirror//amicorpus/IB4003/audio/IB4003.Mix-Headset.wav\n",
        "!wget    -P /content/audio https://groups.inf.ed.ac.uk/ami/AMICorpusMirror//amicorpus/IB4004/audio/IB4004.Mix-Headset.wav\n",
        "!wget    -P /content/audio https://groups.inf.ed.ac.uk/ami/AMICorpusMirror//amicorpus/IB4010/audio/IB4010.Mix-Headset.wav\n",
        "!wget    -P /content/audio https://groups.inf.ed.ac.uk/ami/AMICorpusMirror//amicorpus/IB4011/audio/IB4011.Mix-Headset.wav\n"
      ],
      "metadata": {
        "id": "dWQHiOp2VERh"
      },
      "execution_count": null,
      "outputs": []
    },
    {
      "cell_type": "code",
      "source": [
        "%load_ext autoreload\n",
        "%autoreload 2"
      ],
      "metadata": {
        "id": "cHk2-vUonH89"
      },
      "execution_count": 17,
      "outputs": []
    },
    {
      "cell_type": "code",
      "source": [
        "from run_diarization import diarization1"
      ],
      "metadata": {
        "id": "6ktW6wdIFgiq"
      },
      "execution_count": 18,
      "outputs": []
    },
    {
      "cell_type": "code",
      "source": [
        "from run_diarization import diarization1\n",
        "\n",
        "diarization1(embedding='clova', clustering='online', dataset='AMI_dev', thr1=0.5)\n"
      ],
      "metadata": {
        "colab": {
          "base_uri": "https://localhost:8080/"
        },
        "id": "_UTcantcQYeg",
        "outputId": "7dadbf1d-f09a-454a-b384-fb08953f546c"
      },
      "execution_count": 24,
      "outputs": [
        {
          "output_type": "stream",
          "name": "stdout",
          "text": [
            "Embedding size is 512, encoder ASP.\n",
            "Not found in cache: 'cache/AMI_dev_emb-clova_vad-True_win-2.0_step-1.0.p'\n"
          ]
        },
        {
          "output_type": "stream",
          "name": "stderr",
          "text": [
            "100%|██████████| 18/18 [01:18<00:00,  4.38s/it]\n",
            "100%|██████████| 18/18 [00:17<00:00,  1.02it/s]\n"
          ]
        },
        {
          "output_type": "stream",
          "name": "stdout",
          "text": [
            "DER: 21.524412241269463%\n",
            "JER: 24.519148212959%\n",
            "DER: 7.922408534992933%\n",
            "JER: 11.724645201255427%\n",
            "DER: 6.113546116055843%\n",
            "JER: 9.281647935083537%\n",
            "6.113546116055843\n",
            "9.281647935083537\n"
          ]
        },
        {
          "output_type": "execute_result",
          "data": {
            "text/plain": [
              "(6.113546116055843, 9.281647935083537, 'ok')"
            ]
          },
          "metadata": {},
          "execution_count": 24
        }
      ]
    },
    {
      "cell_type": "code",
      "source": [
        "from run_diarization import diarization1\n",
        "\n",
        "for p in [0.5, 0.52, 0.54, 0.55, 0.6]:\n",
        "  diarization1(embedding='clova', clustering='online', dataset='AMI_dev', thr1=p)\n",
        "  print(p)\n",
        "  print()"
      ],
      "metadata": {
        "id": "LJ166RtQlOtR",
        "colab": {
          "base_uri": "https://localhost:8080/"
        },
        "outputId": "d6ded88e-ad73-4013-820e-2b10a7d3b298"
      },
      "execution_count": 25,
      "outputs": [
        {
          "output_type": "stream",
          "name": "stdout",
          "text": [
            "Embedding size is 512, encoder ASP.\n"
          ]
        },
        {
          "output_type": "stream",
          "name": "stderr",
          "text": [
            "100%|██████████| 18/18 [00:18<00:00,  1.00s/it]\n"
          ]
        },
        {
          "output_type": "stream",
          "name": "stdout",
          "text": [
            "6.113546116055843\n",
            "9.281647935083537\n",
            "0.5\n",
            "\n",
            "Embedding size is 512, encoder ASP.\n"
          ]
        },
        {
          "output_type": "stream",
          "name": "stderr",
          "text": [
            "100%|██████████| 18/18 [00:15<00:00,  1.15it/s]\n"
          ]
        },
        {
          "output_type": "stream",
          "name": "stdout",
          "text": [
            "4.928575546417504\n",
            "8.219934672430853\n",
            "0.52\n",
            "\n",
            "Embedding size is 512, encoder ASP.\n"
          ]
        },
        {
          "output_type": "stream",
          "name": "stderr",
          "text": [
            "100%|██████████| 18/18 [00:14<00:00,  1.26it/s]\n"
          ]
        },
        {
          "output_type": "stream",
          "name": "stdout",
          "text": [
            "4.850713526806838\n",
            "8.815325962200966\n",
            "0.54\n",
            "\n",
            "Embedding size is 512, encoder ASP.\n"
          ]
        },
        {
          "output_type": "stream",
          "name": "stderr",
          "text": [
            "100%|██████████| 18/18 [00:13<00:00,  1.38it/s]\n"
          ]
        },
        {
          "output_type": "stream",
          "name": "stdout",
          "text": [
            "6.398345611515534\n",
            "13.024009614320356\n",
            "0.55\n",
            "\n",
            "Embedding size is 512, encoder ASP.\n"
          ]
        },
        {
          "output_type": "stream",
          "name": "stderr",
          "text": [
            "100%|██████████| 18/18 [00:10<00:00,  1.65it/s]\n"
          ]
        },
        {
          "output_type": "stream",
          "name": "stdout",
          "text": [
            "6.174321555091837\n",
            "12.954820380468494\n",
            "0.6\n",
            "\n"
          ]
        }
      ]
    },
    {
      "cell_type": "code",
      "source": [
        "from run_diarization import diarization1\n",
        "\n",
        "for p in [0.6, 0.65, 0.7, 0.75, 0.78, 0.8, 0.82]:\n",
        "  diarization1(embedding='brno', clustering='online', dataset='AMI_dev', thr1=p)\n",
        "  print(p)\n",
        "  print()"
      ],
      "metadata": {
        "colab": {
          "base_uri": "https://localhost:8080/"
        },
        "id": "LdnC3OmolvQm",
        "outputId": "42b0d63d-770a-423a-92e4-0c6ba71dee65"
      },
      "execution_count": 28,
      "outputs": [
        {
          "output_type": "stream",
          "name": "stderr",
          "text": [
            "100%|██████████| 18/18 [00:24<00:00,  1.36s/it]\n"
          ]
        },
        {
          "output_type": "stream",
          "name": "stdout",
          "text": [
            "DER: 20.13218252820733%\n",
            "JER: 24.576915413141105%\n",
            "0.6\n",
            "\n"
          ]
        },
        {
          "output_type": "stream",
          "name": "stderr",
          "text": [
            "100%|██████████| 18/18 [00:17<00:00,  1.02it/s]\n"
          ]
        },
        {
          "output_type": "stream",
          "name": "stdout",
          "text": [
            "DER: 13.451514743889991%\n",
            "JER: 19.042758758192456%\n",
            "0.65\n",
            "\n"
          ]
        },
        {
          "output_type": "stream",
          "name": "stderr",
          "text": [
            "100%|██████████| 18/18 [00:13<00:00,  1.38it/s]\n"
          ]
        },
        {
          "output_type": "stream",
          "name": "stdout",
          "text": [
            "DER: 10.214047623402523%\n",
            "JER: 16.159980358696824%\n",
            "0.7\n",
            "\n"
          ]
        },
        {
          "output_type": "stream",
          "name": "stderr",
          "text": [
            "100%|██████████| 18/18 [00:10<00:00,  1.72it/s]\n"
          ]
        },
        {
          "output_type": "stream",
          "name": "stdout",
          "text": [
            "DER: 8.20711528741922%\n",
            "JER: 15.231172812413988%\n",
            "0.75\n",
            "\n"
          ]
        },
        {
          "output_type": "stream",
          "name": "stderr",
          "text": [
            "100%|██████████| 18/18 [00:09<00:00,  1.83it/s]\n"
          ]
        },
        {
          "output_type": "stream",
          "name": "stdout",
          "text": [
            "DER: 8.066139421403937%\n",
            "JER: 15.386526012065252%\n",
            "0.78\n",
            "\n"
          ]
        },
        {
          "output_type": "stream",
          "name": "stderr",
          "text": [
            "100%|██████████| 18/18 [00:09<00:00,  1.96it/s]\n"
          ]
        },
        {
          "output_type": "stream",
          "name": "stdout",
          "text": [
            "DER: 8.163287513668692%\n",
            "JER: 17.00639047637346%\n",
            "0.8\n",
            "\n"
          ]
        },
        {
          "output_type": "stream",
          "name": "stderr",
          "text": [
            "100%|██████████| 18/18 [00:08<00:00,  2.06it/s]\n"
          ]
        },
        {
          "output_type": "stream",
          "name": "stdout",
          "text": [
            "DER: 8.226957021230191%\n",
            "JER: 17.221014763339866%\n",
            "0.82\n",
            "\n"
          ]
        }
      ]
    },
    {
      "cell_type": "code",
      "source": [
        "diarization1(embedding='clova', clustering='links', dataset='AMI_dev', thr2=1.07, thr3=0.48, ps=1.2)"
      ],
      "metadata": {
        "id": "lueq3wxpIc7T"
      },
      "execution_count": null,
      "outputs": []
    },
    {
      "cell_type": "code",
      "source": [
        "diarization1(embedding='brno', clustering='links', dataset='AMI_dev', thr2=6, thr3=4, ps=4)"
      ],
      "metadata": {
        "colab": {
          "base_uri": "https://localhost:8080/",
          "height": 621
        },
        "id": "rRVwGPcCIor0",
        "outputId": "3ae3401d-444a-4c6a-90b2-04b2c0e63752"
      },
      "execution_count": 33,
      "outputs": [
        {
          "output_type": "stream",
          "name": "stderr",
          "text": [
            "  0%|          | 0/18 [00:00<?, ?it/s]"
          ]
        },
        {
          "output_type": "stream",
          "name": "stdout",
          "text": [
            "<links_cluster.Subcluster object at 0x7fcf9e0b2150>\n",
            "<links_cluster.Subcluster object at 0x7fcf9e0b2350>\n",
            "\n",
            "<links_cluster.Subcluster object at 0x7fcf9e0b2390>\n",
            "<links_cluster.Subcluster object at 0x7fcf9e0b2150>\n",
            "\n",
            "<links_cluster.Subcluster object at 0x7fcf9e0b27d0>\n",
            "None\n",
            "\n"
          ]
        },
        {
          "output_type": "stream",
          "name": "stderr",
          "text": [
            "\n"
          ]
        },
        {
          "output_type": "error",
          "ename": "AttributeError",
          "evalue": "ignored",
          "traceback": [
            "\u001b[0;31m---------------------------------------------------------------------------\u001b[0m",
            "\u001b[0;31mAttributeError\u001b[0m                            Traceback (most recent call last)",
            "\u001b[0;32m<ipython-input-33-caad2582770b>\u001b[0m in \u001b[0;36m<module>\u001b[0;34m()\u001b[0m\n\u001b[0;32m----> 1\u001b[0;31m \u001b[0mdiarization1\u001b[0m\u001b[0;34m(\u001b[0m\u001b[0membedding\u001b[0m\u001b[0;34m=\u001b[0m\u001b[0;34m'brno'\u001b[0m\u001b[0;34m,\u001b[0m \u001b[0mclustering\u001b[0m\u001b[0;34m=\u001b[0m\u001b[0;34m'links'\u001b[0m\u001b[0;34m,\u001b[0m \u001b[0mdataset\u001b[0m\u001b[0;34m=\u001b[0m\u001b[0;34m'AMI_dev'\u001b[0m\u001b[0;34m,\u001b[0m \u001b[0mthr2\u001b[0m\u001b[0;34m=\u001b[0m\u001b[0;36m6\u001b[0m\u001b[0;34m,\u001b[0m \u001b[0mthr3\u001b[0m\u001b[0;34m=\u001b[0m\u001b[0;36m4\u001b[0m\u001b[0;34m,\u001b[0m \u001b[0mps\u001b[0m\u001b[0;34m=\u001b[0m\u001b[0;36m4\u001b[0m\u001b[0;34m)\u001b[0m\u001b[0;34m\u001b[0m\u001b[0;34m\u001b[0m\u001b[0m\n\u001b[0m",
            "\u001b[0;32m/content/speaker-diarization/run_diarization.py\u001b[0m in \u001b[0;36mdiarization1\u001b[0;34m(embedding, clustering, dataset, thr1, thr2, thr3, ps)\u001b[0m\n\u001b[1;32m    256\u001b[0m           \u001b[0;32mif\u001b[0m \u001b[0mtime\u001b[0m\u001b[0;34m.\u001b[0m\u001b[0mtime\u001b[0m\u001b[0;34m(\u001b[0m\u001b[0;34m)\u001b[0m \u001b[0;34m-\u001b[0m \u001b[0mstart_time\u001b[0m \u001b[0;34m>\u001b[0m \u001b[0;36m20\u001b[0m\u001b[0;34m:\u001b[0m\u001b[0;34m\u001b[0m\u001b[0;34m\u001b[0m\u001b[0m\n\u001b[1;32m    257\u001b[0m             \u001b[0;32mreturn\u001b[0m \u001b[0;36m1000\u001b[0m\u001b[0;34m,\u001b[0m \u001b[0;36m1000\u001b[0m\u001b[0;34m,\u001b[0m \u001b[0;34m'bad'\u001b[0m\u001b[0;34m\u001b[0m\u001b[0;34m\u001b[0m\u001b[0m\n\u001b[0;32m--> 258\u001b[0;31m           \u001b[0mlabels\u001b[0m \u001b[0;34m+=\u001b[0m \u001b[0;34m[\u001b[0m\u001b[0mlinks_cluster\u001b[0m\u001b[0;34m.\u001b[0m\u001b[0mpredict\u001b[0m\u001b[0;34m(\u001b[0m\u001b[0membeddings\u001b[0m\u001b[0;34m[\u001b[0m\u001b[0mi\u001b[0m\u001b[0;34m]\u001b[0m\u001b[0;34m)\u001b[0m\u001b[0;34m]\u001b[0m\u001b[0;34m\u001b[0m\u001b[0;34m\u001b[0m\u001b[0m\n\u001b[0m\u001b[1;32m    259\u001b[0m         \u001b[0mann_hyp\u001b[0m \u001b[0;34m=\u001b[0m \u001b[0mAnnotation\u001b[0m\u001b[0;34m(\u001b[0m\u001b[0muri\u001b[0m\u001b[0;34m=\u001b[0m\u001b[0muri\u001b[0m\u001b[0;34m)\u001b[0m\u001b[0;34m\u001b[0m\u001b[0;34m\u001b[0m\u001b[0m\n\u001b[1;32m    260\u001b[0m         \u001b[0;32mfor\u001b[0m \u001b[0msegment\u001b[0m\u001b[0;34m,\u001b[0m \u001b[0mlabel\u001b[0m \u001b[0;32min\u001b[0m \u001b[0mzip\u001b[0m\u001b[0;34m(\u001b[0m\u001b[0msegments\u001b[0m\u001b[0;34m,\u001b[0m \u001b[0mlabels\u001b[0m\u001b[0;34m)\u001b[0m\u001b[0;34m:\u001b[0m\u001b[0;34m\u001b[0m\u001b[0;34m\u001b[0m\u001b[0m\n",
            "\u001b[0;32m/content/speaker-diarization/links_cluster.py\u001b[0m in \u001b[0;36mpredict\u001b[0;34m(self, new_vector)\u001b[0m\n\u001b[1;32m    102\u001b[0m             \u001b[0mprint\u001b[0m\u001b[0;34m(\u001b[0m\u001b[0mbest_subcluster\u001b[0m\u001b[0;34m)\u001b[0m\u001b[0;34m\u001b[0m\u001b[0;34m\u001b[0m\u001b[0m\n\u001b[1;32m    103\u001b[0m             \u001b[0mprint\u001b[0m\u001b[0;34m(\u001b[0m\u001b[0;34m)\u001b[0m\u001b[0;34m\u001b[0m\u001b[0;34m\u001b[0m\u001b[0m\n\u001b[0;32m--> 104\u001b[0;31m             \u001b[0mcossim\u001b[0m \u001b[0;34m=\u001b[0m \u001b[0;36m1.0\u001b[0m \u001b[0;34m-\u001b[0m \u001b[0mcosine\u001b[0m\u001b[0;34m(\u001b[0m\u001b[0mnew_subcluster\u001b[0m\u001b[0;34m.\u001b[0m\u001b[0mcentroid\u001b[0m\u001b[0;34m,\u001b[0m \u001b[0mbest_subcluster\u001b[0m\u001b[0;34m.\u001b[0m\u001b[0mcentroid\u001b[0m\u001b[0;34m)\u001b[0m\u001b[0;34m\u001b[0m\u001b[0;34m\u001b[0m\u001b[0m\n\u001b[0m\u001b[1;32m    105\u001b[0m             \u001b[0;32mif\u001b[0m \u001b[0mcossim\u001b[0m \u001b[0;34m>=\u001b[0m \u001b[0mself\u001b[0m\u001b[0;34m.\u001b[0m\u001b[0msim_threshold\u001b[0m\u001b[0;34m(\u001b[0m\u001b[0mbest_subcluster\u001b[0m\u001b[0;34m.\u001b[0m\u001b[0mn_vectors\u001b[0m\u001b[0;34m,\u001b[0m \u001b[0;36m1\u001b[0m\u001b[0;34m)\u001b[0m\u001b[0;34m:\u001b[0m  \u001b[0;31m# eq. (21)\u001b[0m\u001b[0;34m\u001b[0m\u001b[0;34m\u001b[0m\u001b[0m\n\u001b[1;32m    106\u001b[0m                 \u001b[0;31m# New subcluster is part of existing cluster\u001b[0m\u001b[0;34m\u001b[0m\u001b[0;34m\u001b[0m\u001b[0;34m\u001b[0m\u001b[0m\n",
            "\u001b[0;31mAttributeError\u001b[0m: 'NoneType' object has no attribute 'centroid'"
          ]
        }
      ]
    },
    {
      "cell_type": "code",
      "source": [
        "import numpy as np\n",
        "\n",
        "params1 = np.random.uniform(0.2,1.5,6)\n",
        "params2 = np.random.uniform(0.4,0.6,6)\n",
        "params3 = [1.1]\n",
        "curMin = 110\n",
        "besti1, besti2, besti3 = 0, 0, 0\n",
        "bestDer, bestJer = 0, 0\n",
        "for i1 in params1:\n",
        "  for i2 in params2:\n",
        "    if i2 < i1-0.2:\n",
        "      for i3 in params3:\n",
        "        der, jer, mes = diarization1(embedding='clova', clustering='links', dataset='AMI_dev', thr2=i1, thr3=i2, ps=i3)\n",
        "        if curMin > (der + jer)/2:\n",
        "          besti1, besti2, besti3 = i1, i2, i3\n",
        "          bestDer, bestJer = der, jer\n",
        "          curMin = der / 2 + jer / 2\n",
        "        # print('DER: ', der, 'JER: ', jer)\n",
        "        print('thr1: ', i1, 'thr2: ', i2, 'ps: ', i3)\n",
        "        print()\n",
        "        if mes == 'bad':\n",
        "          break\n"
      ],
      "metadata": {
        "id": "s3OIRhMhlvgE",
        "colab": {
          "base_uri": "https://localhost:8080/"
        },
        "outputId": "a56a0f23-c9b1-4897-e88f-11bc905462b1"
      },
      "execution_count": 30,
      "outputs": [
        {
          "output_type": "stream",
          "name": "stdout",
          "text": [
            "Embedding size is 512, encoder ASP.\n",
            "Not found in cache: 'cache/AMI_dev_emb-clova_vad-True_win-2.0_step-1.0.p'\n"
          ]
        },
        {
          "output_type": "stream",
          "name": "stderr",
          "text": [
            "100%|██████████| 18/18 [01:17<00:00,  4.30s/it]\n",
            "100%|██████████| 18/18 [00:41<00:00,  2.30s/it]\n"
          ]
        },
        {
          "output_type": "stream",
          "name": "stdout",
          "text": [
            "DER: 5.290310959559669%\n",
            "JER: 8.328413601908213%\n",
            "thr1:  0.9134575551055222 thr2:  0.4875174422525385 ps:  1.1\n",
            "\n",
            "Embedding size is 512, encoder ASP.\n"
          ]
        },
        {
          "output_type": "stream",
          "name": "stderr",
          "text": [
            "100%|██████████| 18/18 [01:38<00:00,  5.50s/it]\n"
          ]
        },
        {
          "output_type": "stream",
          "name": "stdout",
          "text": [
            "DER: 13.050327388607878%\n",
            "JER: 14.912673780584809%\n",
            "thr1:  0.9134575551055222 thr2:  0.5783546001564159 ps:  1.1\n",
            "\n",
            "Embedding size is 512, encoder ASP.\n"
          ]
        },
        {
          "output_type": "stream",
          "name": "stderr",
          "text": [
            "100%|██████████| 18/18 [01:53<00:00,  6.32s/it]\n"
          ]
        },
        {
          "output_type": "stream",
          "name": "stdout",
          "text": [
            "DER: 16.17242536139392%\n",
            "JER: 18.388375129802554%\n",
            "thr1:  0.9134575551055222 thr2:  0.5927325521002058 ps:  1.1\n",
            "\n",
            "Embedding size is 512, encoder ASP.\n"
          ]
        },
        {
          "output_type": "stream",
          "name": "stderr",
          "text": [
            "100%|██████████| 18/18 [00:35<00:00,  1.96s/it]\n"
          ]
        },
        {
          "output_type": "stream",
          "name": "stdout",
          "text": [
            "DER: 4.874838482035592%\n",
            "JER: 8.176831967385102%\n",
            "thr1:  0.9134575551055222 thr2:  0.47668830376515553 ps:  1.1\n",
            "\n",
            "Embedding size is 512, encoder ASP.\n"
          ]
        },
        {
          "output_type": "stream",
          "name": "stderr",
          "text": [
            "100%|██████████| 18/18 [01:17<00:00,  4.31s/it]\n"
          ]
        },
        {
          "output_type": "stream",
          "name": "stdout",
          "text": [
            "DER: 10.7232184635089%\n",
            "JER: 12.288667165156058%\n",
            "thr1:  0.9134575551055222 thr2:  0.5583450076165329 ps:  1.1\n",
            "\n",
            "Embedding size is 512, encoder ASP.\n"
          ]
        },
        {
          "output_type": "stream",
          "name": "stderr",
          "text": [
            "100%|██████████| 18/18 [00:46<00:00,  2.58s/it]\n"
          ]
        },
        {
          "output_type": "stream",
          "name": "stdout",
          "text": [
            "DER: 6.325716067798985%\n",
            "JER: 9.450534446497134%\n",
            "thr1:  0.9134575551055222 thr2:  0.5057789839505809 ps:  1.1\n",
            "\n",
            "Embedding size is 512, encoder ASP.\n"
          ]
        },
        {
          "output_type": "stream",
          "name": "stderr",
          "text": [
            "100%|██████████| 18/18 [00:39<00:00,  2.19s/it]\n"
          ]
        },
        {
          "output_type": "stream",
          "name": "stdout",
          "text": [
            "DER: 5.290310959559669%\n",
            "JER: 8.328413601908213%\n",
            "thr1:  1.1297461762841454 thr2:  0.4875174422525385 ps:  1.1\n",
            "\n",
            "Embedding size is 512, encoder ASP.\n"
          ]
        },
        {
          "output_type": "stream",
          "name": "stderr",
          "text": [
            "100%|██████████| 18/18 [01:37<00:00,  5.43s/it]\n"
          ]
        },
        {
          "output_type": "stream",
          "name": "stdout",
          "text": [
            "DER: 13.050327388607878%\n",
            "JER: 14.912673780584809%\n",
            "thr1:  1.1297461762841454 thr2:  0.5783546001564159 ps:  1.1\n",
            "\n",
            "Embedding size is 512, encoder ASP.\n"
          ]
        },
        {
          "output_type": "stream",
          "name": "stderr",
          "text": [
            "100%|██████████| 18/18 [01:52<00:00,  6.23s/it]\n"
          ]
        },
        {
          "output_type": "stream",
          "name": "stdout",
          "text": [
            "DER: 16.17242536139392%\n",
            "JER: 18.388375129802554%\n",
            "thr1:  1.1297461762841454 thr2:  0.5927325521002058 ps:  1.1\n",
            "\n",
            "Embedding size is 512, encoder ASP.\n"
          ]
        },
        {
          "output_type": "stream",
          "name": "stderr",
          "text": [
            "100%|██████████| 18/18 [00:37<00:00,  2.09s/it]\n"
          ]
        },
        {
          "output_type": "stream",
          "name": "stdout",
          "text": [
            "DER: 4.874838482035592%\n",
            "JER: 8.176831967385102%\n",
            "thr1:  1.1297461762841454 thr2:  0.47668830376515553 ps:  1.1\n",
            "\n",
            "Embedding size is 512, encoder ASP.\n"
          ]
        },
        {
          "output_type": "stream",
          "name": "stderr",
          "text": [
            "100%|██████████| 18/18 [01:20<00:00,  4.45s/it]\n"
          ]
        },
        {
          "output_type": "stream",
          "name": "stdout",
          "text": [
            "DER: 10.7232184635089%\n",
            "JER: 12.288667165156058%\n",
            "thr1:  1.1297461762841454 thr2:  0.5583450076165329 ps:  1.1\n",
            "\n",
            "Embedding size is 512, encoder ASP.\n"
          ]
        },
        {
          "output_type": "stream",
          "name": "stderr",
          "text": [
            "100%|██████████| 18/18 [00:47<00:00,  2.63s/it]\n"
          ]
        },
        {
          "output_type": "stream",
          "name": "stdout",
          "text": [
            "DER: 6.325716067798985%\n",
            "JER: 9.450534446497134%\n",
            "thr1:  1.1297461762841454 thr2:  0.5057789839505809 ps:  1.1\n",
            "\n",
            "Embedding size is 512, encoder ASP.\n"
          ]
        },
        {
          "output_type": "stream",
          "name": "stderr",
          "text": [
            "100%|██████████| 18/18 [00:40<00:00,  2.25s/it]\n"
          ]
        },
        {
          "output_type": "stream",
          "name": "stdout",
          "text": [
            "DER: 5.290310959559669%\n",
            "JER: 8.328413601908213%\n",
            "thr1:  0.983592388893137 thr2:  0.4875174422525385 ps:  1.1\n",
            "\n",
            "Embedding size is 512, encoder ASP.\n"
          ]
        },
        {
          "output_type": "stream",
          "name": "stderr",
          "text": [
            "100%|██████████| 18/18 [01:37<00:00,  5.43s/it]\n"
          ]
        },
        {
          "output_type": "stream",
          "name": "stdout",
          "text": [
            "DER: 13.050327388607878%\n",
            "JER: 14.912673780584809%\n",
            "thr1:  0.983592388893137 thr2:  0.5783546001564159 ps:  1.1\n",
            "\n",
            "Embedding size is 512, encoder ASP.\n"
          ]
        },
        {
          "output_type": "stream",
          "name": "stderr",
          "text": [
            "100%|██████████| 18/18 [01:50<00:00,  6.13s/it]\n"
          ]
        },
        {
          "output_type": "stream",
          "name": "stdout",
          "text": [
            "DER: 16.17242536139392%\n",
            "JER: 18.388375129802554%\n",
            "thr1:  0.983592388893137 thr2:  0.5927325521002058 ps:  1.1\n",
            "\n",
            "Embedding size is 512, encoder ASP.\n"
          ]
        },
        {
          "output_type": "stream",
          "name": "stderr",
          "text": [
            "100%|██████████| 18/18 [00:34<00:00,  1.93s/it]\n"
          ]
        },
        {
          "output_type": "stream",
          "name": "stdout",
          "text": [
            "DER: 4.874838482035592%\n",
            "JER: 8.176831967385102%\n",
            "thr1:  0.983592388893137 thr2:  0.47668830376515553 ps:  1.1\n",
            "\n",
            "Embedding size is 512, encoder ASP.\n"
          ]
        },
        {
          "output_type": "stream",
          "name": "stderr",
          "text": [
            "100%|██████████| 18/18 [01:17<00:00,  4.28s/it]\n"
          ]
        },
        {
          "output_type": "stream",
          "name": "stdout",
          "text": [
            "DER: 10.7232184635089%\n",
            "JER: 12.288667165156058%\n",
            "thr1:  0.983592388893137 thr2:  0.5583450076165329 ps:  1.1\n",
            "\n",
            "Embedding size is 512, encoder ASP.\n"
          ]
        },
        {
          "output_type": "stream",
          "name": "stderr",
          "text": [
            "100%|██████████| 18/18 [00:45<00:00,  2.55s/it]\n"
          ]
        },
        {
          "output_type": "stream",
          "name": "stdout",
          "text": [
            "DER: 6.325716067798985%\n",
            "JER: 9.450534446497134%\n",
            "thr1:  0.983592388893137 thr2:  0.5057789839505809 ps:  1.1\n",
            "\n",
            "Embedding size is 512, encoder ASP.\n"
          ]
        },
        {
          "output_type": "stream",
          "name": "stderr",
          "text": [
            "100%|██████████| 18/18 [00:38<00:00,  2.14s/it]\n"
          ]
        },
        {
          "output_type": "stream",
          "name": "stdout",
          "text": [
            "DER: 5.290310959559669%\n",
            "JER: 8.328413601908213%\n",
            "thr1:  0.9083481378959659 thr2:  0.4875174422525385 ps:  1.1\n",
            "\n",
            "Embedding size is 512, encoder ASP.\n"
          ]
        },
        {
          "output_type": "stream",
          "name": "stderr",
          "text": [
            "100%|██████████| 18/18 [01:36<00:00,  5.36s/it]\n"
          ]
        },
        {
          "output_type": "stream",
          "name": "stdout",
          "text": [
            "DER: 13.050327388607878%\n",
            "JER: 14.912673780584809%\n",
            "thr1:  0.9083481378959659 thr2:  0.5783546001564159 ps:  1.1\n",
            "\n",
            "Embedding size is 512, encoder ASP.\n"
          ]
        },
        {
          "output_type": "stream",
          "name": "stderr",
          "text": [
            "100%|██████████| 18/18 [01:51<00:00,  6.20s/it]\n"
          ]
        },
        {
          "output_type": "stream",
          "name": "stdout",
          "text": [
            "DER: 16.17242536139392%\n",
            "JER: 18.388375129802554%\n",
            "thr1:  0.9083481378959659 thr2:  0.5927325521002058 ps:  1.1\n",
            "\n",
            "Embedding size is 512, encoder ASP.\n"
          ]
        },
        {
          "output_type": "stream",
          "name": "stderr",
          "text": [
            "100%|██████████| 18/18 [00:36<00:00,  2.01s/it]\n"
          ]
        },
        {
          "output_type": "stream",
          "name": "stdout",
          "text": [
            "DER: 4.874838482035592%\n",
            "JER: 8.176831967385102%\n",
            "thr1:  0.9083481378959659 thr2:  0.47668830376515553 ps:  1.1\n",
            "\n",
            "Embedding size is 512, encoder ASP.\n"
          ]
        },
        {
          "output_type": "stream",
          "name": "stderr",
          "text": [
            "100%|██████████| 18/18 [01:17<00:00,  4.28s/it]\n"
          ]
        },
        {
          "output_type": "stream",
          "name": "stdout",
          "text": [
            "DER: 10.7232184635089%\n",
            "JER: 12.288667165156058%\n",
            "thr1:  0.9083481378959659 thr2:  0.5583450076165329 ps:  1.1\n",
            "\n",
            "Embedding size is 512, encoder ASP.\n"
          ]
        },
        {
          "output_type": "stream",
          "name": "stderr",
          "text": [
            "100%|██████████| 18/18 [00:47<00:00,  2.65s/it]\n"
          ]
        },
        {
          "output_type": "stream",
          "name": "stdout",
          "text": [
            "DER: 6.325716067798985%\n",
            "JER: 9.450534446497134%\n",
            "thr1:  0.9083481378959659 thr2:  0.5057789839505809 ps:  1.1\n",
            "\n",
            "Embedding size is 512, encoder ASP.\n"
          ]
        },
        {
          "output_type": "stream",
          "name": "stderr",
          "text": [
            "100%|██████████| 18/18 [00:39<00:00,  2.19s/it]\n"
          ]
        },
        {
          "output_type": "stream",
          "name": "stdout",
          "text": [
            "DER: 5.290310959559669%\n",
            "JER: 8.328413601908213%\n",
            "thr1:  0.7507512391405762 thr2:  0.4875174422525385 ps:  1.1\n",
            "\n",
            "Embedding size is 512, encoder ASP.\n"
          ]
        },
        {
          "output_type": "stream",
          "name": "stderr",
          "text": [
            "100%|██████████| 18/18 [00:35<00:00,  1.97s/it]\n"
          ]
        },
        {
          "output_type": "stream",
          "name": "stdout",
          "text": [
            "DER: 4.874838482035592%\n",
            "JER: 8.176831967385102%\n",
            "thr1:  0.7507512391405762 thr2:  0.47668830376515553 ps:  1.1\n",
            "\n",
            "Embedding size is 512, encoder ASP.\n"
          ]
        },
        {
          "output_type": "stream",
          "name": "stderr",
          "text": [
            "100%|██████████| 18/18 [00:46<00:00,  2.59s/it]\n"
          ]
        },
        {
          "output_type": "stream",
          "name": "stdout",
          "text": [
            "DER: 6.325716067798985%\n",
            "JER: 9.450534446497134%\n",
            "thr1:  0.7507512391405762 thr2:  0.5057789839505809 ps:  1.1\n",
            "\n",
            "Embedding size is 512, encoder ASP.\n"
          ]
        },
        {
          "output_type": "stream",
          "name": "stderr",
          "text": [
            "100%|██████████| 18/18 [00:40<00:00,  2.24s/it]\n"
          ]
        },
        {
          "output_type": "stream",
          "name": "stdout",
          "text": [
            "DER: 5.290310959559669%\n",
            "JER: 8.328413601908213%\n",
            "thr1:  1.039662346986653 thr2:  0.4875174422525385 ps:  1.1\n",
            "\n",
            "Embedding size is 512, encoder ASP.\n"
          ]
        },
        {
          "output_type": "stream",
          "name": "stderr",
          "text": [
            "100%|██████████| 18/18 [01:37<00:00,  5.39s/it]\n"
          ]
        },
        {
          "output_type": "stream",
          "name": "stdout",
          "text": [
            "DER: 13.050327388607878%\n",
            "JER: 14.912673780584809%\n",
            "thr1:  1.039662346986653 thr2:  0.5783546001564159 ps:  1.1\n",
            "\n",
            "Embedding size is 512, encoder ASP.\n"
          ]
        },
        {
          "output_type": "stream",
          "name": "stderr",
          "text": [
            "100%|██████████| 18/18 [01:53<00:00,  6.32s/it]\n"
          ]
        },
        {
          "output_type": "stream",
          "name": "stdout",
          "text": [
            "DER: 16.17242536139392%\n",
            "JER: 18.388375129802554%\n",
            "thr1:  1.039662346986653 thr2:  0.5927325521002058 ps:  1.1\n",
            "\n",
            "Embedding size is 512, encoder ASP.\n"
          ]
        },
        {
          "output_type": "stream",
          "name": "stderr",
          "text": [
            "100%|██████████| 18/18 [00:36<00:00,  2.05s/it]\n"
          ]
        },
        {
          "output_type": "stream",
          "name": "stdout",
          "text": [
            "DER: 4.874838482035592%\n",
            "JER: 8.176831967385102%\n",
            "thr1:  1.039662346986653 thr2:  0.47668830376515553 ps:  1.1\n",
            "\n",
            "Embedding size is 512, encoder ASP.\n"
          ]
        },
        {
          "output_type": "stream",
          "name": "stderr",
          "text": [
            "100%|██████████| 18/18 [01:19<00:00,  4.42s/it]\n"
          ]
        },
        {
          "output_type": "stream",
          "name": "stdout",
          "text": [
            "DER: 10.7232184635089%\n",
            "JER: 12.288667165156058%\n",
            "thr1:  1.039662346986653 thr2:  0.5583450076165329 ps:  1.1\n",
            "\n",
            "Embedding size is 512, encoder ASP.\n"
          ]
        },
        {
          "output_type": "stream",
          "name": "stderr",
          "text": [
            "100%|██████████| 18/18 [00:48<00:00,  2.69s/it]\n"
          ]
        },
        {
          "output_type": "stream",
          "name": "stdout",
          "text": [
            "DER: 6.325716067798985%\n",
            "JER: 9.450534446497134%\n",
            "thr1:  1.039662346986653 thr2:  0.5057789839505809 ps:  1.1\n",
            "\n"
          ]
        }
      ]
    },
    {
      "cell_type": "code",
      "source": [
        "import numpy as np\n",
        "params1 = np.random.uniform(0.2,1.5,6)\n",
        "params2 = np.random.uniform(0.1,0.5,6)\n",
        "params3 = [1.3]\n",
        "curMin = 110\n",
        "besti1, besti2, besti3 = 0, 0, 0\n",
        "bestDer, bestJer = 0, 0\n",
        "for i1 in params1:\n",
        "  for i2 in params2:\n",
        "    if i2 < i1-0.2:\n",
        "      for i3 in params3:\n",
        "        der, jer, mes = diarization1(embedding='brno', clustering='links', dataset='AMI_dev', thr2=i1, thr3=i2, ps=i3)\n",
        "        if curMin > (der + jer)/2:\n",
        "          besti1, besti2, besti3 = i1, i2, i3\n",
        "          bestDer, bestJer = der, jer\n",
        "          curMin = der / 2 + jer / 2\n",
        "        # print('DER: ', der, 'JER: ', jer)\n",
        "        print('thr1: ', i1, 'thr2: ', i2, 'ps: ', i3)\n",
        "        print()\n",
        "        if mes == 'bad':\n",
        "          break\n"
      ],
      "metadata": {
        "id": "_pDWCkbqIkCJ",
        "colab": {
          "base_uri": "https://localhost:8080/",
          "height": 407
        },
        "outputId": "0d89cf5d-6579-4639-d109-3b57a2ae8392"
      },
      "execution_count": 22,
      "outputs": [
        {
          "output_type": "stream",
          "name": "stderr",
          "text": [
            "  0%|          | 0/18 [00:00<?, ?it/s]\n"
          ]
        },
        {
          "output_type": "error",
          "ename": "AttributeError",
          "evalue": "ignored",
          "traceback": [
            "\u001b[0;31m---------------------------------------------------------------------------\u001b[0m",
            "\u001b[0;31mAttributeError\u001b[0m                            Traceback (most recent call last)",
            "\u001b[0;32m<ipython-input-22-bf5fdec4341d>\u001b[0m in \u001b[0;36m<module>\u001b[0;34m()\u001b[0m\n\u001b[1;32m     10\u001b[0m     \u001b[0;32mif\u001b[0m \u001b[0mi2\u001b[0m \u001b[0;34m<\u001b[0m \u001b[0mi1\u001b[0m\u001b[0;34m-\u001b[0m\u001b[0;36m0.2\u001b[0m\u001b[0;34m:\u001b[0m\u001b[0;34m\u001b[0m\u001b[0;34m\u001b[0m\u001b[0m\n\u001b[1;32m     11\u001b[0m       \u001b[0;32mfor\u001b[0m \u001b[0mi3\u001b[0m \u001b[0;32min\u001b[0m \u001b[0mparams3\u001b[0m\u001b[0;34m:\u001b[0m\u001b[0;34m\u001b[0m\u001b[0;34m\u001b[0m\u001b[0m\n\u001b[0;32m---> 12\u001b[0;31m         \u001b[0mder\u001b[0m\u001b[0;34m,\u001b[0m \u001b[0mjer\u001b[0m\u001b[0;34m,\u001b[0m \u001b[0mmes\u001b[0m \u001b[0;34m=\u001b[0m \u001b[0mdiarization1\u001b[0m\u001b[0;34m(\u001b[0m\u001b[0membedding\u001b[0m\u001b[0;34m=\u001b[0m\u001b[0;34m'brno'\u001b[0m\u001b[0;34m,\u001b[0m \u001b[0mclustering\u001b[0m\u001b[0;34m=\u001b[0m\u001b[0;34m'links'\u001b[0m\u001b[0;34m,\u001b[0m \u001b[0mdataset\u001b[0m\u001b[0;34m=\u001b[0m\u001b[0;34m'AMI_dev'\u001b[0m\u001b[0;34m,\u001b[0m \u001b[0mthr2\u001b[0m\u001b[0;34m=\u001b[0m\u001b[0mi1\u001b[0m\u001b[0;34m,\u001b[0m \u001b[0mthr3\u001b[0m\u001b[0;34m=\u001b[0m\u001b[0mi2\u001b[0m\u001b[0;34m,\u001b[0m \u001b[0mps\u001b[0m\u001b[0;34m=\u001b[0m\u001b[0mi3\u001b[0m\u001b[0;34m)\u001b[0m\u001b[0;34m\u001b[0m\u001b[0;34m\u001b[0m\u001b[0m\n\u001b[0m\u001b[1;32m     13\u001b[0m         \u001b[0;32mif\u001b[0m \u001b[0mcurMin\u001b[0m \u001b[0;34m>\u001b[0m \u001b[0;34m(\u001b[0m\u001b[0mder\u001b[0m \u001b[0;34m+\u001b[0m \u001b[0mjer\u001b[0m\u001b[0;34m)\u001b[0m\u001b[0;34m/\u001b[0m\u001b[0;36m2\u001b[0m\u001b[0;34m:\u001b[0m\u001b[0;34m\u001b[0m\u001b[0;34m\u001b[0m\u001b[0m\n\u001b[1;32m     14\u001b[0m           \u001b[0mbesti1\u001b[0m\u001b[0;34m,\u001b[0m \u001b[0mbesti2\u001b[0m\u001b[0;34m,\u001b[0m \u001b[0mbesti3\u001b[0m \u001b[0;34m=\u001b[0m \u001b[0mi1\u001b[0m\u001b[0;34m,\u001b[0m \u001b[0mi2\u001b[0m\u001b[0;34m,\u001b[0m \u001b[0mi3\u001b[0m\u001b[0;34m\u001b[0m\u001b[0;34m\u001b[0m\u001b[0m\n",
            "\u001b[0;32m/content/speaker-diarization/run_diarization.py\u001b[0m in \u001b[0;36mdiarization1\u001b[0;34m(embedding, clustering, dataset, thr1, thr2, thr3, ps)\u001b[0m\n\u001b[1;32m    256\u001b[0m           \u001b[0;32mif\u001b[0m \u001b[0mtime\u001b[0m\u001b[0;34m.\u001b[0m\u001b[0mtime\u001b[0m\u001b[0;34m(\u001b[0m\u001b[0;34m)\u001b[0m \u001b[0;34m-\u001b[0m \u001b[0mstart_time\u001b[0m \u001b[0;34m>\u001b[0m \u001b[0;36m20\u001b[0m\u001b[0;34m:\u001b[0m\u001b[0;34m\u001b[0m\u001b[0;34m\u001b[0m\u001b[0m\n\u001b[1;32m    257\u001b[0m             \u001b[0;32mreturn\u001b[0m \u001b[0;36m1000\u001b[0m\u001b[0;34m,\u001b[0m \u001b[0;36m1000\u001b[0m\u001b[0;34m,\u001b[0m \u001b[0;34m'bad'\u001b[0m\u001b[0;34m\u001b[0m\u001b[0;34m\u001b[0m\u001b[0m\n\u001b[0;32m--> 258\u001b[0;31m           \u001b[0mlabels\u001b[0m \u001b[0;34m+=\u001b[0m \u001b[0;34m[\u001b[0m\u001b[0mlinks_cluster\u001b[0m\u001b[0;34m.\u001b[0m\u001b[0mpredict\u001b[0m\u001b[0;34m(\u001b[0m\u001b[0membeddings\u001b[0m\u001b[0;34m[\u001b[0m\u001b[0mi\u001b[0m\u001b[0;34m]\u001b[0m\u001b[0;34m)\u001b[0m\u001b[0;34m]\u001b[0m\u001b[0;34m\u001b[0m\u001b[0;34m\u001b[0m\u001b[0m\n\u001b[0m\u001b[1;32m    259\u001b[0m         \u001b[0mann_hyp\u001b[0m \u001b[0;34m=\u001b[0m \u001b[0mAnnotation\u001b[0m\u001b[0;34m(\u001b[0m\u001b[0muri\u001b[0m\u001b[0;34m=\u001b[0m\u001b[0muri\u001b[0m\u001b[0;34m)\u001b[0m\u001b[0;34m\u001b[0m\u001b[0;34m\u001b[0m\u001b[0m\n\u001b[1;32m    260\u001b[0m         \u001b[0;32mfor\u001b[0m \u001b[0msegment\u001b[0m\u001b[0;34m,\u001b[0m \u001b[0mlabel\u001b[0m \u001b[0;32min\u001b[0m \u001b[0mzip\u001b[0m\u001b[0;34m(\u001b[0m\u001b[0msegments\u001b[0m\u001b[0;34m,\u001b[0m \u001b[0mlabels\u001b[0m\u001b[0;34m)\u001b[0m\u001b[0;34m:\u001b[0m\u001b[0;34m\u001b[0m\u001b[0;34m\u001b[0m\u001b[0m\n",
            "\u001b[0;32m/content/speaker-diarization/links_cluster.py\u001b[0m in \u001b[0;36mpredict\u001b[0;34m(self, new_vector)\u001b[0m\n\u001b[1;32m     99\u001b[0m             \u001b[0;31m# Create new subcluster\u001b[0m\u001b[0;34m\u001b[0m\u001b[0;34m\u001b[0m\u001b[0;34m\u001b[0m\u001b[0m\n\u001b[1;32m    100\u001b[0m             \u001b[0mnew_subcluster\u001b[0m \u001b[0;34m=\u001b[0m \u001b[0mSubcluster\u001b[0m\u001b[0;34m(\u001b[0m\u001b[0mnew_vector\u001b[0m\u001b[0;34m,\u001b[0m \u001b[0mstore_vectors\u001b[0m\u001b[0;34m=\u001b[0m\u001b[0mself\u001b[0m\u001b[0;34m.\u001b[0m\u001b[0mstore_vectors\u001b[0m\u001b[0;34m)\u001b[0m\u001b[0;34m\u001b[0m\u001b[0;34m\u001b[0m\u001b[0m\n\u001b[0;32m--> 101\u001b[0;31m             \u001b[0mcossim\u001b[0m \u001b[0;34m=\u001b[0m \u001b[0;36m1.0\u001b[0m \u001b[0;34m-\u001b[0m \u001b[0mcosine\u001b[0m\u001b[0;34m(\u001b[0m\u001b[0mnew_subcluster\u001b[0m\u001b[0;34m.\u001b[0m\u001b[0mcentroid\u001b[0m\u001b[0;34m,\u001b[0m \u001b[0mbest_subcluster\u001b[0m\u001b[0;34m.\u001b[0m\u001b[0mcentroid\u001b[0m\u001b[0;34m)\u001b[0m\u001b[0;34m\u001b[0m\u001b[0;34m\u001b[0m\u001b[0m\n\u001b[0m\u001b[1;32m    102\u001b[0m             \u001b[0;32mif\u001b[0m \u001b[0mcossim\u001b[0m \u001b[0;34m>=\u001b[0m \u001b[0mself\u001b[0m\u001b[0;34m.\u001b[0m\u001b[0msim_threshold\u001b[0m\u001b[0;34m(\u001b[0m\u001b[0mbest_subcluster\u001b[0m\u001b[0;34m.\u001b[0m\u001b[0mn_vectors\u001b[0m\u001b[0;34m,\u001b[0m \u001b[0;36m1\u001b[0m\u001b[0;34m)\u001b[0m\u001b[0;34m:\u001b[0m  \u001b[0;31m# eq. (21)\u001b[0m\u001b[0;34m\u001b[0m\u001b[0;34m\u001b[0m\u001b[0m\n\u001b[1;32m    103\u001b[0m                 \u001b[0;31m# New subcluster is part of existing cluster\u001b[0m\u001b[0;34m\u001b[0m\u001b[0;34m\u001b[0m\u001b[0;34m\u001b[0m\u001b[0m\n",
            "\u001b[0;31mAttributeError\u001b[0m: 'NoneType' object has no attribute 'centroid'"
          ]
        }
      ]
    },
    {
      "cell_type": "code",
      "source": [
        ""
      ],
      "metadata": {
        "id": "J5bVamMIIkFd"
      },
      "execution_count": null,
      "outputs": []
    },
    {
      "cell_type": "code",
      "source": [
        ""
      ],
      "metadata": {
        "id": "LbLRslT6lvlf"
      },
      "execution_count": null,
      "outputs": []
    },
    {
      "cell_type": "code",
      "source": [
        "diarization1(embedding='clova', clustering='links', dataset='aishell4', thr2=i1, thr3=i2, ps=i3)"
      ],
      "metadata": {
        "id": "dmHmtXcclvqD"
      },
      "execution_count": null,
      "outputs": []
    },
    {
      "cell_type": "code",
      "source": [
        "!python3 run_diarization.py\n",
        "# with offline ahc clusterering"
      ],
      "metadata": {
        "colab": {
          "base_uri": "https://localhost:8080/"
        },
        "id": "sOMNO6nfbZQZ",
        "outputId": "7783f0c1-f37e-493e-97ed-6aab819cfe66"
      },
      "execution_count": null,
      "outputs": [
        {
          "output_type": "stream",
          "name": "stdout",
          "text": [
            "python3: can't open file 'run_diarization.py': [Errno 2] No such file or directory\n"
          ]
        }
      ]
    },
    {
      "cell_type": "code",
      "source": [
        "!python3 run_diarization.py\n",
        "# online1 from github"
      ],
      "metadata": {
        "colab": {
          "base_uri": "https://localhost:8080/"
        },
        "id": "b1wIWCLm_3-D",
        "outputId": "58e09689-5021-4d8e-d1c5-782353b936db"
      },
      "execution_count": null,
      "outputs": [
        {
          "output_type": "stream",
          "name": "stdout",
          "text": [
            "100% 20/20 [00:32<00:00,  1.62s/it]\n",
            "+-----------------------------------------+\n",
            "|                 aishell4                |\n",
            "+--------+--------------+--------+--------+\n",
            "| Collar | Skip overlap | DER, % | JER, % |\n",
            "+--------+--------------+--------+--------+\n",
            "|   0    |    False     | 60.41  | 88.53  |\n",
            "|   0    |     True     | 59.04  | 88.52  |\n",
            "|  0.25  |     True     | 58.81  | 88.44  |\n",
            "+--------+--------------+--------+--------+\n",
            "\u001b[0m"
          ]
        }
      ]
    },
    {
      "cell_type": "code",
      "source": [
        "!python3 run_diarization.py\n",
        "# online1 with clova threshold=0.54"
      ],
      "metadata": {
        "colab": {
          "base_uri": "https://localhost:8080/"
        },
        "id": "ncFd0TdTPis6",
        "outputId": "fa538437-6376-4974-b4f7-94c68aa2caab"
      },
      "execution_count": null,
      "outputs": [
        {
          "output_type": "stream",
          "name": "stdout",
          "text": [
            "Embedding size is 512, encoder ASP.\n",
            "100% 20/20 [00:13<00:00,  1.51it/s]\n",
            "+-----------------------------------------+\n",
            "|                 aishell4                |\n",
            "+--------+--------------+--------+--------+\n",
            "| Collar | Skip overlap | DER, % | JER, % |\n",
            "+--------+--------------+--------+--------+\n",
            "|   0    |    False     | 12.02  | 21.09  |\n",
            "|   0    |     True     |  7.22  | 16.36  |\n",
            "|  0.25  |     True     |  6.46  | 15.01  |\n",
            "+--------+--------------+--------+--------+\n",
            "\u001b[0m"
          ]
        }
      ]
    },
    {
      "cell_type": "code",
      "source": [
        "!python3 run_diarization.py\n",
        "# online1 with brno threshold=0.79"
      ],
      "metadata": {
        "id": "c3prknVnGtq2",
        "colab": {
          "base_uri": "https://localhost:8080/"
        },
        "outputId": "94ab71cb-6ea3-4efc-a315-6a5c852fbf82"
      },
      "execution_count": null,
      "outputs": [
        {
          "output_type": "stream",
          "name": "stdout",
          "text": [
            "100% 20/20 [00:09<00:00,  2.06it/s]\n",
            "+-----------------------------------------+\n",
            "|                 aishell4                |\n",
            "+--------+--------------+--------+--------+\n",
            "| Collar | Skip overlap | DER, % | JER, % |\n",
            "+--------+--------------+--------+--------+\n",
            "|   0    |    False     | 12.47  | 22.13  |\n",
            "|   0    |     True     |  7.82  | 17.66  |\n",
            "|  0.25  |     True     |  7.13  | 16.29  |\n",
            "+--------+--------------+--------+--------+\n",
            "\u001b[0m"
          ]
        }
      ]
    },
    {
      "cell_type": "code",
      "source": [
        "!python3 run_diarization.py\n",
        "# links with brno threshold=0.5"
      ],
      "metadata": {
        "colab": {
          "base_uri": "https://localhost:8080/"
        },
        "id": "5IB7vKeK4RFZ",
        "outputId": "e6f1f15e-ff54-4d86-f9e5-af7285f1f2f5"
      },
      "execution_count": null,
      "outputs": [
        {
          "output_type": "stream",
          "name": "stdout",
          "text": [
            "\r  0% 0/20 [00:00<?, ?it/s]5 0 3 2 1\n",
            "\n",
            "5 3 19 2 1\n",
            "\n",
            "5 3 18 1 6\n",
            "\n",
            "5 3 18 1 7\n",
            "\n",
            "5 3 18 1 8\n",
            "\n",
            "5 3 16 14 15\n",
            "\n",
            "5 3 16 14 11\n",
            "\n",
            "5 3 16 14 8\n",
            "\n",
            "5 3 16 14 7\n",
            "\n",
            "5 3 16 14 1\n",
            "\n",
            "5 3 12 14 8\n",
            "\n",
            "\r  0% 0/20 [00:00<?, ?it/s]\n",
            "Traceback (most recent call last):\n",
            "  File \"run_diarization.py\", line 263, in <module>\n",
            "    labels += [links_cluster.predict(embeddings[i])]\n",
            "  File \"/content/speaker-diarization/links_cluster.py\", line 96, in predict\n",
            "    self.update_cluster(best_subcluster_cluster_id, best_subcluster_id)\n",
            "  File \"/content/speaker-diarization/links_cluster.py\", line 191, in update_cluster\n",
            "    self.merge_subclusters(cl_idx, sc_idx, connected_sc_idx)\n",
            "  File \"/content/speaker-diarization/links_cluster.py\", line 153, in merge_subclusters\n",
            "    self.clusters[cl_idx][sc_idx1].merge(sc2)\n",
            "IndexError: list index out of range\n",
            "\u001b[0m"
          ]
        }
      ]
    },
    {
      "cell_type": "code",
      "source": [
        "!python3 run_diarization.py\n",
        "# links with clova 0.3 0.2 1.0"
      ],
      "metadata": {
        "colab": {
          "base_uri": "https://localhost:8080/"
        },
        "id": "IOWXZW8up62a",
        "outputId": "0e79b64b-aee8-4443-cf50-c63832f88cc1"
      },
      "execution_count": null,
      "outputs": [
        {
          "output_type": "stream",
          "name": "stdout",
          "text": [
            "Embedding size is 512, encoder ASP.\n",
            " 25% 5/20 [00:01<00:05,  2.88it/s]1 0 2 1 0\n",
            "\n",
            " 45% 9/20 [00:03<00:04,  2.55it/s]1 0 2 0 1\n",
            "\n",
            " 50% 10/20 [00:03<00:03,  2.64it/s]1 0 2 1 0\n",
            "\n",
            " 80% 16/20 [00:05<00:01,  3.17it/s]1 0 2 1 0\n",
            "\n",
            "100% 20/20 [00:06<00:00,  3.01it/s]\n",
            "+-----------------------------------------+\n",
            "|                 aishell4                |\n",
            "+--------+--------------+--------+--------+\n",
            "| Collar | Skip overlap | DER, % | JER, % |\n",
            "+--------+--------------+--------+--------+\n",
            "|   0    |    False     | 52.29  | 84.86  |\n",
            "|   0    |     True     | 50.56  | 84.67  |\n",
            "|  0.25  |     True     | 50.44  | 84.59  |\n",
            "+--------+--------------+--------+--------+\n",
            "\u001b[0m"
          ]
        }
      ]
    },
    {
      "cell_type": "code",
      "source": [
        "!python3 run_diarization.py\n",
        "# links with clova 0.5 0.4 1.1"
      ],
      "metadata": {
        "colab": {
          "base_uri": "https://localhost:8080/"
        },
        "id": "21phaKn76rBY",
        "outputId": "0b32771a-23f4-4909-8272-4710eee42c02"
      },
      "execution_count": null,
      "outputs": [
        {
          "output_type": "stream",
          "name": "stdout",
          "text": [
            "Embedding size is 512, encoder ASP.\n"
          ]
        }
      ]
    },
    {
      "cell_type": "code",
      "source": [
        "%reload_ext autoreload"
      ],
      "metadata": {
        "id": "hnitRw7zUvE_"
      },
      "execution_count": null,
      "outputs": []
    },
    {
      "cell_type": "markdown",
      "source": [
        ""
      ],
      "metadata": {
        "id": "ePX0kGEIqBYd"
      }
    },
    {
      "cell_type": "code",
      "source": [
        "from run_diarization import diarization1\n",
        "import numpy as np\n",
        "\n",
        "params1 = np.random.uniform(0.2,1.5,20)\n",
        "params2 = np.random.uniform(0.1,1,20)\n",
        "params3 = np.random.uniform(1,2.5,3)\n",
        "curMin = 110\n",
        "besti1, besti2, besti3 = 0, 0, 0\n",
        "bestDer, bestJer = 0, 0\n",
        "for i1 in params1:\n",
        "  for i2 in params2:\n",
        "    if i2 < i1:\n",
        "      for i3 in params3:\n",
        "        der, jer, mes = diarization1(embedding='clova', clustering='links', dataset='aishell4', thr2=i1, thr3=i2, ps=i3)\n",
        "        if curMin > (der + jer)/2:\n",
        "          besti1, besti2, besti3 = i1, i2, i3\n",
        "          bestDer, bestJer = der, jer\n",
        "          curMin = der / 2 + jer / 2\n",
        "        print('DER: ', der, 'JER: ', jer)\n",
        "        print('thr1: ', i1, 'thr2: ', i2, 'ps: ', i3)\n",
        "        print()\n",
        "        if mes == 'bad':\n",
        "          break\n"
      ],
      "metadata": {
        "colab": {
          "base_uri": "https://localhost:8080/"
        },
        "id": "9N6jN7f48AEW",
        "outputId": "2313737a-c736-4216-c78e-623daf6ce9c3"
      },
      "execution_count": null,
      "outputs": [
        {
          "output_type": "stream",
          "name": "stdout",
          "text": [
            "Embedding size is 512, encoder ASP.\n"
          ]
        },
        {
          "output_type": "stream",
          "name": "stderr",
          "text": [
            "  0%|          | 0/20 [00:20<?, ?it/s]\n"
          ]
        },
        {
          "output_type": "stream",
          "name": "stdout",
          "text": [
            "DER:  1000 JER:  1000\n",
            "thr1:  0.9134575551055222 thr2:  0.8192427077950513 ps:  2.438031602295144\n",
            "\n",
            "Embedding size is 512, encoder ASP.\n"
          ]
        },
        {
          "output_type": "stream",
          "name": "stderr",
          "text": [
            "100%|██████████| 20/20 [00:40<00:00,  2.02s/it]\n"
          ]
        },
        {
          "output_type": "stream",
          "name": "stdout",
          "text": [
            "DER:  0.10286918053243713 JER:  0.14500993794669373\n",
            "thr1:  0.9134575551055222 thr2:  0.5153314260276387 ps:  2.438031602295144\n",
            "\n",
            "Embedding size is 512, encoder ASP.\n"
          ]
        },
        {
          "output_type": "stream",
          "name": "stderr",
          "text": [
            "100%|██████████| 20/20 [00:40<00:00,  2.02s/it]\n"
          ]
        },
        {
          "output_type": "stream",
          "name": "stdout",
          "text": [
            "DER:  0.10286918053243713 JER:  0.14500993794669373\n",
            "thr1:  0.9134575551055222 thr2:  0.5153314260276387 ps:  2.748127815197366\n",
            "\n",
            "Embedding size is 512, encoder ASP.\n"
          ]
        },
        {
          "output_type": "stream",
          "name": "stderr",
          "text": [
            "100%|██████████| 20/20 [00:40<00:00,  2.01s/it]\n"
          ]
        },
        {
          "output_type": "stream",
          "name": "stdout",
          "text": [
            "DER:  0.10286918053243713 JER:  0.14500993794669373\n",
            "thr1:  0.9134575551055222 thr2:  0.5153314260276387 ps:  3.7905247837090594\n",
            "\n",
            "Embedding size is 512, encoder ASP.\n"
          ]
        },
        {
          "output_type": "stream",
          "name": "stderr",
          "text": [
            "  0%|          | 0/20 [00:20<?, ?it/s]\n"
          ]
        },
        {
          "output_type": "stream",
          "name": "stdout",
          "text": [
            "DER:  1000 JER:  1000\n",
            "thr1:  0.9134575551055222 thr2:  0.8024762586578099 ps:  2.438031602295144\n",
            "\n",
            "Embedding size is 512, encoder ASP.\n"
          ]
        },
        {
          "output_type": "stream",
          "name": "stderr",
          "text": [
            "100%|██████████| 20/20 [00:06<00:00,  3.11it/s]\n"
          ]
        },
        {
          "output_type": "stream",
          "name": "stdout",
          "text": [
            "DER:  0.4917381534511988 JER:  0.820640761576182\n",
            "thr1:  0.9134575551055222 thr2:  0.20644698328203992 ps:  2.438031602295144\n",
            "\n",
            "Embedding size is 512, encoder ASP.\n"
          ]
        },
        {
          "output_type": "stream",
          "name": "stderr",
          "text": [
            "100%|██████████| 20/20 [00:06<00:00,  3.09it/s]\n"
          ]
        },
        {
          "output_type": "stream",
          "name": "stdout",
          "text": [
            "DER:  0.4917381534511988 JER:  0.820640761576182\n",
            "thr1:  0.9134575551055222 thr2:  0.20644698328203992 ps:  2.748127815197366\n",
            "\n",
            "Embedding size is 512, encoder ASP.\n"
          ]
        },
        {
          "output_type": "stream",
          "name": "stderr",
          "text": [
            "100%|██████████| 20/20 [00:06<00:00,  3.24it/s]\n"
          ]
        },
        {
          "output_type": "stream",
          "name": "stdout",
          "text": [
            "DER:  0.4917381534511988 JER:  0.820640761576182\n",
            "thr1:  0.9134575551055222 thr2:  0.20644698328203992 ps:  3.7905247837090594\n",
            "\n",
            "Embedding size is 512, encoder ASP.\n"
          ]
        },
        {
          "output_type": "stream",
          "name": "stderr",
          "text": [
            "  0%|          | 0/20 [00:20<?, ?it/s]\n"
          ]
        },
        {
          "output_type": "stream",
          "name": "stdout",
          "text": [
            "DER:  1000 JER:  1000\n",
            "thr1:  0.9134575551055222 thr2:  0.6759289191947714 ps:  2.438031602295144\n",
            "\n",
            "Embedding size is 512, encoder ASP.\n"
          ]
        },
        {
          "output_type": "stream",
          "name": "stderr",
          "text": [
            "100%|██████████| 20/20 [00:07<00:00,  2.70it/s]\n"
          ]
        },
        {
          "output_type": "stream",
          "name": "stdout",
          "text": [
            "DER:  0.4480179456112609 JER:  0.7885500352281627\n",
            "thr1:  0.9134575551055222 thr2:  0.22901795866814179 ps:  2.438031602295144\n",
            "\n",
            "Embedding size is 512, encoder ASP.\n"
          ]
        },
        {
          "output_type": "stream",
          "name": "stderr",
          "text": [
            "100%|██████████| 20/20 [00:07<00:00,  2.75it/s]\n"
          ]
        },
        {
          "output_type": "stream",
          "name": "stdout",
          "text": [
            "DER:  0.4480179456112609 JER:  0.7885500352281627\n",
            "thr1:  0.9134575551055222 thr2:  0.22901795866814179 ps:  2.748127815197366\n",
            "\n",
            "Embedding size is 512, encoder ASP.\n"
          ]
        },
        {
          "output_type": "stream",
          "name": "stderr",
          "text": [
            "100%|██████████| 20/20 [00:07<00:00,  2.82it/s]\n"
          ]
        }
      ]
    },
    {
      "cell_type": "code",
      "source": [
        "from run_diarization import diarization2\n",
        "import numpy as np\n",
        "\n",
        "params1 = np.random.uniform(0.2, 1.8, 25)\n",
        "params2 = np.random.uniform(0.08, 0.6, 20)\n",
        "params3 = [1.2]\n",
        "curMin = 110\n",
        "besti1, besti2, besti3 = 0, 0, 0\n",
        "bestDer, bestJer = 0, 0\n",
        "for i1 in params1:\n",
        "  for i2 in params2:\n",
        "    if i2 < i1:\n",
        "      for i3 in params3:\n",
        "        der, jer, mes = diarization2(embedding='clova', clustering='links', dataset='aishell4', thr2=i1, thr3=i2, ps=i3)\n",
        "        if curMin > (der + jer)/2:\n",
        "          besti1, besti2, besti3 = i1, i2, i3\n",
        "          bestDer, bestJer = der, jer\n",
        "          curMin = der / 2 + jer / 2\n",
        "        print('DER: ', der, 'JER: ', jer)\n",
        "        print('thr1: ', i1, 'thr2: ', i2, 'ps: ', i3)\n",
        "        print()\n",
        "        if mes == 'bad':\n",
        "          break\n"
      ],
      "metadata": {
        "colab": {
          "base_uri": "https://localhost:8080/",
          "height": 1000
        },
        "id": "aE58NnrhabwV",
        "outputId": "e4ce2db9-907a-4c20-848f-34b5364116af"
      },
      "execution_count": null,
      "outputs": [
        {
          "output_type": "stream",
          "name": "stdout",
          "text": [
            "Embedding size is 512, encoder ASP.\n"
          ]
        },
        {
          "output_type": "stream",
          "name": "stderr",
          "text": [
            "100%|██████████| 20/20 [00:18<00:00,  1.06it/s]\n"
          ]
        },
        {
          "output_type": "stream",
          "name": "stdout",
          "text": [
            "DER:  0.12517478638411156 JER:  0.2540467656938167\n",
            "thr1:  1.0781016062837196 thr2:  0.4127589310903124 ps:  1.2\n",
            "\n",
            "Embedding size is 512, encoder ASP.\n"
          ]
        },
        {
          "output_type": "stream",
          "name": "stderr",
          "text": [
            "100%|██████████| 20/20 [00:04<00:00,  4.34it/s]\n"
          ]
        },
        {
          "output_type": "stream",
          "name": "stdout",
          "text": [
            "DER:  0.5582531510019825 JER:  0.8850092017711451\n",
            "thr1:  1.0781016062837196 thr2:  0.15454370945270413 ps:  1.2\n",
            "\n",
            "Embedding size is 512, encoder ASP.\n"
          ]
        },
        {
          "output_type": "stream",
          "name": "stderr",
          "text": [
            "100%|██████████| 20/20 [01:14<00:00,  3.72s/it]\n"
          ]
        },
        {
          "output_type": "stream",
          "name": "stdout",
          "text": [
            "DER:  0.15561244500732957 JER:  0.17731579701265054\n",
            "thr1:  1.0781016062837196 thr2:  0.5712278368657836 ps:  1.2\n",
            "\n",
            "Embedding size is 512, encoder ASP.\n"
          ]
        },
        {
          "output_type": "stream",
          "name": "stderr",
          "text": [
            "100%|██████████| 20/20 [00:14<00:00,  1.41it/s]\n"
          ]
        },
        {
          "output_type": "stream",
          "name": "stdout",
          "text": [
            "DER:  0.1721174842147535 JER:  0.3976323919805315\n",
            "thr1:  1.0781016062837196 thr2:  0.35136112731003727 ps:  1.2\n",
            "\n",
            "Embedding size is 512, encoder ASP.\n"
          ]
        },
        {
          "output_type": "stream",
          "name": "stderr",
          "text": [
            "100%|██████████| 20/20 [00:11<00:00,  1.81it/s]\n"
          ]
        },
        {
          "output_type": "stream",
          "name": "stdout",
          "text": [
            "DER:  0.24805230900269606 JER:  0.5455080817487873\n",
            "thr1:  1.0781016062837196 thr2:  0.2956242087950723 ps:  1.2\n",
            "\n",
            "Embedding size is 512, encoder ASP.\n"
          ]
        },
        {
          "output_type": "stream",
          "name": "stderr",
          "text": [
            "100%|██████████| 20/20 [00:06<00:00,  3.06it/s]\n"
          ]
        },
        {
          "output_type": "stream",
          "name": "stdout",
          "text": [
            "DER:  0.4582136873079857 JER:  0.7903225961646795\n",
            "thr1:  1.0781016062837196 thr2:  0.21756891829440606 ps:  1.2\n",
            "\n",
            "Embedding size is 512, encoder ASP.\n"
          ]
        },
        {
          "output_type": "stream",
          "name": "stderr",
          "text": [
            "100%|██████████| 20/20 [00:29<00:00,  1.47s/it]\n"
          ]
        },
        {
          "output_type": "stream",
          "name": "stdout",
          "text": [
            "DER:  0.08263362506500352 JER:  0.14932725782264578\n",
            "thr1:  1.0781016062837196 thr2:  0.4826015185057927 ps:  1.2\n",
            "\n",
            "Embedding size is 512, encoder ASP.\n"
          ]
        },
        {
          "output_type": "stream",
          "name": "stderr",
          "text": [
            "100%|██████████| 20/20 [00:12<00:00,  1.67it/s]\n"
          ]
        },
        {
          "output_type": "stream",
          "name": "stdout",
          "text": [
            "DER:  0.21581329716188138 JER:  0.4839135183551997\n",
            "thr1:  1.0781016062837196 thr2:  0.31719817275260526 ps:  1.2\n",
            "\n",
            "Embedding size is 512, encoder ASP.\n"
          ]
        },
        {
          "output_type": "stream",
          "name": "stderr",
          "text": [
            "100%|██████████| 20/20 [00:15<00:00,  1.28it/s]\n"
          ]
        },
        {
          "output_type": "stream",
          "name": "stdout",
          "text": [
            "DER:  0.1551216247359451 JER:  0.32846906473941484\n",
            "thr1:  1.0781016062837196 thr2:  0.37558565341169725 ps:  1.2\n",
            "\n",
            "Embedding size is 512, encoder ASP.\n"
          ]
        },
        {
          "output_type": "stream",
          "name": "stderr",
          "text": [
            "100%|██████████| 20/20 [00:04<00:00,  4.88it/s]\n"
          ]
        },
        {
          "output_type": "stream",
          "name": "stdout",
          "text": [
            "DER:  0.6047331063906828 JER:  0.9258816504695814\n",
            "thr1:  1.0781016062837196 thr2:  0.08977069622690467 ps:  1.2\n",
            "\n",
            "Embedding size is 512, encoder ASP.\n"
          ]
        },
        {
          "output_type": "stream",
          "name": "stderr",
          "text": [
            "100%|██████████| 20/20 [00:17<00:00,  1.16it/s]\n"
          ]
        },
        {
          "output_type": "stream",
          "name": "stdout",
          "text": [
            "DER:  0.1264525420373716 JER:  0.2636284159676443\n",
            "thr1:  1.0781016062837196 thr2:  0.4011704584794561 ps:  1.2\n",
            "\n",
            "Embedding size is 512, encoder ASP.\n"
          ]
        },
        {
          "output_type": "stream",
          "name": "stderr",
          "text": [
            "100%|██████████| 20/20 [00:16<00:00,  1.19it/s]\n"
          ]
        },
        {
          "output_type": "stream",
          "name": "stdout",
          "text": [
            "DER:  0.125796015378868 JER:  0.27465600877321183\n",
            "thr1:  1.0781016062837196 thr2:  0.39828977581565916 ps:  1.2\n",
            "\n",
            "Embedding size is 512, encoder ASP.\n"
          ]
        },
        {
          "output_type": "stream",
          "name": "stderr",
          "text": [
            "100%|██████████| 20/20 [00:17<00:00,  1.15it/s]\n"
          ]
        },
        {
          "output_type": "stream",
          "name": "stdout",
          "text": [
            "DER:  0.1264525420373716 JER:  0.2636284159676443\n",
            "thr1:  1.0781016062837196 thr2:  0.40080567837487363 ps:  1.2\n",
            "\n",
            "Embedding size is 512, encoder ASP.\n"
          ]
        },
        {
          "output_type": "stream",
          "name": "stderr",
          "text": [
            "100%|██████████| 20/20 [01:14<00:00,  3.71s/it]\n"
          ]
        },
        {
          "output_type": "stream",
          "name": "stdout",
          "text": [
            "DER:  0.15402108320889393 JER:  0.17260427607908882\n",
            "thr1:  1.0781016062837196 thr2:  0.5707490008276046 ps:  1.2\n",
            "\n",
            "Embedding size is 512, encoder ASP.\n"
          ]
        },
        {
          "output_type": "stream",
          "name": "stderr",
          "text": [
            "100%|██████████| 20/20 [00:20<00:00,  1.04s/it]\n"
          ]
        },
        {
          "output_type": "stream",
          "name": "stdout",
          "text": [
            "DER:  0.10883085276244399 JER:  0.2147185534237039\n",
            "thr1:  1.0781016062837196 thr2:  0.4345465555338114 ps:  1.2\n",
            "\n",
            "Embedding size is 512, encoder ASP.\n"
          ]
        },
        {
          "output_type": "stream",
          "name": "stderr",
          "text": [
            "100%|██████████| 20/20 [00:09<00:00,  2.02it/s]\n"
          ]
        },
        {
          "output_type": "stream",
          "name": "stdout",
          "text": [
            "DER:  0.31724872451099434 JER:  0.6508612258515633\n",
            "thr1:  1.0781016062837196 thr2:  0.26694410829836873 ps:  1.2\n",
            "\n",
            "Embedding size is 512, encoder ASP.\n"
          ]
        },
        {
          "output_type": "stream",
          "name": "stderr",
          "text": [
            "100%|██████████| 20/20 [00:11<00:00,  1.75it/s]\n"
          ]
        },
        {
          "output_type": "stream",
          "name": "stdout",
          "text": [
            "DER:  0.2299121718557572 JER:  0.5122508665111324\n",
            "thr1:  1.0781016062837196 thr2:  0.30725661597565757 ps:  1.2\n",
            "\n",
            "Embedding size is 512, encoder ASP.\n"
          ]
        },
        {
          "output_type": "stream",
          "name": "stderr",
          "text": [
            "100%|██████████| 20/20 [00:22<00:00,  1.11s/it]\n"
          ]
        },
        {
          "output_type": "stream",
          "name": "stdout",
          "text": [
            "DER:  0.10257458247102381 JER:  0.1959347558128616\n",
            "thr1:  1.0781016062837196 thr2:  0.44276822188217774 ps:  1.2\n",
            "\n",
            "Embedding size is 512, encoder ASP.\n"
          ]
        },
        {
          "output_type": "stream",
          "name": "stderr",
          "text": [
            "100%|██████████| 20/20 [00:04<00:00,  4.80it/s]\n"
          ]
        },
        {
          "output_type": "stream",
          "name": "stdout",
          "text": [
            "DER:  0.5898668461979504 JER:  0.9120554382719567\n",
            "thr1:  1.0781016062837196 thr2:  0.11131724524722031 ps:  1.2\n",
            "\n",
            "Embedding size is 512, encoder ASP.\n"
          ]
        },
        {
          "output_type": "stream",
          "name": "stderr",
          "text": [
            "100%|██████████| 20/20 [00:20<00:00,  1.01s/it]\n"
          ]
        },
        {
          "output_type": "stream",
          "name": "stdout",
          "text": [
            "DER:  0.11099111526692562 JER:  0.22882531051934582\n",
            "thr1:  1.0781016062837196 thr2:  0.4267186920317472 ps:  1.2\n",
            "\n",
            "Embedding size is 512, encoder ASP.\n"
          ]
        },
        {
          "output_type": "stream",
          "name": "stderr",
          "text": [
            "100%|██████████| 20/20 [00:18<00:00,  1.09it/s]\n"
          ]
        },
        {
          "output_type": "stream",
          "name": "stdout",
          "text": [
            "DER:  0.12517478638411156 JER:  0.2540467656938167\n",
            "thr1:  1.344302986195871 thr2:  0.4127589310903124 ps:  1.2\n",
            "\n",
            "Embedding size is 512, encoder ASP.\n"
          ]
        },
        {
          "output_type": "stream",
          "name": "stderr",
          "text": [
            "100%|██████████| 20/20 [00:04<00:00,  4.25it/s]\n"
          ]
        },
        {
          "output_type": "stream",
          "name": "stdout",
          "text": [
            "DER:  0.5582531510019825 JER:  0.8850092017711451\n",
            "thr1:  1.344302986195871 thr2:  0.15454370945270413 ps:  1.2\n",
            "\n",
            "Embedding size is 512, encoder ASP.\n"
          ]
        },
        {
          "output_type": "stream",
          "name": "stderr",
          "text": [
            "100%|██████████| 20/20 [01:13<00:00,  3.69s/it]\n"
          ]
        },
        {
          "output_type": "stream",
          "name": "stdout",
          "text": [
            "DER:  0.15561244500732957 JER:  0.17731579701265054\n",
            "thr1:  1.344302986195871 thr2:  0.5712278368657836 ps:  1.2\n",
            "\n",
            "Embedding size is 512, encoder ASP.\n"
          ]
        },
        {
          "output_type": "stream",
          "name": "stderr",
          "text": [
            "100%|██████████| 20/20 [00:13<00:00,  1.44it/s]\n"
          ]
        },
        {
          "output_type": "stream",
          "name": "stdout",
          "text": [
            "DER:  0.1721174842147535 JER:  0.3976323919805315\n",
            "thr1:  1.344302986195871 thr2:  0.35136112731003727 ps:  1.2\n",
            "\n",
            "Embedding size is 512, encoder ASP.\n"
          ]
        },
        {
          "output_type": "stream",
          "name": "stderr",
          "text": [
            "100%|██████████| 20/20 [00:10<00:00,  1.84it/s]\n"
          ]
        },
        {
          "output_type": "stream",
          "name": "stdout",
          "text": [
            "DER:  0.24805230900269606 JER:  0.5455080817487873\n",
            "thr1:  1.344302986195871 thr2:  0.2956242087950723 ps:  1.2\n",
            "\n",
            "Embedding size is 512, encoder ASP.\n"
          ]
        },
        {
          "output_type": "stream",
          "name": "stderr",
          "text": [
            "100%|██████████| 20/20 [00:06<00:00,  3.07it/s]\n"
          ]
        },
        {
          "output_type": "stream",
          "name": "stdout",
          "text": [
            "DER:  0.4582136873079857 JER:  0.7903225961646795\n",
            "thr1:  1.344302986195871 thr2:  0.21756891829440606 ps:  1.2\n",
            "\n",
            "Embedding size is 512, encoder ASP.\n"
          ]
        },
        {
          "output_type": "stream",
          "name": "stderr",
          "text": [
            "100%|██████████| 20/20 [00:29<00:00,  1.46s/it]\n"
          ]
        },
        {
          "output_type": "stream",
          "name": "stdout",
          "text": [
            "DER:  0.08263362506500352 JER:  0.14932725782264578\n",
            "thr1:  1.344302986195871 thr2:  0.4826015185057927 ps:  1.2\n",
            "\n",
            "Embedding size is 512, encoder ASP.\n"
          ]
        },
        {
          "output_type": "stream",
          "name": "stderr",
          "text": [
            "100%|██████████| 20/20 [00:12<00:00,  1.66it/s]\n"
          ]
        },
        {
          "output_type": "stream",
          "name": "stdout",
          "text": [
            "DER:  0.21581329716188138 JER:  0.4839135183551997\n",
            "thr1:  1.344302986195871 thr2:  0.31719817275260526 ps:  1.2\n",
            "\n",
            "Embedding size is 512, encoder ASP.\n"
          ]
        },
        {
          "output_type": "stream",
          "name": "stderr",
          "text": [
            "100%|██████████| 20/20 [00:15<00:00,  1.31it/s]\n"
          ]
        },
        {
          "output_type": "stream",
          "name": "stdout",
          "text": [
            "DER:  0.1551216247359451 JER:  0.32846906473941484\n",
            "thr1:  1.344302986195871 thr2:  0.37558565341169725 ps:  1.2\n",
            "\n",
            "Embedding size is 512, encoder ASP.\n"
          ]
        },
        {
          "output_type": "stream",
          "name": "stderr",
          "text": [
            "100%|██████████| 20/20 [00:04<00:00,  4.19it/s]\n"
          ]
        },
        {
          "output_type": "stream",
          "name": "stdout",
          "text": [
            "DER:  0.6047331063906828 JER:  0.9258816504695814\n",
            "thr1:  1.344302986195871 thr2:  0.08977069622690467 ps:  1.2\n",
            "\n",
            "Embedding size is 512, encoder ASP.\n"
          ]
        },
        {
          "output_type": "stream",
          "name": "stderr",
          "text": [
            "100%|██████████| 20/20 [00:18<00:00,  1.08it/s]\n"
          ]
        },
        {
          "output_type": "stream",
          "name": "stdout",
          "text": [
            "DER:  0.1264525420373716 JER:  0.2636284159676443\n",
            "thr1:  1.344302986195871 thr2:  0.4011704584794561 ps:  1.2\n",
            "\n",
            "Embedding size is 512, encoder ASP.\n"
          ]
        },
        {
          "output_type": "stream",
          "name": "stderr",
          "text": [
            "100%|██████████| 20/20 [00:17<00:00,  1.15it/s]\n"
          ]
        },
        {
          "output_type": "stream",
          "name": "stdout",
          "text": [
            "DER:  0.125796015378868 JER:  0.27465600877321183\n",
            "thr1:  1.344302986195871 thr2:  0.39828977581565916 ps:  1.2\n",
            "\n",
            "Embedding size is 512, encoder ASP.\n"
          ]
        },
        {
          "output_type": "stream",
          "name": "stderr",
          "text": [
            "100%|██████████| 20/20 [00:17<00:00,  1.12it/s]\n"
          ]
        },
        {
          "output_type": "stream",
          "name": "stdout",
          "text": [
            "DER:  0.1264525420373716 JER:  0.2636284159676443\n",
            "thr1:  1.344302986195871 thr2:  0.40080567837487363 ps:  1.2\n",
            "\n",
            "Embedding size is 512, encoder ASP.\n"
          ]
        },
        {
          "output_type": "stream",
          "name": "stderr",
          "text": [
            "100%|██████████| 20/20 [01:16<00:00,  3.81s/it]\n"
          ]
        },
        {
          "output_type": "stream",
          "name": "stdout",
          "text": [
            "DER:  0.15402108320889393 JER:  0.17260427607908882\n",
            "thr1:  1.344302986195871 thr2:  0.5707490008276046 ps:  1.2\n",
            "\n",
            "Embedding size is 512, encoder ASP.\n"
          ]
        },
        {
          "output_type": "stream",
          "name": "stderr",
          "text": [
            "100%|██████████| 20/20 [00:22<00:00,  1.10s/it]\n"
          ]
        },
        {
          "output_type": "stream",
          "name": "stdout",
          "text": [
            "DER:  0.10883085276244399 JER:  0.2147185534237039\n",
            "thr1:  1.344302986195871 thr2:  0.4345465555338114 ps:  1.2\n",
            "\n",
            "Embedding size is 512, encoder ASP.\n"
          ]
        },
        {
          "output_type": "stream",
          "name": "stderr",
          "text": [
            "100%|██████████| 20/20 [00:10<00:00,  1.99it/s]\n"
          ]
        },
        {
          "output_type": "stream",
          "name": "stdout",
          "text": [
            "DER:  0.31724872451099434 JER:  0.6508612258515633\n",
            "thr1:  1.344302986195871 thr2:  0.26694410829836873 ps:  1.2\n",
            "\n",
            "Embedding size is 512, encoder ASP.\n"
          ]
        },
        {
          "output_type": "stream",
          "name": "stderr",
          "text": [
            "100%|██████████| 20/20 [00:12<00:00,  1.66it/s]\n"
          ]
        },
        {
          "output_type": "stream",
          "name": "stdout",
          "text": [
            "DER:  0.2299121718557572 JER:  0.5122508665111324\n",
            "thr1:  1.344302986195871 thr2:  0.30725661597565757 ps:  1.2\n",
            "\n",
            "Embedding size is 512, encoder ASP.\n"
          ]
        },
        {
          "output_type": "stream",
          "name": "stderr",
          "text": [
            "100%|██████████| 20/20 [00:23<00:00,  1.18s/it]\n"
          ]
        },
        {
          "output_type": "stream",
          "name": "stdout",
          "text": [
            "DER:  0.10257458247102381 JER:  0.1959347558128616\n",
            "thr1:  1.344302986195871 thr2:  0.44276822188217774 ps:  1.2\n",
            "\n",
            "Embedding size is 512, encoder ASP.\n"
          ]
        },
        {
          "output_type": "stream",
          "name": "stderr",
          "text": [
            "100%|██████████| 20/20 [00:04<00:00,  4.54it/s]\n"
          ]
        },
        {
          "output_type": "stream",
          "name": "stdout",
          "text": [
            "DER:  0.5898668461979504 JER:  0.9120554382719567\n",
            "thr1:  1.344302986195871 thr2:  0.11131724524722031 ps:  1.2\n",
            "\n",
            "Embedding size is 512, encoder ASP.\n"
          ]
        },
        {
          "output_type": "stream",
          "name": "stderr",
          "text": [
            "100%|██████████| 20/20 [00:20<00:00,  1.03s/it]\n"
          ]
        },
        {
          "output_type": "stream",
          "name": "stdout",
          "text": [
            "DER:  0.11099111526692562 JER:  0.22882531051934582\n",
            "thr1:  1.344302986195871 thr2:  0.4267186920317472 ps:  1.2\n",
            "\n",
            "Embedding size is 512, encoder ASP.\n"
          ]
        },
        {
          "output_type": "stream",
          "name": "stderr",
          "text": [
            "100%|██████████| 20/20 [00:18<00:00,  1.06it/s]\n"
          ]
        },
        {
          "output_type": "stream",
          "name": "stdout",
          "text": [
            "DER:  0.12517478638411156 JER:  0.2540467656938167\n",
            "thr1:  1.1644214017146302 thr2:  0.4127589310903124 ps:  1.2\n",
            "\n",
            "Embedding size is 512, encoder ASP.\n"
          ]
        },
        {
          "output_type": "stream",
          "name": "stderr",
          "text": [
            "100%|██████████| 20/20 [00:04<00:00,  4.04it/s]\n"
          ]
        },
        {
          "output_type": "stream",
          "name": "stdout",
          "text": [
            "DER:  0.5582531510019825 JER:  0.8850092017711451\n",
            "thr1:  1.1644214017146302 thr2:  0.15454370945270413 ps:  1.2\n",
            "\n",
            "Embedding size is 512, encoder ASP.\n"
          ]
        },
        {
          "output_type": "stream",
          "name": "stderr",
          "text": [
            "100%|██████████| 20/20 [01:15<00:00,  3.77s/it]\n"
          ]
        },
        {
          "output_type": "stream",
          "name": "stdout",
          "text": [
            "DER:  0.15561244500732957 JER:  0.17731579701265054\n",
            "thr1:  1.1644214017146302 thr2:  0.5712278368657836 ps:  1.2\n",
            "\n",
            "Embedding size is 512, encoder ASP.\n"
          ]
        },
        {
          "output_type": "stream",
          "name": "stderr",
          "text": [
            "100%|██████████| 20/20 [00:14<00:00,  1.38it/s]\n"
          ]
        },
        {
          "output_type": "stream",
          "name": "stdout",
          "text": [
            "DER:  0.1721174842147535 JER:  0.3976323919805315\n",
            "thr1:  1.1644214017146302 thr2:  0.35136112731003727 ps:  1.2\n",
            "\n",
            "Embedding size is 512, encoder ASP.\n"
          ]
        },
        {
          "output_type": "stream",
          "name": "stderr",
          "text": [
            "100%|██████████| 20/20 [00:11<00:00,  1.80it/s]\n"
          ]
        },
        {
          "output_type": "stream",
          "name": "stdout",
          "text": [
            "DER:  0.24805230900269606 JER:  0.5455080817487873\n",
            "thr1:  1.1644214017146302 thr2:  0.2956242087950723 ps:  1.2\n",
            "\n",
            "Embedding size is 512, encoder ASP.\n"
          ]
        },
        {
          "output_type": "stream",
          "name": "stderr",
          "text": [
            "100%|██████████| 20/20 [00:07<00:00,  2.84it/s]\n"
          ]
        },
        {
          "output_type": "stream",
          "name": "stdout",
          "text": [
            "DER:  0.4582136873079857 JER:  0.7903225961646795\n",
            "thr1:  1.1644214017146302 thr2:  0.21756891829440606 ps:  1.2\n",
            "\n",
            "Embedding size is 512, encoder ASP.\n"
          ]
        },
        {
          "output_type": "stream",
          "name": "stderr",
          "text": [
            "100%|██████████| 20/20 [00:28<00:00,  1.45s/it]\n"
          ]
        },
        {
          "output_type": "stream",
          "name": "stdout",
          "text": [
            "DER:  0.08263362506500352 JER:  0.14932725782264578\n",
            "thr1:  1.1644214017146302 thr2:  0.4826015185057927 ps:  1.2\n",
            "\n",
            "Embedding size is 512, encoder ASP.\n"
          ]
        },
        {
          "output_type": "stream",
          "name": "stderr",
          "text": [
            "100%|██████████| 20/20 [00:11<00:00,  1.70it/s]\n"
          ]
        },
        {
          "output_type": "stream",
          "name": "stdout",
          "text": [
            "DER:  0.21581329716188138 JER:  0.4839135183551997\n",
            "thr1:  1.1644214017146302 thr2:  0.31719817275260526 ps:  1.2\n",
            "\n",
            "Embedding size is 512, encoder ASP.\n"
          ]
        },
        {
          "output_type": "stream",
          "name": "stderr",
          "text": [
            "100%|██████████| 20/20 [00:15<00:00,  1.31it/s]\n"
          ]
        },
        {
          "output_type": "stream",
          "name": "stdout",
          "text": [
            "DER:  0.1551216247359451 JER:  0.32846906473941484\n",
            "thr1:  1.1644214017146302 thr2:  0.37558565341169725 ps:  1.2\n",
            "\n",
            "Embedding size is 512, encoder ASP.\n"
          ]
        },
        {
          "output_type": "stream",
          "name": "stderr",
          "text": [
            "100%|██████████| 20/20 [00:04<00:00,  4.79it/s]\n"
          ]
        },
        {
          "output_type": "stream",
          "name": "stdout",
          "text": [
            "DER:  0.6047331063906828 JER:  0.9258816504695814\n",
            "thr1:  1.1644214017146302 thr2:  0.08977069622690467 ps:  1.2\n",
            "\n",
            "Embedding size is 512, encoder ASP.\n"
          ]
        },
        {
          "output_type": "stream",
          "name": "stderr",
          "text": [
            "100%|██████████| 20/20 [00:17<00:00,  1.13it/s]\n"
          ]
        },
        {
          "output_type": "stream",
          "name": "stdout",
          "text": [
            "DER:  0.1264525420373716 JER:  0.2636284159676443\n",
            "thr1:  1.1644214017146302 thr2:  0.4011704584794561 ps:  1.2\n",
            "\n",
            "Embedding size is 512, encoder ASP.\n"
          ]
        },
        {
          "output_type": "stream",
          "name": "stderr",
          "text": [
            "100%|██████████| 20/20 [00:16<00:00,  1.19it/s]\n"
          ]
        },
        {
          "output_type": "stream",
          "name": "stdout",
          "text": [
            "DER:  0.125796015378868 JER:  0.27465600877321183\n",
            "thr1:  1.1644214017146302 thr2:  0.39828977581565916 ps:  1.2\n",
            "\n",
            "Embedding size is 512, encoder ASP.\n"
          ]
        },
        {
          "output_type": "stream",
          "name": "stderr",
          "text": [
            "100%|██████████| 20/20 [00:17<00:00,  1.15it/s]\n"
          ]
        },
        {
          "output_type": "stream",
          "name": "stdout",
          "text": [
            "DER:  0.1264525420373716 JER:  0.2636284159676443\n",
            "thr1:  1.1644214017146302 thr2:  0.40080567837487363 ps:  1.2\n",
            "\n",
            "Embedding size is 512, encoder ASP.\n"
          ]
        },
        {
          "output_type": "stream",
          "name": "stderr",
          "text": [
            "100%|██████████| 20/20 [01:15<00:00,  3.78s/it]\n"
          ]
        },
        {
          "output_type": "stream",
          "name": "stdout",
          "text": [
            "DER:  0.15402108320889393 JER:  0.17260427607908882\n",
            "thr1:  1.1644214017146302 thr2:  0.5707490008276046 ps:  1.2\n",
            "\n",
            "Embedding size is 512, encoder ASP.\n"
          ]
        },
        {
          "output_type": "stream",
          "name": "stderr",
          "text": [
            "100%|██████████| 20/20 [00:21<00:00,  1.07s/it]\n"
          ]
        },
        {
          "output_type": "stream",
          "name": "stdout",
          "text": [
            "DER:  0.10883085276244399 JER:  0.2147185534237039\n",
            "thr1:  1.1644214017146302 thr2:  0.4345465555338114 ps:  1.2\n",
            "\n",
            "Embedding size is 512, encoder ASP.\n"
          ]
        },
        {
          "output_type": "stream",
          "name": "stderr",
          "text": [
            "100%|██████████| 20/20 [00:09<00:00,  2.05it/s]\n"
          ]
        },
        {
          "output_type": "stream",
          "name": "stdout",
          "text": [
            "DER:  0.31724872451099434 JER:  0.6508612258515633\n",
            "thr1:  1.1644214017146302 thr2:  0.26694410829836873 ps:  1.2\n",
            "\n",
            "Embedding size is 512, encoder ASP.\n"
          ]
        },
        {
          "output_type": "stream",
          "name": "stderr",
          "text": [
            "100%|██████████| 20/20 [00:11<00:00,  1.71it/s]\n"
          ]
        },
        {
          "output_type": "stream",
          "name": "stdout",
          "text": [
            "DER:  0.2299121718557572 JER:  0.5122508665111324\n",
            "thr1:  1.1644214017146302 thr2:  0.30725661597565757 ps:  1.2\n",
            "\n",
            "Embedding size is 512, encoder ASP.\n"
          ]
        },
        {
          "output_type": "stream",
          "name": "stderr",
          "text": [
            "100%|██████████| 20/20 [00:22<00:00,  1.13s/it]\n"
          ]
        },
        {
          "output_type": "stream",
          "name": "stdout",
          "text": [
            "DER:  0.10257458247102381 JER:  0.1959347558128616\n",
            "thr1:  1.1644214017146302 thr2:  0.44276822188217774 ps:  1.2\n",
            "\n",
            "Embedding size is 512, encoder ASP.\n"
          ]
        },
        {
          "output_type": "stream",
          "name": "stderr",
          "text": [
            "100%|██████████| 20/20 [00:04<00:00,  4.76it/s]\n"
          ]
        },
        {
          "output_type": "stream",
          "name": "stdout",
          "text": [
            "DER:  0.5898668461979504 JER:  0.9120554382719567\n",
            "thr1:  1.1644214017146302 thr2:  0.11131724524722031 ps:  1.2\n",
            "\n",
            "Embedding size is 512, encoder ASP.\n"
          ]
        },
        {
          "output_type": "stream",
          "name": "stderr",
          "text": [
            "100%|██████████| 20/20 [00:19<00:00,  1.02it/s]\n"
          ]
        },
        {
          "output_type": "stream",
          "name": "stdout",
          "text": [
            "DER:  0.11099111526692562 JER:  0.22882531051934582\n",
            "thr1:  1.1644214017146302 thr2:  0.4267186920317472 ps:  1.2\n",
            "\n",
            "Embedding size is 512, encoder ASP.\n"
          ]
        },
        {
          "output_type": "stream",
          "name": "stderr",
          "text": [
            "100%|██████████| 20/20 [00:18<00:00,  1.07it/s]\n"
          ]
        },
        {
          "output_type": "stream",
          "name": "stdout",
          "text": [
            "DER:  0.12517478638411156 JER:  0.2540467656938167\n",
            "thr1:  1.0718130927950351 thr2:  0.4127589310903124 ps:  1.2\n",
            "\n",
            "Embedding size is 512, encoder ASP.\n"
          ]
        },
        {
          "output_type": "stream",
          "name": "stderr",
          "text": [
            "100%|██████████| 20/20 [00:04<00:00,  4.24it/s]\n"
          ]
        },
        {
          "output_type": "stream",
          "name": "stdout",
          "text": [
            "DER:  0.5582531510019825 JER:  0.8850092017711451\n",
            "thr1:  1.0718130927950351 thr2:  0.15454370945270413 ps:  1.2\n",
            "\n",
            "Embedding size is 512, encoder ASP.\n"
          ]
        },
        {
          "output_type": "stream",
          "name": "stderr",
          "text": [
            "100%|██████████| 20/20 [01:14<00:00,  3.73s/it]\n"
          ]
        },
        {
          "output_type": "stream",
          "name": "stdout",
          "text": [
            "DER:  0.15561244500732957 JER:  0.17731579701265054\n",
            "thr1:  1.0718130927950351 thr2:  0.5712278368657836 ps:  1.2\n",
            "\n",
            "Embedding size is 512, encoder ASP.\n"
          ]
        },
        {
          "output_type": "stream",
          "name": "stderr",
          "text": [
            "100%|██████████| 20/20 [00:13<00:00,  1.44it/s]\n"
          ]
        },
        {
          "output_type": "stream",
          "name": "stdout",
          "text": [
            "DER:  0.1721174842147535 JER:  0.3976323919805315\n",
            "thr1:  1.0718130927950351 thr2:  0.35136112731003727 ps:  1.2\n",
            "\n",
            "Embedding size is 512, encoder ASP.\n"
          ]
        },
        {
          "output_type": "stream",
          "name": "stderr",
          "text": [
            "100%|██████████| 20/20 [00:11<00:00,  1.81it/s]\n"
          ]
        },
        {
          "output_type": "stream",
          "name": "stdout",
          "text": [
            "DER:  0.24805230900269606 JER:  0.5455080817487873\n",
            "thr1:  1.0718130927950351 thr2:  0.2956242087950723 ps:  1.2\n",
            "\n",
            "Embedding size is 512, encoder ASP.\n"
          ]
        },
        {
          "output_type": "stream",
          "name": "stderr",
          "text": [
            "100%|██████████| 20/20 [00:07<00:00,  2.85it/s]\n"
          ]
        },
        {
          "output_type": "stream",
          "name": "stdout",
          "text": [
            "DER:  0.4582136873079857 JER:  0.7903225961646795\n",
            "thr1:  1.0718130927950351 thr2:  0.21756891829440606 ps:  1.2\n",
            "\n",
            "Embedding size is 512, encoder ASP.\n"
          ]
        },
        {
          "output_type": "stream",
          "name": "stderr",
          "text": [
            "100%|██████████| 20/20 [00:28<00:00,  1.44s/it]\n"
          ]
        },
        {
          "output_type": "stream",
          "name": "stdout",
          "text": [
            "DER:  0.08263362506500352 JER:  0.14932725782264578\n",
            "thr1:  1.0718130927950351 thr2:  0.4826015185057927 ps:  1.2\n",
            "\n",
            "Embedding size is 512, encoder ASP.\n"
          ]
        },
        {
          "output_type": "stream",
          "name": "stderr",
          "text": [
            "100%|██████████| 20/20 [00:11<00:00,  1.72it/s]\n"
          ]
        },
        {
          "output_type": "stream",
          "name": "stdout",
          "text": [
            "DER:  0.21581329716188138 JER:  0.4839135183551997\n",
            "thr1:  1.0718130927950351 thr2:  0.31719817275260526 ps:  1.2\n",
            "\n",
            "Embedding size is 512, encoder ASP.\n"
          ]
        },
        {
          "output_type": "stream",
          "name": "stderr",
          "text": [
            "100%|██████████| 20/20 [00:15<00:00,  1.32it/s]\n"
          ]
        },
        {
          "output_type": "stream",
          "name": "stdout",
          "text": [
            "DER:  0.1551216247359451 JER:  0.32846906473941484\n",
            "thr1:  1.0718130927950351 thr2:  0.37558565341169725 ps:  1.2\n",
            "\n",
            "Embedding size is 512, encoder ASP.\n"
          ]
        },
        {
          "output_type": "stream",
          "name": "stderr",
          "text": [
            "100%|██████████| 20/20 [00:04<00:00,  4.87it/s]\n"
          ]
        },
        {
          "output_type": "stream",
          "name": "stdout",
          "text": [
            "DER:  0.6047331063906828 JER:  0.9258816504695814\n",
            "thr1:  1.0718130927950351 thr2:  0.08977069622690467 ps:  1.2\n",
            "\n",
            "Embedding size is 512, encoder ASP.\n"
          ]
        },
        {
          "output_type": "stream",
          "name": "stderr",
          "text": [
            "100%|██████████| 20/20 [00:17<00:00,  1.17it/s]\n"
          ]
        },
        {
          "output_type": "stream",
          "name": "stdout",
          "text": [
            "DER:  0.1264525420373716 JER:  0.2636284159676443\n",
            "thr1:  1.0718130927950351 thr2:  0.4011704584794561 ps:  1.2\n",
            "\n",
            "Embedding size is 512, encoder ASP.\n"
          ]
        },
        {
          "output_type": "stream",
          "name": "stderr",
          "text": [
            "100%|██████████| 20/20 [00:16<00:00,  1.20it/s]\n"
          ]
        },
        {
          "output_type": "stream",
          "name": "stdout",
          "text": [
            "DER:  0.125796015378868 JER:  0.27465600877321183\n",
            "thr1:  1.0718130927950351 thr2:  0.39828977581565916 ps:  1.2\n",
            "\n",
            "Embedding size is 512, encoder ASP.\n"
          ]
        },
        {
          "output_type": "stream",
          "name": "stderr",
          "text": [
            "100%|██████████| 20/20 [00:16<00:00,  1.19it/s]\n"
          ]
        },
        {
          "output_type": "stream",
          "name": "stdout",
          "text": [
            "DER:  0.1264525420373716 JER:  0.2636284159676443\n",
            "thr1:  1.0718130927950351 thr2:  0.40080567837487363 ps:  1.2\n",
            "\n",
            "Embedding size is 512, encoder ASP.\n"
          ]
        },
        {
          "output_type": "stream",
          "name": "stderr",
          "text": [
            "100%|██████████| 20/20 [01:12<00:00,  3.61s/it]\n"
          ]
        },
        {
          "output_type": "stream",
          "name": "stdout",
          "text": [
            "DER:  0.15402108320889393 JER:  0.17260427607908882\n",
            "thr1:  1.0718130927950351 thr2:  0.5707490008276046 ps:  1.2\n",
            "\n",
            "Embedding size is 512, encoder ASP.\n"
          ]
        },
        {
          "output_type": "stream",
          "name": "stderr",
          "text": [
            "100%|██████████| 20/20 [00:20<00:00,  1.04s/it]\n"
          ]
        },
        {
          "output_type": "stream",
          "name": "stdout",
          "text": [
            "DER:  0.10883085276244399 JER:  0.2147185534237039\n",
            "thr1:  1.0718130927950351 thr2:  0.4345465555338114 ps:  1.2\n",
            "\n",
            "Embedding size is 512, encoder ASP.\n"
          ]
        },
        {
          "output_type": "stream",
          "name": "stderr",
          "text": [
            "100%|██████████| 20/20 [00:09<00:00,  2.04it/s]\n"
          ]
        },
        {
          "output_type": "stream",
          "name": "stdout",
          "text": [
            "DER:  0.31724872451099434 JER:  0.6508612258515633\n",
            "thr1:  1.0718130927950351 thr2:  0.26694410829836873 ps:  1.2\n",
            "\n",
            "Embedding size is 512, encoder ASP.\n"
          ]
        },
        {
          "output_type": "stream",
          "name": "stderr",
          "text": [
            "100%|██████████| 20/20 [00:11<00:00,  1.76it/s]\n"
          ]
        },
        {
          "output_type": "stream",
          "name": "stdout",
          "text": [
            "DER:  0.2299121718557572 JER:  0.5122508665111324\n",
            "thr1:  1.0718130927950351 thr2:  0.30725661597565757 ps:  1.2\n",
            "\n",
            "Embedding size is 512, encoder ASP.\n"
          ]
        },
        {
          "output_type": "stream",
          "name": "stderr",
          "text": [
            "100%|██████████| 20/20 [00:21<00:00,  1.09s/it]\n"
          ]
        },
        {
          "output_type": "stream",
          "name": "stdout",
          "text": [
            "DER:  0.10257458247102381 JER:  0.1959347558128616\n",
            "thr1:  1.0718130927950351 thr2:  0.44276822188217774 ps:  1.2\n",
            "\n",
            "Embedding size is 512, encoder ASP.\n"
          ]
        },
        {
          "output_type": "stream",
          "name": "stderr",
          "text": [
            "100%|██████████| 20/20 [00:04<00:00,  4.15it/s]\n"
          ]
        },
        {
          "output_type": "stream",
          "name": "stdout",
          "text": [
            "DER:  0.5898668461979504 JER:  0.9120554382719567\n",
            "thr1:  1.0718130927950351 thr2:  0.11131724524722031 ps:  1.2\n",
            "\n",
            "Embedding size is 512, encoder ASP.\n"
          ]
        },
        {
          "output_type": "stream",
          "name": "stderr",
          "text": [
            "100%|██████████| 20/20 [00:19<00:00,  1.00it/s]\n"
          ]
        },
        {
          "output_type": "stream",
          "name": "stdout",
          "text": [
            "DER:  0.11099111526692562 JER:  0.22882531051934582\n",
            "thr1:  1.0718130927950351 thr2:  0.4267186920317472 ps:  1.2\n",
            "\n",
            "Embedding size is 512, encoder ASP.\n"
          ]
        },
        {
          "output_type": "stream",
          "name": "stderr",
          "text": [
            "100%|██████████| 20/20 [00:18<00:00,  1.08it/s]\n"
          ]
        },
        {
          "output_type": "stream",
          "name": "stdout",
          "text": [
            "DER:  0.12517478638411156 JER:  0.2540467656938167\n",
            "thr1:  0.8778476789422476 thr2:  0.4127589310903124 ps:  1.2\n",
            "\n",
            "Embedding size is 512, encoder ASP.\n"
          ]
        },
        {
          "output_type": "stream",
          "name": "stderr",
          "text": [
            "100%|██████████| 20/20 [00:04<00:00,  4.26it/s]\n"
          ]
        },
        {
          "output_type": "stream",
          "name": "stdout",
          "text": [
            "DER:  0.5582531510019825 JER:  0.8850092017711451\n",
            "thr1:  0.8778476789422476 thr2:  0.15454370945270413 ps:  1.2\n",
            "\n",
            "Embedding size is 512, encoder ASP.\n"
          ]
        },
        {
          "output_type": "stream",
          "name": "stderr",
          "text": [
            "100%|██████████| 20/20 [01:13<00:00,  3.67s/it]\n"
          ]
        },
        {
          "output_type": "stream",
          "name": "stdout",
          "text": [
            "DER:  0.15561244500732957 JER:  0.17731579701265054\n",
            "thr1:  0.8778476789422476 thr2:  0.5712278368657836 ps:  1.2\n",
            "\n",
            "Embedding size is 512, encoder ASP.\n"
          ]
        },
        {
          "output_type": "stream",
          "name": "stderr",
          "text": [
            "100%|██████████| 20/20 [00:13<00:00,  1.46it/s]\n"
          ]
        },
        {
          "output_type": "stream",
          "name": "stdout",
          "text": [
            "DER:  0.1721174842147535 JER:  0.3976323919805315\n",
            "thr1:  0.8778476789422476 thr2:  0.35136112731003727 ps:  1.2\n",
            "\n",
            "Embedding size is 512, encoder ASP.\n"
          ]
        },
        {
          "output_type": "stream",
          "name": "stderr",
          "text": [
            "100%|██████████| 20/20 [00:11<00:00,  1.81it/s]\n"
          ]
        },
        {
          "output_type": "stream",
          "name": "stdout",
          "text": [
            "DER:  0.24805230900269606 JER:  0.5455080817487873\n",
            "thr1:  0.8778476789422476 thr2:  0.2956242087950723 ps:  1.2\n",
            "\n",
            "Embedding size is 512, encoder ASP.\n"
          ]
        },
        {
          "output_type": "stream",
          "name": "stderr",
          "text": [
            "100%|██████████| 20/20 [00:06<00:00,  2.96it/s]\n"
          ]
        },
        {
          "output_type": "stream",
          "name": "stdout",
          "text": [
            "DER:  0.4582136873079857 JER:  0.7903225961646795\n",
            "thr1:  0.8778476789422476 thr2:  0.21756891829440606 ps:  1.2\n",
            "\n",
            "Embedding size is 512, encoder ASP.\n"
          ]
        },
        {
          "output_type": "stream",
          "name": "stderr",
          "text": [
            "100%|██████████| 20/20 [00:28<00:00,  1.44s/it]\n"
          ]
        },
        {
          "output_type": "stream",
          "name": "stdout",
          "text": [
            "DER:  0.08263362506500352 JER:  0.14932725782264578\n",
            "thr1:  0.8778476789422476 thr2:  0.4826015185057927 ps:  1.2\n",
            "\n",
            "Embedding size is 512, encoder ASP.\n"
          ]
        },
        {
          "output_type": "stream",
          "name": "stderr",
          "text": [
            "100%|██████████| 20/20 [00:11<00:00,  1.69it/s]\n"
          ]
        },
        {
          "output_type": "stream",
          "name": "stdout",
          "text": [
            "DER:  0.21581329716188138 JER:  0.4839135183551997\n",
            "thr1:  0.8778476789422476 thr2:  0.31719817275260526 ps:  1.2\n",
            "\n",
            "Embedding size is 512, encoder ASP.\n"
          ]
        },
        {
          "output_type": "stream",
          "name": "stderr",
          "text": [
            "100%|██████████| 20/20 [00:14<00:00,  1.36it/s]\n"
          ]
        },
        {
          "output_type": "stream",
          "name": "stdout",
          "text": [
            "DER:  0.1551216247359451 JER:  0.32846906473941484\n",
            "thr1:  0.8778476789422476 thr2:  0.37558565341169725 ps:  1.2\n",
            "\n",
            "Embedding size is 512, encoder ASP.\n"
          ]
        },
        {
          "output_type": "stream",
          "name": "stderr",
          "text": [
            "100%|██████████| 20/20 [00:04<00:00,  4.87it/s]\n"
          ]
        },
        {
          "output_type": "stream",
          "name": "stdout",
          "text": [
            "DER:  0.6047331063906828 JER:  0.9258816504695814\n",
            "thr1:  0.8778476789422476 thr2:  0.08977069622690467 ps:  1.2\n",
            "\n",
            "Embedding size is 512, encoder ASP.\n"
          ]
        },
        {
          "output_type": "stream",
          "name": "stderr",
          "text": [
            "100%|██████████| 20/20 [00:16<00:00,  1.18it/s]\n"
          ]
        },
        {
          "output_type": "stream",
          "name": "stdout",
          "text": [
            "DER:  0.1264525420373716 JER:  0.2636284159676443\n",
            "thr1:  0.8778476789422476 thr2:  0.4011704584794561 ps:  1.2\n",
            "\n",
            "Embedding size is 512, encoder ASP.\n"
          ]
        },
        {
          "output_type": "stream",
          "name": "stderr",
          "text": [
            "100%|██████████| 20/20 [00:16<00:00,  1.23it/s]\n"
          ]
        },
        {
          "output_type": "stream",
          "name": "stdout",
          "text": [
            "DER:  0.125796015378868 JER:  0.27465600877321183\n",
            "thr1:  0.8778476789422476 thr2:  0.39828977581565916 ps:  1.2\n",
            "\n",
            "Embedding size is 512, encoder ASP.\n"
          ]
        },
        {
          "output_type": "stream",
          "name": "stderr",
          "text": [
            "100%|██████████| 20/20 [00:16<00:00,  1.19it/s]\n"
          ]
        },
        {
          "output_type": "stream",
          "name": "stdout",
          "text": [
            "DER:  0.1264525420373716 JER:  0.2636284159676443\n",
            "thr1:  0.8778476789422476 thr2:  0.40080567837487363 ps:  1.2\n",
            "\n",
            "Embedding size is 512, encoder ASP.\n"
          ]
        },
        {
          "output_type": "stream",
          "name": "stderr",
          "text": [
            "100%|██████████| 20/20 [01:12<00:00,  3.63s/it]\n"
          ]
        },
        {
          "output_type": "stream",
          "name": "stdout",
          "text": [
            "DER:  0.15402108320889393 JER:  0.17260427607908882\n",
            "thr1:  0.8778476789422476 thr2:  0.5707490008276046 ps:  1.2\n",
            "\n",
            "Embedding size is 512, encoder ASP.\n"
          ]
        },
        {
          "output_type": "stream",
          "name": "stderr",
          "text": [
            "100%|██████████| 20/20 [00:21<00:00,  1.05s/it]\n"
          ]
        },
        {
          "output_type": "stream",
          "name": "stdout",
          "text": [
            "DER:  0.10883085276244399 JER:  0.2147185534237039\n",
            "thr1:  0.8778476789422476 thr2:  0.4345465555338114 ps:  1.2\n",
            "\n",
            "Embedding size is 512, encoder ASP.\n"
          ]
        },
        {
          "output_type": "stream",
          "name": "stderr",
          "text": [
            "100%|██████████| 20/20 [00:09<00:00,  2.08it/s]\n"
          ]
        },
        {
          "output_type": "stream",
          "name": "stdout",
          "text": [
            "DER:  0.31724872451099434 JER:  0.6508612258515633\n",
            "thr1:  0.8778476789422476 thr2:  0.26694410829836873 ps:  1.2\n",
            "\n",
            "Embedding size is 512, encoder ASP.\n"
          ]
        },
        {
          "output_type": "stream",
          "name": "stderr",
          "text": [
            "100%|██████████| 20/20 [00:11<00:00,  1.73it/s]\n"
          ]
        },
        {
          "output_type": "stream",
          "name": "stdout",
          "text": [
            "DER:  0.2299121718557572 JER:  0.5122508665111324\n",
            "thr1:  0.8778476789422476 thr2:  0.30725661597565757 ps:  1.2\n",
            "\n",
            "Embedding size is 512, encoder ASP.\n"
          ]
        },
        {
          "output_type": "stream",
          "name": "stderr",
          "text": [
            "100%|██████████| 20/20 [00:22<00:00,  1.11s/it]\n"
          ]
        },
        {
          "output_type": "stream",
          "name": "stdout",
          "text": [
            "DER:  0.10257458247102381 JER:  0.1959347558128616\n",
            "thr1:  0.8778476789422476 thr2:  0.44276822188217774 ps:  1.2\n",
            "\n",
            "Embedding size is 512, encoder ASP.\n"
          ]
        },
        {
          "output_type": "stream",
          "name": "stderr",
          "text": [
            "100%|██████████| 20/20 [00:04<00:00,  4.85it/s]\n"
          ]
        },
        {
          "output_type": "stream",
          "name": "stdout",
          "text": [
            "DER:  0.5898668461979504 JER:  0.9120554382719567\n",
            "thr1:  0.8778476789422476 thr2:  0.11131724524722031 ps:  1.2\n",
            "\n",
            "Embedding size is 512, encoder ASP.\n"
          ]
        },
        {
          "output_type": "stream",
          "name": "stderr",
          "text": [
            "100%|██████████| 20/20 [00:20<00:00,  1.00s/it]\n"
          ]
        },
        {
          "output_type": "stream",
          "name": "stdout",
          "text": [
            "DER:  0.11099111526692562 JER:  0.22882531051934582\n",
            "thr1:  0.8778476789422476 thr2:  0.4267186920317472 ps:  1.2\n",
            "\n",
            "Embedding size is 512, encoder ASP.\n"
          ]
        },
        {
          "output_type": "stream",
          "name": "stderr",
          "text": [
            "100%|██████████| 20/20 [00:18<00:00,  1.06it/s]\n"
          ]
        },
        {
          "output_type": "stream",
          "name": "stdout",
          "text": [
            "DER:  0.12517478638411156 JER:  0.2540467656938167\n",
            "thr1:  1.2334305809066497 thr2:  0.4127589310903124 ps:  1.2\n",
            "\n",
            "Embedding size is 512, encoder ASP.\n"
          ]
        },
        {
          "output_type": "stream",
          "name": "stderr",
          "text": [
            "100%|██████████| 20/20 [00:04<00:00,  4.28it/s]\n"
          ]
        },
        {
          "output_type": "stream",
          "name": "stdout",
          "text": [
            "DER:  0.5582531510019825 JER:  0.8850092017711451\n",
            "thr1:  1.2334305809066497 thr2:  0.15454370945270413 ps:  1.2\n",
            "\n",
            "Embedding size is 512, encoder ASP.\n"
          ]
        },
        {
          "output_type": "stream",
          "name": "stderr",
          "text": [
            "100%|██████████| 20/20 [01:13<00:00,  3.67s/it]\n"
          ]
        },
        {
          "output_type": "error",
          "ename": "KeyboardInterrupt",
          "evalue": "ignored",
          "traceback": [
            "\u001b[0;31m---------------------------------------------------------------------------\u001b[0m",
            "\u001b[0;31mKeyboardInterrupt\u001b[0m                         Traceback (most recent call last)",
            "\u001b[0;32m<ipython-input-10-ec9ea6cfd416>\u001b[0m in \u001b[0;36m<module>\u001b[0;34m()\u001b[0m\n\u001b[1;32m     12\u001b[0m     \u001b[0;32mif\u001b[0m \u001b[0mi2\u001b[0m \u001b[0;34m<\u001b[0m \u001b[0mi1\u001b[0m\u001b[0;34m:\u001b[0m\u001b[0;34m\u001b[0m\u001b[0;34m\u001b[0m\u001b[0m\n\u001b[1;32m     13\u001b[0m       \u001b[0;32mfor\u001b[0m \u001b[0mi3\u001b[0m \u001b[0;32min\u001b[0m \u001b[0mparams3\u001b[0m\u001b[0;34m:\u001b[0m\u001b[0;34m\u001b[0m\u001b[0;34m\u001b[0m\u001b[0m\n\u001b[0;32m---> 14\u001b[0;31m         \u001b[0mder\u001b[0m\u001b[0;34m,\u001b[0m \u001b[0mjer\u001b[0m\u001b[0;34m,\u001b[0m \u001b[0mmes\u001b[0m \u001b[0;34m=\u001b[0m \u001b[0mdiarization2\u001b[0m\u001b[0;34m(\u001b[0m\u001b[0membedding\u001b[0m\u001b[0;34m=\u001b[0m\u001b[0;34m'clova'\u001b[0m\u001b[0;34m,\u001b[0m \u001b[0mclustering\u001b[0m\u001b[0;34m=\u001b[0m\u001b[0;34m'links'\u001b[0m\u001b[0;34m,\u001b[0m \u001b[0mdataset\u001b[0m\u001b[0;34m=\u001b[0m\u001b[0;34m'aishell4'\u001b[0m\u001b[0;34m,\u001b[0m \u001b[0mthr2\u001b[0m\u001b[0;34m=\u001b[0m\u001b[0mi1\u001b[0m\u001b[0;34m,\u001b[0m \u001b[0mthr3\u001b[0m\u001b[0;34m=\u001b[0m\u001b[0mi2\u001b[0m\u001b[0;34m,\u001b[0m \u001b[0mps\u001b[0m\u001b[0;34m=\u001b[0m\u001b[0mi3\u001b[0m\u001b[0;34m)\u001b[0m\u001b[0;34m\u001b[0m\u001b[0;34m\u001b[0m\u001b[0m\n\u001b[0m\u001b[1;32m     15\u001b[0m         \u001b[0;32mif\u001b[0m \u001b[0mcurMin\u001b[0m \u001b[0;34m>\u001b[0m \u001b[0;34m(\u001b[0m\u001b[0mder\u001b[0m \u001b[0;34m+\u001b[0m \u001b[0mjer\u001b[0m\u001b[0;34m)\u001b[0m\u001b[0;34m/\u001b[0m\u001b[0;36m2\u001b[0m\u001b[0;34m:\u001b[0m\u001b[0;34m\u001b[0m\u001b[0;34m\u001b[0m\u001b[0m\n\u001b[1;32m     16\u001b[0m           \u001b[0mbesti1\u001b[0m\u001b[0;34m,\u001b[0m \u001b[0mbesti2\u001b[0m\u001b[0;34m,\u001b[0m \u001b[0mbesti3\u001b[0m \u001b[0;34m=\u001b[0m \u001b[0mi1\u001b[0m\u001b[0;34m,\u001b[0m \u001b[0mi2\u001b[0m\u001b[0;34m,\u001b[0m \u001b[0mi3\u001b[0m\u001b[0;34m\u001b[0m\u001b[0;34m\u001b[0m\u001b[0m\n",
            "\u001b[0;32m/content/speaker-diarization/run_diarization.py\u001b[0m in \u001b[0;36mdiarization2\u001b[0;34m(embedding, clustering, dataset, thr1, thr2, thr3, ps)\u001b[0m\n\u001b[1;32m    305\u001b[0m           \u001b[0mann_ref\u001b[0m \u001b[0;34m=\u001b[0m \u001b[0muri2ann_ref\u001b[0m\u001b[0;34m[\u001b[0m\u001b[0muri\u001b[0m\u001b[0;34m]\u001b[0m\u001b[0;34m\u001b[0m\u001b[0;34m\u001b[0m\u001b[0m\n\u001b[1;32m    306\u001b[0m           \u001b[0mder_metric\u001b[0m\u001b[0;34m(\u001b[0m\u001b[0mann_ref\u001b[0m\u001b[0;34m,\u001b[0m \u001b[0mann_hyp\u001b[0m\u001b[0;34m)\u001b[0m\u001b[0;34m\u001b[0m\u001b[0;34m\u001b[0m\u001b[0m\n\u001b[0;32m--> 307\u001b[0;31m           \u001b[0mder\u001b[0m\u001b[0;34m.\u001b[0m\u001b[0mappend\u001b[0m\u001b[0;34m(\u001b[0m\u001b[0mder_metric\u001b[0m\u001b[0;34m(\u001b[0m\u001b[0mann_ref\u001b[0m\u001b[0;34m,\u001b[0m \u001b[0mann_hyp\u001b[0m\u001b[0;34m)\u001b[0m\u001b[0;34m)\u001b[0m\u001b[0;34m\u001b[0m\u001b[0;34m\u001b[0m\u001b[0m\n\u001b[0m\u001b[1;32m    308\u001b[0m \u001b[0;34m\u001b[0m\u001b[0m\n\u001b[1;32m    309\u001b[0m       \u001b[0mreport\u001b[0m \u001b[0;34m=\u001b[0m \u001b[0mder_metric\u001b[0m\u001b[0;34m.\u001b[0m\u001b[0mreport\u001b[0m\u001b[0;34m(\u001b[0m\u001b[0mdisplay\u001b[0m\u001b[0;34m=\u001b[0m\u001b[0;32mFalse\u001b[0m\u001b[0;34m)\u001b[0m\u001b[0;34m\u001b[0m\u001b[0;34m\u001b[0m\u001b[0m\n",
            "\u001b[0;32m/usr/local/lib/python3.7/dist-packages/pyannote/metrics/base.py\u001b[0m in \u001b[0;36m__call__\u001b[0;34m(self, reference, hypothesis, detailed, uri, **kwargs)\u001b[0m\n\u001b[1;32m    106\u001b[0m \u001b[0;34m\u001b[0m\u001b[0m\n\u001b[1;32m    107\u001b[0m         \u001b[0;31m# compute metric components\u001b[0m\u001b[0;34m\u001b[0m\u001b[0;34m\u001b[0m\u001b[0;34m\u001b[0m\u001b[0m\n\u001b[0;32m--> 108\u001b[0;31m         \u001b[0mcomponents\u001b[0m \u001b[0;34m=\u001b[0m \u001b[0mself\u001b[0m\u001b[0;34m.\u001b[0m\u001b[0mcompute_components\u001b[0m\u001b[0;34m(\u001b[0m\u001b[0mreference\u001b[0m\u001b[0;34m,\u001b[0m \u001b[0mhypothesis\u001b[0m\u001b[0;34m,\u001b[0m \u001b[0;34m**\u001b[0m\u001b[0mkwargs\u001b[0m\u001b[0;34m)\u001b[0m\u001b[0;34m\u001b[0m\u001b[0;34m\u001b[0m\u001b[0m\n\u001b[0m\u001b[1;32m    109\u001b[0m \u001b[0;34m\u001b[0m\u001b[0m\n\u001b[1;32m    110\u001b[0m         \u001b[0;31m# compute rate based on components\u001b[0m\u001b[0;34m\u001b[0m\u001b[0;34m\u001b[0m\u001b[0;34m\u001b[0m\u001b[0m\n",
            "\u001b[0;32m/usr/local/lib/python3.7/dist-packages/pyannote/metrics/diarization.py\u001b[0m in \u001b[0;36mcompute_components\u001b[0;34m(self, reference, hypothesis, uem, **kwargs)\u001b[0m\n\u001b[1;32m    155\u001b[0m             .compute_components(reference, mapped, uem=uem,\n\u001b[1;32m    156\u001b[0m                                 \u001b[0mcollar\u001b[0m\u001b[0;34m=\u001b[0m\u001b[0;36m0.0\u001b[0m\u001b[0;34m,\u001b[0m \u001b[0mskip_overlap\u001b[0m\u001b[0;34m=\u001b[0m\u001b[0;32mFalse\u001b[0m\u001b[0;34m,\u001b[0m\u001b[0;34m\u001b[0m\u001b[0;34m\u001b[0m\u001b[0m\n\u001b[0;32m--> 157\u001b[0;31m                                 **kwargs)\n\u001b[0m\u001b[1;32m    158\u001b[0m \u001b[0;34m\u001b[0m\u001b[0m\n\u001b[1;32m    159\u001b[0m \u001b[0;34m\u001b[0m\u001b[0m\n",
            "\u001b[0;32m/usr/local/lib/python3.7/dist-packages/pyannote/metrics/identification.py\u001b[0m in \u001b[0;36mcompute_components\u001b[0;34m(self, reference, hypothesis, uem, collar, skip_overlap, **kwargs)\u001b[0m\n\u001b[1;32m    119\u001b[0m             \u001b[0mreference\u001b[0m\u001b[0;34m,\u001b[0m \u001b[0mhypothesis\u001b[0m\u001b[0;34m,\u001b[0m \u001b[0muem\u001b[0m\u001b[0;34m=\u001b[0m\u001b[0muem\u001b[0m\u001b[0;34m,\u001b[0m\u001b[0;34m\u001b[0m\u001b[0;34m\u001b[0m\u001b[0m\n\u001b[1;32m    120\u001b[0m             \u001b[0mcollar\u001b[0m\u001b[0;34m=\u001b[0m\u001b[0mcollar\u001b[0m\u001b[0;34m,\u001b[0m \u001b[0mskip_overlap\u001b[0m\u001b[0;34m=\u001b[0m\u001b[0mskip_overlap\u001b[0m\u001b[0;34m,\u001b[0m\u001b[0;34m\u001b[0m\u001b[0;34m\u001b[0m\u001b[0m\n\u001b[0;32m--> 121\u001b[0;31m             returns_timeline=True)\n\u001b[0m\u001b[1;32m    122\u001b[0m \u001b[0;34m\u001b[0m\u001b[0m\n\u001b[1;32m    123\u001b[0m         \u001b[0;31m# loop on all segments\u001b[0m\u001b[0;34m\u001b[0m\u001b[0;34m\u001b[0m\u001b[0;34m\u001b[0m\u001b[0m\n",
            "\u001b[0;32m/usr/local/lib/python3.7/dist-packages/pyannote/metrics/utils.py\u001b[0m in \u001b[0;36muemify\u001b[0;34m(self, reference, hypothesis, uem, collar, skip_overlap, returns_uem, returns_timeline)\u001b[0m\n\u001b[1;32m    197\u001b[0m             \u001b[0mtimeline\u001b[0m \u001b[0;34m=\u001b[0m \u001b[0mself\u001b[0m\u001b[0;34m.\u001b[0m\u001b[0mcommon_timeline\u001b[0m\u001b[0;34m(\u001b[0m\u001b[0mreference\u001b[0m\u001b[0;34m,\u001b[0m \u001b[0mhypothesis\u001b[0m\u001b[0;34m)\u001b[0m\u001b[0;34m\u001b[0m\u001b[0;34m\u001b[0m\u001b[0m\n\u001b[1;32m    198\u001b[0m             \u001b[0mreference\u001b[0m \u001b[0;34m=\u001b[0m \u001b[0mself\u001b[0m\u001b[0;34m.\u001b[0m\u001b[0mproject\u001b[0m\u001b[0;34m(\u001b[0m\u001b[0mreference\u001b[0m\u001b[0;34m,\u001b[0m \u001b[0mtimeline\u001b[0m\u001b[0;34m)\u001b[0m\u001b[0;34m\u001b[0m\u001b[0;34m\u001b[0m\u001b[0m\n\u001b[0;32m--> 199\u001b[0;31m             \u001b[0mhypothesis\u001b[0m \u001b[0;34m=\u001b[0m \u001b[0mself\u001b[0m\u001b[0;34m.\u001b[0m\u001b[0mproject\u001b[0m\u001b[0;34m(\u001b[0m\u001b[0mhypothesis\u001b[0m\u001b[0;34m,\u001b[0m \u001b[0mtimeline\u001b[0m\u001b[0;34m)\u001b[0m\u001b[0;34m\u001b[0m\u001b[0;34m\u001b[0m\u001b[0m\n\u001b[0m\u001b[1;32m    200\u001b[0m \u001b[0;34m\u001b[0m\u001b[0m\n\u001b[1;32m    201\u001b[0m         \u001b[0mresult\u001b[0m \u001b[0;34m=\u001b[0m \u001b[0;34m(\u001b[0m\u001b[0mreference\u001b[0m\u001b[0;34m,\u001b[0m \u001b[0mhypothesis\u001b[0m\u001b[0;34m)\u001b[0m\u001b[0;34m\u001b[0m\u001b[0;34m\u001b[0m\u001b[0m\n",
            "\u001b[0;32m/usr/local/lib/python3.7/dist-packages/pyannote/metrics/utils.py\u001b[0m in \u001b[0;36mproject\u001b[0;34m(self, annotation, timeline)\u001b[0m\n\u001b[1;32m    133\u001b[0m         \u001b[0mprojection\u001b[0m \u001b[0;34m=\u001b[0m \u001b[0mannotation\u001b[0m\u001b[0;34m.\u001b[0m\u001b[0mempty\u001b[0m\u001b[0;34m(\u001b[0m\u001b[0;34m)\u001b[0m\u001b[0;34m\u001b[0m\u001b[0;34m\u001b[0m\u001b[0m\n\u001b[1;32m    134\u001b[0m         \u001b[0mtimeline_\u001b[0m \u001b[0;34m=\u001b[0m \u001b[0mannotation\u001b[0m\u001b[0;34m.\u001b[0m\u001b[0mget_timeline\u001b[0m\u001b[0;34m(\u001b[0m\u001b[0mcopy\u001b[0m\u001b[0;34m=\u001b[0m\u001b[0;32mFalse\u001b[0m\u001b[0;34m)\u001b[0m\u001b[0;34m\u001b[0m\u001b[0;34m\u001b[0m\u001b[0m\n\u001b[0;32m--> 135\u001b[0;31m         \u001b[0;32mfor\u001b[0m \u001b[0msegment_\u001b[0m\u001b[0;34m,\u001b[0m \u001b[0msegment\u001b[0m \u001b[0;32min\u001b[0m \u001b[0mtimeline_\u001b[0m\u001b[0;34m.\u001b[0m\u001b[0mco_iter\u001b[0m\u001b[0;34m(\u001b[0m\u001b[0mtimeline\u001b[0m\u001b[0;34m)\u001b[0m\u001b[0;34m:\u001b[0m\u001b[0;34m\u001b[0m\u001b[0;34m\u001b[0m\u001b[0m\n\u001b[0m\u001b[1;32m    136\u001b[0m             \u001b[0;32mfor\u001b[0m \u001b[0mtrack_\u001b[0m \u001b[0;32min\u001b[0m \u001b[0mannotation\u001b[0m\u001b[0;34m.\u001b[0m\u001b[0mget_tracks\u001b[0m\u001b[0;34m(\u001b[0m\u001b[0msegment_\u001b[0m\u001b[0;34m)\u001b[0m\u001b[0;34m:\u001b[0m\u001b[0;34m\u001b[0m\u001b[0;34m\u001b[0m\u001b[0m\n\u001b[1;32m    137\u001b[0m                 \u001b[0mtrack\u001b[0m \u001b[0;34m=\u001b[0m \u001b[0mprojection\u001b[0m\u001b[0;34m.\u001b[0m\u001b[0mnew_track\u001b[0m\u001b[0;34m(\u001b[0m\u001b[0msegment\u001b[0m\u001b[0;34m,\u001b[0m \u001b[0mcandidate\u001b[0m\u001b[0;34m=\u001b[0m\u001b[0mtrack_\u001b[0m\u001b[0;34m)\u001b[0m\u001b[0;34m\u001b[0m\u001b[0;34m\u001b[0m\u001b[0m\n",
            "\u001b[0;32m/usr/local/lib/python3.7/dist-packages/pyannote/core/timeline.py\u001b[0m in \u001b[0;36mco_iter\u001b[0;34m(self, other)\u001b[0m\n\u001b[1;32m    406\u001b[0m             \u001b[0mtemp\u001b[0m \u001b[0;34m=\u001b[0m \u001b[0mSegment\u001b[0m\u001b[0;34m(\u001b[0m\u001b[0mstart\u001b[0m\u001b[0;34m=\u001b[0m\u001b[0msegment\u001b[0m\u001b[0;34m.\u001b[0m\u001b[0mend\u001b[0m\u001b[0;34m,\u001b[0m \u001b[0mend\u001b[0m\u001b[0;34m=\u001b[0m\u001b[0msegment\u001b[0m\u001b[0;34m.\u001b[0m\u001b[0mend\u001b[0m\u001b[0;34m)\u001b[0m\u001b[0;34m\u001b[0m\u001b[0;34m\u001b[0m\u001b[0m\n\u001b[1;32m    407\u001b[0m             \u001b[0;32mfor\u001b[0m \u001b[0mother_segment\u001b[0m \u001b[0;32min\u001b[0m \u001b[0mother\u001b[0m\u001b[0;34m.\u001b[0m\u001b[0msegments_list_\u001b[0m\u001b[0;34m.\u001b[0m\u001b[0mirange\u001b[0m\u001b[0;34m(\u001b[0m\u001b[0mmaximum\u001b[0m\u001b[0;34m=\u001b[0m\u001b[0mtemp\u001b[0m\u001b[0;34m)\u001b[0m\u001b[0;34m:\u001b[0m\u001b[0;34m\u001b[0m\u001b[0;34m\u001b[0m\u001b[0m\n\u001b[0;32m--> 408\u001b[0;31m                 \u001b[0;32mif\u001b[0m \u001b[0msegment\u001b[0m\u001b[0;34m.\u001b[0m\u001b[0mintersects\u001b[0m\u001b[0;34m(\u001b[0m\u001b[0mother_segment\u001b[0m\u001b[0;34m)\u001b[0m\u001b[0;34m:\u001b[0m\u001b[0;34m\u001b[0m\u001b[0;34m\u001b[0m\u001b[0m\n\u001b[0m\u001b[1;32m    409\u001b[0m                     \u001b[0;32myield\u001b[0m \u001b[0msegment\u001b[0m\u001b[0;34m,\u001b[0m \u001b[0mother_segment\u001b[0m\u001b[0;34m\u001b[0m\u001b[0;34m\u001b[0m\u001b[0m\n\u001b[1;32m    410\u001b[0m \u001b[0;34m\u001b[0m\u001b[0m\n",
            "\u001b[0;32m/usr/local/lib/python3.7/dist-packages/pyannote/core/segment.py\u001b[0m in \u001b[0;36mintersects\u001b[0;34m(self, other)\u001b[0m\n\u001b[1;32m    257\u001b[0m                 other.start < self.end - SEGMENT_PRECISION) or \\\n\u001b[1;32m    258\u001b[0m                (self.start > other.start and\n\u001b[0;32m--> 259\u001b[0;31m                 self.start < other.end - SEGMENT_PRECISION) or \\\n\u001b[0m\u001b[1;32m    260\u001b[0m                \u001b[0;34m(\u001b[0m\u001b[0mself\u001b[0m\u001b[0;34m.\u001b[0m\u001b[0mstart\u001b[0m \u001b[0;34m==\u001b[0m \u001b[0mother\u001b[0m\u001b[0;34m.\u001b[0m\u001b[0mstart\u001b[0m\u001b[0;34m)\u001b[0m\u001b[0;34m\u001b[0m\u001b[0;34m\u001b[0m\u001b[0m\n\u001b[1;32m    261\u001b[0m \u001b[0;34m\u001b[0m\u001b[0m\n",
            "\u001b[0;31mKeyboardInterrupt\u001b[0m: "
          ]
        }
      ]
    },
    {
      "cell_type": "code",
      "source": [
        "params1"
      ],
      "metadata": {
        "colab": {
          "base_uri": "https://localhost:8080/"
        },
        "id": "X2o_LzNTVIIR",
        "outputId": "d9d1ea37-54bd-4d51-b241-b02f0bba09d2"
      },
      "execution_count": null,
      "outputs": [
        {
          "output_type": "execute_result",
          "data": {
            "text/plain": [
              "array([1.07810161, 1.34430299, 1.1644214 , 1.07181309, 0.87784768,\n",
              "       1.23343058, 0.90013954, 1.6268368 , 1.74186042, 0.81350643,\n",
              "       1.46676006, 1.04623187, 1.1088713 , 1.68095462, 0.31365769,\n",
              "       0.33940688, 0.23234944, 1.53219175, 1.4450508 , 1.59201944,\n",
              "       1.76578935, 1.4786537 , 0.93836698, 1.44884668, 0.38923908])"
            ]
          },
          "metadata": {},
          "execution_count": 13
        }
      ]
    },
    {
      "cell_type": "code",
      "source": [
        "params1 = np.array([1.6268368, 0.31365769, 0.75234944, 1.93219175, 1.49201944, 0.53836698])"
      ],
      "metadata": {
        "id": "CaZdvdDOXKQw"
      },
      "execution_count": null,
      "outputs": []
    },
    {
      "cell_type": "code",
      "source": [
        "params2 "
      ],
      "metadata": {
        "colab": {
          "base_uri": "https://localhost:8080/"
        },
        "id": "3Q-GeIRXVMf5",
        "outputId": "50292bc7-19c5-4918-8293-c5a12fe36bd5"
      },
      "execution_count": null,
      "outputs": [
        {
          "output_type": "execute_result",
          "data": {
            "text/plain": [
              "array([0.41275893, 0.15454371, 0.57122784, 0.35136113, 0.29562421,\n",
              "       0.21756892, 0.48260152, 0.31719817, 0.37558565, 0.0897707 ,\n",
              "       0.40117046, 0.39828978, 0.40080568, 0.570749  , 0.43454656,\n",
              "       0.26694411, 0.30725662, 0.44276822, 0.11131725, 0.42671869])"
            ]
          },
          "metadata": {},
          "execution_count": 14
        }
      ]
    },
    {
      "cell_type": "code",
      "source": [
        "params2 = np.array([0.41275893, 0.57122784, 0.35836113, 0.591, 0.6001, 0.488, 0.537,\n",
        "                    0.48860152])"
      ],
      "metadata": {
        "id": "zoqrchnnX6XT"
      },
      "execution_count": null,
      "outputs": []
    },
    {
      "cell_type": "code",
      "source": [
        "for i1 in params1:\n",
        "  for i2 in params2:\n",
        "    if i2 < i1 + 0.1:\n",
        "      for i3 in params3:\n",
        "        der, jer, mes = diarization2(embedding='clova', clustering='links', dataset='aishell4', thr2=i1, thr3=i2, ps=i3)\n",
        "        if curMin > (der + jer)/2:\n",
        "          besti1, besti2, besti3 = i1, i2, i3\n",
        "          bestDer, bestJer = der, jer\n",
        "          curMin = der / 2 + jer / 2\n",
        "        print('DER: ', der, 'JER: ', jer)\n",
        "        print('thr1: ', i1, 'thr2: ', i2, 'ps: ', i3)\n",
        "        print()\n",
        "        if mes == 'bad':\n",
        "          break\n"
      ],
      "metadata": {
        "colab": {
          "base_uri": "https://localhost:8080/",
          "height": 1000
        },
        "id": "tGWEL5snVOrR",
        "outputId": "444d5008-298c-43c3-e1c1-bb9895951567"
      },
      "execution_count": null,
      "outputs": [
        {
          "output_type": "stream",
          "name": "stdout",
          "text": [
            "Embedding size is 512, encoder ASP.\n"
          ]
        },
        {
          "output_type": "stream",
          "name": "stderr",
          "text": [
            "100%|██████████| 20/20 [00:18<00:00,  1.07it/s]\n"
          ]
        },
        {
          "output_type": "stream",
          "name": "stdout",
          "text": [
            "DER:  0.12517478638411156 JER:  0.2540467656938167\n",
            "thr1:  1.6268368 thr2:  0.41275893 ps:  1.2\n",
            "\n",
            "Embedding size is 512, encoder ASP.\n"
          ]
        },
        {
          "output_type": "stream",
          "name": "stderr",
          "text": [
            "100%|██████████| 20/20 [01:13<00:00,  3.66s/it]\n"
          ]
        },
        {
          "output_type": "stream",
          "name": "stdout",
          "text": [
            "DER:  0.15561244500732957 JER:  0.17731579701265054\n",
            "thr1:  1.6268368 thr2:  0.57122784 ps:  1.2\n",
            "\n",
            "Embedding size is 512, encoder ASP.\n"
          ]
        },
        {
          "output_type": "stream",
          "name": "stderr",
          "text": [
            "100%|██████████| 20/20 [00:13<00:00,  1.46it/s]\n"
          ]
        },
        {
          "output_type": "stream",
          "name": "stdout",
          "text": [
            "DER:  0.16493668070055445 JER:  0.37435421244978523\n",
            "thr1:  1.6268368 thr2:  0.35836113 ps:  1.2\n",
            "\n",
            "Embedding size is 512, encoder ASP.\n"
          ]
        },
        {
          "output_type": "stream",
          "name": "stderr",
          "text": [
            "100%|██████████| 20/20 [01:33<00:00,  4.70s/it]\n"
          ]
        },
        {
          "output_type": "stream",
          "name": "stdout",
          "text": [
            "DER:  0.1847351392132931 JER:  0.2051250385188159\n",
            "thr1:  1.6268368 thr2:  0.591 ps:  1.2\n",
            "\n",
            "Embedding size is 512, encoder ASP.\n"
          ]
        },
        {
          "output_type": "stream",
          "name": "stderr",
          "text": [
            "100%|██████████| 20/20 [01:48<00:00,  5.44s/it]\n"
          ]
        },
        {
          "output_type": "stream",
          "name": "stdout",
          "text": [
            "DER:  0.2083419548267042 JER:  0.2206826394825327\n",
            "thr1:  1.6268368 thr2:  0.6001 ps:  1.2\n",
            "\n",
            "Embedding size is 512, encoder ASP.\n"
          ]
        },
        {
          "output_type": "stream",
          "name": "stderr",
          "text": [
            "100%|██████████| 20/20 [00:29<00:00,  1.50s/it]\n"
          ]
        },
        {
          "output_type": "stream",
          "name": "stdout",
          "text": [
            "DER:  0.08451195207221135 JER:  0.14803975582578124\n",
            "thr1:  1.6268368 thr2:  0.488 ps:  1.2\n",
            "\n",
            "Embedding size is 512, encoder ASP.\n"
          ]
        },
        {
          "output_type": "stream",
          "name": "stderr",
          "text": [
            "100%|██████████| 20/20 [00:46<00:00,  2.31s/it]\n"
          ]
        },
        {
          "output_type": "stream",
          "name": "stdout",
          "text": [
            "DER:  0.11932475011076658 JER:  0.14712550921091358\n",
            "thr1:  1.6268368 thr2:  0.537 ps:  1.2\n",
            "\n",
            "Embedding size is 512, encoder ASP.\n"
          ]
        },
        {
          "output_type": "stream",
          "name": "stderr",
          "text": [
            "100%|██████████| 20/20 [00:30<00:00,  1.51s/it]\n"
          ]
        },
        {
          "output_type": "stream",
          "name": "stdout",
          "text": [
            "DER:  0.08437358561754743 JER:  0.14798153008540907\n",
            "thr1:  1.6268368 thr2:  0.48860152 ps:  1.2\n",
            "\n",
            "Embedding size is 512, encoder ASP.\n"
          ]
        },
        {
          "output_type": "stream",
          "name": "stderr",
          "text": [
            "100%|██████████| 20/20 [00:18<00:00,  1.07it/s]\n"
          ]
        },
        {
          "output_type": "stream",
          "name": "stdout",
          "text": [
            "DER:  0.12517478638411156 JER:  0.2540467656938167\n",
            "thr1:  0.75234944 thr2:  0.41275893 ps:  1.2\n",
            "\n",
            "Embedding size is 512, encoder ASP.\n"
          ]
        },
        {
          "output_type": "stream",
          "name": "stderr",
          "text": [
            "100%|██████████| 20/20 [01:12<00:00,  3.65s/it]\n"
          ]
        },
        {
          "output_type": "stream",
          "name": "stdout",
          "text": [
            "DER:  0.1552698602613118 JER:  0.1770994309221794\n",
            "thr1:  0.75234944 thr2:  0.57122784 ps:  1.2\n",
            "\n",
            "Embedding size is 512, encoder ASP.\n"
          ]
        },
        {
          "output_type": "stream",
          "name": "stderr",
          "text": [
            "100%|██████████| 20/20 [00:13<00:00,  1.43it/s]\n"
          ]
        },
        {
          "output_type": "stream",
          "name": "stdout",
          "text": [
            "DER:  0.16493668070055445 JER:  0.37435421244978523\n",
            "thr1:  0.75234944 thr2:  0.35836113 ps:  1.2\n",
            "\n",
            "Embedding size is 512, encoder ASP.\n"
          ]
        },
        {
          "output_type": "stream",
          "name": "stderr",
          "text": [
            "100%|██████████| 20/20 [01:33<00:00,  4.67s/it]\n"
          ]
        },
        {
          "output_type": "stream",
          "name": "stdout",
          "text": [
            "DER:  0.1854605383066323 JER:  0.20482370687787407\n",
            "thr1:  0.75234944 thr2:  0.591 ps:  1.2\n",
            "\n",
            "Embedding size is 512, encoder ASP.\n"
          ]
        },
        {
          "output_type": "stream",
          "name": "stderr",
          "text": [
            " 45%|████▌     | 9/20 [00:53<01:05,  5.98s/it]\n"
          ]
        },
        {
          "output_type": "error",
          "ename": "IndexError",
          "evalue": "ignored",
          "traceback": [
            "\u001b[0;31m---------------------------------------------------------------------------\u001b[0m",
            "\u001b[0;31mIndexError\u001b[0m                                Traceback (most recent call last)",
            "\u001b[0;32m<ipython-input-20-fe3aaf32e5fd>\u001b[0m in \u001b[0;36m<module>\u001b[0;34m()\u001b[0m\n\u001b[1;32m      3\u001b[0m     \u001b[0;32mif\u001b[0m \u001b[0mi2\u001b[0m \u001b[0;34m<\u001b[0m \u001b[0mi1\u001b[0m\u001b[0;34m:\u001b[0m\u001b[0;34m\u001b[0m\u001b[0;34m\u001b[0m\u001b[0m\n\u001b[1;32m      4\u001b[0m       \u001b[0;32mfor\u001b[0m \u001b[0mi3\u001b[0m \u001b[0;32min\u001b[0m \u001b[0mparams3\u001b[0m\u001b[0;34m:\u001b[0m\u001b[0;34m\u001b[0m\u001b[0;34m\u001b[0m\u001b[0m\n\u001b[0;32m----> 5\u001b[0;31m         \u001b[0mder\u001b[0m\u001b[0;34m,\u001b[0m \u001b[0mjer\u001b[0m\u001b[0;34m,\u001b[0m \u001b[0mmes\u001b[0m \u001b[0;34m=\u001b[0m \u001b[0mdiarization2\u001b[0m\u001b[0;34m(\u001b[0m\u001b[0membedding\u001b[0m\u001b[0;34m=\u001b[0m\u001b[0;34m'clova'\u001b[0m\u001b[0;34m,\u001b[0m \u001b[0mclustering\u001b[0m\u001b[0;34m=\u001b[0m\u001b[0;34m'links'\u001b[0m\u001b[0;34m,\u001b[0m \u001b[0mdataset\u001b[0m\u001b[0;34m=\u001b[0m\u001b[0;34m'aishell4'\u001b[0m\u001b[0;34m,\u001b[0m \u001b[0mthr2\u001b[0m\u001b[0;34m=\u001b[0m\u001b[0mi1\u001b[0m\u001b[0;34m,\u001b[0m \u001b[0mthr3\u001b[0m\u001b[0;34m=\u001b[0m\u001b[0mi2\u001b[0m\u001b[0;34m,\u001b[0m \u001b[0mps\u001b[0m\u001b[0;34m=\u001b[0m\u001b[0mi3\u001b[0m\u001b[0;34m)\u001b[0m\u001b[0;34m\u001b[0m\u001b[0;34m\u001b[0m\u001b[0m\n\u001b[0m\u001b[1;32m      6\u001b[0m         \u001b[0;32mif\u001b[0m \u001b[0mcurMin\u001b[0m \u001b[0;34m>\u001b[0m \u001b[0;34m(\u001b[0m\u001b[0mder\u001b[0m \u001b[0;34m+\u001b[0m \u001b[0mjer\u001b[0m\u001b[0;34m)\u001b[0m\u001b[0;34m/\u001b[0m\u001b[0;36m2\u001b[0m\u001b[0;34m:\u001b[0m\u001b[0;34m\u001b[0m\u001b[0;34m\u001b[0m\u001b[0m\n\u001b[1;32m      7\u001b[0m           \u001b[0mbesti1\u001b[0m\u001b[0;34m,\u001b[0m \u001b[0mbesti2\u001b[0m\u001b[0;34m,\u001b[0m \u001b[0mbesti3\u001b[0m \u001b[0;34m=\u001b[0m \u001b[0mi1\u001b[0m\u001b[0;34m,\u001b[0m \u001b[0mi2\u001b[0m\u001b[0;34m,\u001b[0m \u001b[0mi3\u001b[0m\u001b[0;34m\u001b[0m\u001b[0;34m\u001b[0m\u001b[0m\n",
            "\u001b[0;32m/content/speaker-diarization/run_diarization.py\u001b[0m in \u001b[0;36mdiarization2\u001b[0;34m(embedding, clustering, dataset, thr1, thr2, thr3, ps)\u001b[0m\n\u001b[1;32m    254\u001b[0m           \u001b[0;32mif\u001b[0m \u001b[0mtime\u001b[0m\u001b[0;34m.\u001b[0m\u001b[0mtime\u001b[0m\u001b[0;34m(\u001b[0m\u001b[0;34m)\u001b[0m \u001b[0;34m-\u001b[0m \u001b[0mstart_time\u001b[0m \u001b[0;34m>\u001b[0m \u001b[0;36m20\u001b[0m\u001b[0;34m:\u001b[0m\u001b[0;34m\u001b[0m\u001b[0;34m\u001b[0m\u001b[0m\n\u001b[1;32m    255\u001b[0m             \u001b[0;32mreturn\u001b[0m \u001b[0;36m1000\u001b[0m\u001b[0;34m,\u001b[0m \u001b[0;36m1000\u001b[0m\u001b[0;34m,\u001b[0m \u001b[0;34m'bad'\u001b[0m\u001b[0;34m\u001b[0m\u001b[0;34m\u001b[0m\u001b[0m\n\u001b[0;32m--> 256\u001b[0;31m           \u001b[0mlabels\u001b[0m \u001b[0;34m+=\u001b[0m \u001b[0;34m[\u001b[0m\u001b[0mlinks_cluster\u001b[0m\u001b[0;34m.\u001b[0m\u001b[0mpredict\u001b[0m\u001b[0;34m(\u001b[0m\u001b[0membeddings\u001b[0m\u001b[0;34m[\u001b[0m\u001b[0mi\u001b[0m\u001b[0;34m]\u001b[0m\u001b[0;34m)\u001b[0m\u001b[0;34m]\u001b[0m\u001b[0;34m\u001b[0m\u001b[0;34m\u001b[0m\u001b[0m\n\u001b[0m\u001b[1;32m    257\u001b[0m \u001b[0;34m\u001b[0m\u001b[0m\n\u001b[1;32m    258\u001b[0m       \u001b[0;32mif\u001b[0m \u001b[0mCLUSTERING\u001b[0m \u001b[0;34m==\u001b[0m \u001b[0;34m'online'\u001b[0m\u001b[0;34m:\u001b[0m\u001b[0;34m\u001b[0m\u001b[0;34m\u001b[0m\u001b[0m\n",
            "\u001b[0;32m/content/speaker-diarization/links_cluster.py\u001b[0m in \u001b[0;36mpredict\u001b[0;34m(self, new_vector)\u001b[0m\n\u001b[1;32m     94\u001b[0m             \u001b[0;31m# Add to existing subcluster\u001b[0m\u001b[0;34m\u001b[0m\u001b[0;34m\u001b[0m\u001b[0;34m\u001b[0m\u001b[0m\n\u001b[1;32m     95\u001b[0m             \u001b[0mbest_subcluster\u001b[0m\u001b[0;34m.\u001b[0m\u001b[0madd\u001b[0m\u001b[0;34m(\u001b[0m\u001b[0mnew_vector\u001b[0m\u001b[0;34m)\u001b[0m\u001b[0;34m\u001b[0m\u001b[0;34m\u001b[0m\u001b[0m\n\u001b[0;32m---> 96\u001b[0;31m             \u001b[0mself\u001b[0m\u001b[0;34m.\u001b[0m\u001b[0mupdate_cluster\u001b[0m\u001b[0;34m(\u001b[0m\u001b[0mbest_subcluster_cluster_id\u001b[0m\u001b[0;34m,\u001b[0m \u001b[0mbest_subcluster_id\u001b[0m\u001b[0;34m)\u001b[0m\u001b[0;34m\u001b[0m\u001b[0;34m\u001b[0m\u001b[0m\n\u001b[0m\u001b[1;32m     97\u001b[0m             \u001b[0massigned_cluster\u001b[0m \u001b[0;34m=\u001b[0m \u001b[0mbest_subcluster_cluster_id\u001b[0m\u001b[0;34m\u001b[0m\u001b[0;34m\u001b[0m\u001b[0m\n\u001b[1;32m     98\u001b[0m         \u001b[0;32melse\u001b[0m\u001b[0;34m:\u001b[0m\u001b[0;34m\u001b[0m\u001b[0;34m\u001b[0m\u001b[0m\n",
            "\u001b[0;32m/content/speaker-diarization/links_cluster.py\u001b[0m in \u001b[0;36mupdate_cluster\u001b[0;34m(self, cl_idx, sc_idx)\u001b[0m\n\u001b[1;32m    193\u001b[0m                     \u001b[0msevered_subclusters\u001b[0m\u001b[0;34m.\u001b[0m\u001b[0mappend\u001b[0m\u001b[0;34m(\u001b[0m\u001b[0mconnected_sc_idx\u001b[0m\u001b[0;34m)\u001b[0m\u001b[0;34m\u001b[0m\u001b[0;34m\u001b[0m\u001b[0m\n\u001b[1;32m    194\u001b[0m         \u001b[0;32mfor\u001b[0m \u001b[0msevered_sc_id\u001b[0m \u001b[0;32min\u001b[0m \u001b[0msevered_subclusters\u001b[0m\u001b[0;34m:\u001b[0m\u001b[0;34m\u001b[0m\u001b[0;34m\u001b[0m\u001b[0m\n\u001b[0;32m--> 195\u001b[0;31m             \u001b[0msevered_sc\u001b[0m \u001b[0;34m=\u001b[0m \u001b[0mself\u001b[0m\u001b[0;34m.\u001b[0m\u001b[0mclusters\u001b[0m\u001b[0;34m[\u001b[0m\u001b[0mcl_idx\u001b[0m\u001b[0;34m]\u001b[0m\u001b[0;34m[\u001b[0m\u001b[0msevered_sc_id\u001b[0m\u001b[0;34m]\u001b[0m\u001b[0;34m\u001b[0m\u001b[0;34m\u001b[0m\u001b[0m\n\u001b[0m\u001b[1;32m    196\u001b[0m             \u001b[0;32mif\u001b[0m \u001b[0mlen\u001b[0m\u001b[0;34m(\u001b[0m\u001b[0msevered_sc\u001b[0m\u001b[0;34m.\u001b[0m\u001b[0mconnected_subclusters\u001b[0m\u001b[0;34m)\u001b[0m \u001b[0;34m==\u001b[0m \u001b[0;36m0\u001b[0m\u001b[0;34m:\u001b[0m\u001b[0;34m\u001b[0m\u001b[0;34m\u001b[0m\u001b[0m\n\u001b[1;32m    197\u001b[0m                 \u001b[0;32mfor\u001b[0m \u001b[0mcluster_sc\u001b[0m \u001b[0;32min\u001b[0m \u001b[0mself\u001b[0m\u001b[0;34m.\u001b[0m\u001b[0mclusters\u001b[0m\u001b[0;34m[\u001b[0m\u001b[0mcl_idx\u001b[0m\u001b[0;34m]\u001b[0m\u001b[0;34m:\u001b[0m\u001b[0;34m\u001b[0m\u001b[0;34m\u001b[0m\u001b[0m\n",
            "\u001b[0;31mIndexError\u001b[0m: list index out of range"
          ]
        }
      ]
    },
    {
      "cell_type": "code",
      "source": [
        "params1 = np.array([1.93219175, 1.49201944, 0.53836698, 0.75234944])\n",
        "params2 = np.array([0.41275893, 0.56122784, 0.35836113, 0.582, 0.6001, 0.488, 0.537,\n",
        "                    0.45860152])\n",
        "for i1 in params1:\n",
        "  for i2 in params2:\n",
        "    if i2 < i1 + 0.1:\n",
        "      for i3 in params3:\n",
        "        der, jer, mes = diarization2(embedding='clova', clustering='links', dataset='aishell4', thr2=i1, thr3=i2, ps=i3)\n",
        "        if curMin > (der + jer)/2:\n",
        "          besti1, besti2, besti3 = i1, i2, i3\n",
        "          bestDer, bestJer = der, jer\n",
        "          curMin = der / 2 + jer / 2\n",
        "        print('DER: ', der, 'JER: ', jer)\n",
        "        print('thr1: ', i1, 'thr2: ', i2, 'ps: ', i3)\n",
        "        print()\n",
        "        if mes == 'bad':\n",
        "          break"
      ],
      "metadata": {
        "colab": {
          "base_uri": "https://localhost:8080/"
        },
        "id": "SZvKzGNKlTI1",
        "outputId": "7418eab1-b431-47d8-e6ca-6d25468c85c9"
      },
      "execution_count": null,
      "outputs": [
        {
          "output_type": "stream",
          "name": "stdout",
          "text": [
            "Embedding size is 512, encoder ASP.\n"
          ]
        },
        {
          "output_type": "stream",
          "name": "stderr",
          "text": [
            "100%|██████████| 20/20 [00:19<00:00,  1.04it/s]\n"
          ]
        },
        {
          "output_type": "stream",
          "name": "stdout",
          "text": [
            "DER:  0.12517478638411156 JER:  0.2540467656938167\n",
            "thr1:  1.93219175 thr2:  0.41275893 ps:  1.2\n",
            "\n",
            "Embedding size is 512, encoder ASP.\n"
          ]
        },
        {
          "output_type": "stream",
          "name": "stderr",
          "text": [
            "100%|██████████| 20/20 [01:04<00:00,  3.21s/it]\n"
          ]
        },
        {
          "output_type": "stream",
          "name": "stdout",
          "text": [
            "DER:  0.14445563034830877 JER:  0.1650752430899542\n",
            "thr1:  1.93219175 thr2:  0.56122784 ps:  1.2\n",
            "\n",
            "Embedding size is 512, encoder ASP.\n"
          ]
        },
        {
          "output_type": "stream",
          "name": "stderr",
          "text": [
            "100%|██████████| 20/20 [00:14<00:00,  1.42it/s]\n"
          ]
        },
        {
          "output_type": "stream",
          "name": "stdout",
          "text": [
            "DER:  0.16493668070055445 JER:  0.37435421244978523\n",
            "thr1:  1.93219175 thr2:  0.35836113 ps:  1.2\n",
            "\n",
            "Embedding size is 512, encoder ASP.\n"
          ]
        },
        {
          "output_type": "stream",
          "name": "stderr",
          "text": [
            "100%|██████████| 20/20 [01:23<00:00,  4.20s/it]\n"
          ]
        },
        {
          "output_type": "stream",
          "name": "stdout",
          "text": [
            "DER:  0.16872422176102836 JER:  0.19307121462601012\n",
            "thr1:  1.93219175 thr2:  0.582 ps:  1.2\n",
            "\n",
            "Embedding size is 512, encoder ASP.\n"
          ]
        },
        {
          "output_type": "stream",
          "name": "stderr",
          "text": [
            "100%|██████████| 20/20 [01:53<00:00,  5.67s/it]\n"
          ]
        },
        {
          "output_type": "stream",
          "name": "stdout",
          "text": [
            "DER:  0.2083419548267042 JER:  0.2206826394825327\n",
            "thr1:  1.93219175 thr2:  0.6001 ps:  1.2\n",
            "\n",
            "Embedding size is 512, encoder ASP.\n"
          ]
        },
        {
          "output_type": "stream",
          "name": "stderr",
          "text": [
            "100%|██████████| 20/20 [00:31<00:00,  1.56s/it]\n"
          ]
        },
        {
          "output_type": "stream",
          "name": "stdout",
          "text": [
            "DER:  0.08451195207221135 JER:  0.14803975582578124\n",
            "thr1:  1.93219175 thr2:  0.488 ps:  1.2\n",
            "\n",
            "Embedding size is 512, encoder ASP.\n"
          ]
        },
        {
          "output_type": "stream",
          "name": "stderr",
          "text": [
            "100%|██████████| 20/20 [00:48<00:00,  2.41s/it]\n"
          ]
        },
        {
          "output_type": "stream",
          "name": "stdout",
          "text": [
            "DER:  0.11932475011076658 JER:  0.14712550921091358\n",
            "thr1:  1.93219175 thr2:  0.537 ps:  1.2\n",
            "\n",
            "Embedding size is 512, encoder ASP.\n"
          ]
        },
        {
          "output_type": "stream",
          "name": "stderr",
          "text": [
            "100%|██████████| 20/20 [00:24<00:00,  1.21s/it]\n"
          ]
        },
        {
          "output_type": "stream",
          "name": "stdout",
          "text": [
            "DER:  0.08759530673197048 JER:  0.1766958045870384\n",
            "thr1:  1.93219175 thr2:  0.45860152 ps:  1.2\n",
            "\n",
            "Embedding size is 512, encoder ASP.\n"
          ]
        },
        {
          "output_type": "stream",
          "name": "stderr",
          "text": [
            "100%|██████████| 20/20 [00:18<00:00,  1.07it/s]\n"
          ]
        },
        {
          "output_type": "stream",
          "name": "stdout",
          "text": [
            "DER:  0.12517478638411156 JER:  0.2540467656938167\n",
            "thr1:  1.49201944 thr2:  0.41275893 ps:  1.2\n",
            "\n",
            "Embedding size is 512, encoder ASP.\n"
          ]
        },
        {
          "output_type": "stream",
          "name": "stderr",
          "text": [
            "100%|██████████| 20/20 [01:03<00:00,  3.19s/it]\n"
          ]
        },
        {
          "output_type": "stream",
          "name": "stdout",
          "text": [
            "DER:  0.14445563034830877 JER:  0.1650752430899542\n",
            "thr1:  1.49201944 thr2:  0.56122784 ps:  1.2\n",
            "\n",
            "Embedding size is 512, encoder ASP.\n"
          ]
        },
        {
          "output_type": "stream",
          "name": "stderr",
          "text": [
            "100%|██████████| 20/20 [00:14<00:00,  1.38it/s]\n"
          ]
        },
        {
          "output_type": "stream",
          "name": "stdout",
          "text": [
            "DER:  0.16493668070055445 JER:  0.37435421244978523\n",
            "thr1:  1.49201944 thr2:  0.35836113 ps:  1.2\n",
            "\n",
            "Embedding size is 512, encoder ASP.\n"
          ]
        },
        {
          "output_type": "stream",
          "name": "stderr",
          "text": [
            "100%|██████████| 20/20 [01:24<00:00,  4.22s/it]\n"
          ]
        },
        {
          "output_type": "stream",
          "name": "stdout",
          "text": [
            "DER:  0.16872422176102836 JER:  0.19307121462601012\n",
            "thr1:  1.49201944 thr2:  0.582 ps:  1.2\n",
            "\n",
            "Embedding size is 512, encoder ASP.\n"
          ]
        },
        {
          "output_type": "stream",
          "name": "stderr",
          "text": [
            "100%|██████████| 20/20 [01:49<00:00,  5.46s/it]\n"
          ]
        },
        {
          "output_type": "stream",
          "name": "stdout",
          "text": [
            "DER:  0.2083419548267042 JER:  0.2206826394825327\n",
            "thr1:  1.49201944 thr2:  0.6001 ps:  1.2\n",
            "\n",
            "Embedding size is 512, encoder ASP.\n"
          ]
        },
        {
          "output_type": "stream",
          "name": "stderr",
          "text": [
            " 45%|████▌     | 9/20 [00:13<00:14,  1.30s/it]"
          ]
        }
      ]
    },
    {
      "cell_type": "code",
      "source": [
        "import numpy as np\n",
        "from run_diarization import diarization1\n",
        "\n",
        "params1 = np.array([0.53836698, 0.75234944, 0.9])\n",
        "params2 = np.array([0.41275893, 0.56122784, 0.582, 0.6001, 0.488, 0.537,\n",
        "                    0.45860152, 0.51])\n",
        "params3 = [1.2]\n",
        "bestDER = 0.08263362506500352\n",
        "bestJER = 0.14932725782264578\n",
        "besti1 = 1.0781016062837196\n",
        "besti2 = 0.4826015185057927\n",
        "curMin = bestDER / 2 + bestJER / 2\n",
        "\n",
        "for i1 in params1:\n",
        "  for i2 in params2:\n",
        "    if i2 < i1 - 0.2:\n",
        "      for i3 in params3:\n",
        "        der, jer, mes = diarization1(embedding='clova', clustering='links', dataset='aishell4', thr2=i1, thr3=i2, ps=i3)\n",
        "        if curMin > (der + jer)/2:\n",
        "          besti1, besti2, besti3 = i1, i2, i3\n",
        "          bestDer, bestJer = der, jer\n",
        "          curMin = der / 2 + jer / 2\n",
        "        print('DER: ', der, 'JER: ', jer)\n",
        "        print('thr1: ', i1, 'thr2: ', i2, 'ps: ', i3)\n",
        "        print()\n",
        "        if mes == 'bad':\n",
        "          break"
      ],
      "metadata": {
        "colab": {
          "base_uri": "https://localhost:8080/"
        },
        "id": "DA22r1uVxJd1",
        "outputId": "e840e79b-1b1b-4081-edee-0d9cee5123ba"
      },
      "execution_count": null,
      "outputs": [
        {
          "output_type": "stream",
          "name": "stdout",
          "text": [
            "Embedding size is 512, encoder ASP.\n"
          ]
        },
        {
          "output_type": "stream",
          "name": "stderr",
          "text": [
            "100%|██████████| 20/20 [00:18<00:00,  1.11it/s]\n"
          ]
        },
        {
          "output_type": "stream",
          "name": "stdout",
          "text": [
            "DER:  0.12517478638411156 JER:  0.2540467656938167\n",
            "thr1:  0.75234944 thr2:  0.41275893 ps:  1.2\n",
            "\n",
            "Embedding size is 512, encoder ASP.\n"
          ]
        },
        {
          "output_type": "stream",
          "name": "stderr",
          "text": [
            "100%|██████████| 20/20 [00:29<00:00,  1.49s/it]\n"
          ]
        },
        {
          "output_type": "stream",
          "name": "stdout",
          "text": [
            "DER:  0.08451195207221135 JER:  0.14803975582578124\n",
            "thr1:  0.75234944 thr2:  0.488 ps:  1.2\n",
            "\n",
            "Embedding size is 512, encoder ASP.\n"
          ]
        },
        {
          "output_type": "stream",
          "name": "stderr",
          "text": [
            "100%|██████████| 20/20 [00:47<00:00,  2.35s/it]\n"
          ]
        },
        {
          "output_type": "stream",
          "name": "stdout",
          "text": [
            "DER:  0.11932475011076658 JER:  0.14712550921091358\n",
            "thr1:  0.75234944 thr2:  0.537 ps:  1.2\n",
            "\n",
            "Embedding size is 512, encoder ASP.\n"
          ]
        },
        {
          "output_type": "stream",
          "name": "stderr",
          "text": [
            "100%|██████████| 20/20 [00:23<00:00,  1.19s/it]\n"
          ]
        },
        {
          "output_type": "stream",
          "name": "stdout",
          "text": [
            "DER:  0.08759530673197048 JER:  0.1766958045870384\n",
            "thr1:  0.75234944 thr2:  0.45860152 ps:  1.2\n",
            "\n",
            "Embedding size is 512, encoder ASP.\n"
          ]
        },
        {
          "output_type": "stream",
          "name": "stderr",
          "text": [
            "100%|██████████| 20/20 [00:35<00:00,  1.79s/it]\n"
          ]
        },
        {
          "output_type": "stream",
          "name": "stdout",
          "text": [
            "DER:  0.10132895380048043 JER:  0.14333544316492947\n",
            "thr1:  0.75234944 thr2:  0.51 ps:  1.2\n",
            "\n",
            "Embedding size is 512, encoder ASP.\n"
          ]
        },
        {
          "output_type": "stream",
          "name": "stderr",
          "text": [
            "100%|██████████| 20/20 [00:18<00:00,  1.10it/s]\n"
          ]
        },
        {
          "output_type": "stream",
          "name": "stdout",
          "text": [
            "DER:  0.12517478638411156 JER:  0.2540467656938167\n",
            "thr1:  0.9 thr2:  0.41275893 ps:  1.2\n",
            "\n",
            "Embedding size is 512, encoder ASP.\n"
          ]
        },
        {
          "output_type": "stream",
          "name": "stderr",
          "text": [
            "100%|██████████| 20/20 [01:03<00:00,  3.16s/it]\n"
          ]
        },
        {
          "output_type": "stream",
          "name": "stdout",
          "text": [
            "DER:  0.14445563034830877 JER:  0.1650752430899542\n",
            "thr1:  0.9 thr2:  0.56122784 ps:  1.2\n",
            "\n",
            "Embedding size is 512, encoder ASP.\n"
          ]
        },
        {
          "output_type": "stream",
          "name": "stderr",
          "text": [
            "100%|██████████| 20/20 [01:24<00:00,  4.22s/it]\n"
          ]
        },
        {
          "output_type": "stream",
          "name": "stdout",
          "text": [
            "DER:  0.16872422176102836 JER:  0.19307121462601012\n",
            "thr1:  0.9 thr2:  0.582 ps:  1.2\n",
            "\n",
            "Embedding size is 512, encoder ASP.\n"
          ]
        },
        {
          "output_type": "stream",
          "name": "stderr",
          "text": [
            "100%|██████████| 20/20 [01:51<00:00,  5.59s/it]\n"
          ]
        },
        {
          "output_type": "stream",
          "name": "stdout",
          "text": [
            "DER:  0.2083419548267042 JER:  0.2206826394825327\n",
            "thr1:  0.9 thr2:  0.6001 ps:  1.2\n",
            "\n",
            "Embedding size is 512, encoder ASP.\n"
          ]
        },
        {
          "output_type": "stream",
          "name": "stderr",
          "text": [
            "100%|██████████| 20/20 [00:30<00:00,  1.51s/it]\n"
          ]
        },
        {
          "output_type": "stream",
          "name": "stdout",
          "text": [
            "DER:  0.08451195207221135 JER:  0.14803975582578124\n",
            "thr1:  0.9 thr2:  0.488 ps:  1.2\n",
            "\n",
            "Embedding size is 512, encoder ASP.\n"
          ]
        },
        {
          "output_type": "stream",
          "name": "stderr",
          "text": [
            "100%|██████████| 20/20 [00:45<00:00,  2.30s/it]\n"
          ]
        },
        {
          "output_type": "stream",
          "name": "stdout",
          "text": [
            "DER:  0.11932475011076658 JER:  0.14712550921091358\n",
            "thr1:  0.9 thr2:  0.537 ps:  1.2\n",
            "\n",
            "Embedding size is 512, encoder ASP.\n"
          ]
        },
        {
          "output_type": "stream",
          "name": "stderr",
          "text": [
            "100%|██████████| 20/20 [00:23<00:00,  1.18s/it]\n"
          ]
        },
        {
          "output_type": "stream",
          "name": "stdout",
          "text": [
            "DER:  0.08759530673197048 JER:  0.1766958045870384\n",
            "thr1:  0.9 thr2:  0.45860152 ps:  1.2\n",
            "\n",
            "Embedding size is 512, encoder ASP.\n"
          ]
        },
        {
          "output_type": "stream",
          "name": "stderr",
          "text": [
            "100%|██████████| 20/20 [00:37<00:00,  1.86s/it]\n"
          ]
        },
        {
          "output_type": "stream",
          "name": "stdout",
          "text": [
            "DER:  0.10132895380048043 JER:  0.14333544316492947\n",
            "thr1:  0.9 thr2:  0.51 ps:  1.2\n",
            "\n"
          ]
        }
      ]
    },
    {
      "cell_type": "code",
      "source": [
        "for i1 in params1:\n",
        "  for i2 in params2:\n",
        "    if (i2 >= i1 - 0.2) and (i2 < i1 - 0.1):\n",
        "      for i3 in params3:\n",
        "        der, jer, mes = diarization1(embedding='clova', clustering='links', dataset='aishell4', thr2=i1, thr3=i2, ps=i3)\n",
        "        if curMin > (der + jer)/2:\n",
        "          besti1, besti2, besti3 = i1, i2, i3\n",
        "          bestDer, bestJer = der, jer\n",
        "          curMin = der / 2 + jer / 2\n",
        "        print('DER: ', der, 'JER: ', jer)\n",
        "        print('thr1: ', i1, 'thr2: ', i2, 'ps: ', i3)\n",
        "        print()\n",
        "        if mes == 'bad':\n",
        "          break"
      ],
      "metadata": {
        "colab": {
          "base_uri": "https://localhost:8080/",
          "height": 498
        },
        "id": "p2TfuAyYEufy",
        "outputId": "90e15df6-208a-4f0e-d43f-d73c718749ab"
      },
      "execution_count": null,
      "outputs": [
        {
          "output_type": "stream",
          "name": "stdout",
          "text": [
            "Embedding size is 512, encoder ASP.\n"
          ]
        },
        {
          "output_type": "stream",
          "name": "stderr",
          "text": [
            "  5%|▌         | 1/20 [00:01<00:24,  1.29s/it]WARNING:root:Attempted to update an invalid edge that didn't exist. Edge remains nonexistant.\n",
            " 50%|█████     | 10/20 [00:08<00:08,  1.21it/s]\n"
          ]
        },
        {
          "output_type": "error",
          "ename": "ValueError",
          "evalue": "ignored",
          "traceback": [
            "\u001b[0;31m---------------------------------------------------------------------------\u001b[0m",
            "\u001b[0;31mValueError\u001b[0m                                Traceback (most recent call last)",
            "\u001b[0;32m<ipython-input-29-e2fc6ee3a3d8>\u001b[0m in \u001b[0;36m<module>\u001b[0;34m()\u001b[0m\n\u001b[1;32m      3\u001b[0m     \u001b[0;32mif\u001b[0m \u001b[0;34m(\u001b[0m\u001b[0mi2\u001b[0m \u001b[0;34m>=\u001b[0m \u001b[0mi1\u001b[0m \u001b[0;34m-\u001b[0m \u001b[0;36m0.2\u001b[0m\u001b[0;34m)\u001b[0m \u001b[0;32mand\u001b[0m \u001b[0;34m(\u001b[0m\u001b[0mi2\u001b[0m \u001b[0;34m<\u001b[0m \u001b[0mi1\u001b[0m \u001b[0;34m-\u001b[0m \u001b[0;36m0.1\u001b[0m\u001b[0;34m)\u001b[0m\u001b[0;34m:\u001b[0m\u001b[0;34m\u001b[0m\u001b[0;34m\u001b[0m\u001b[0m\n\u001b[1;32m      4\u001b[0m       \u001b[0;32mfor\u001b[0m \u001b[0mi3\u001b[0m \u001b[0;32min\u001b[0m \u001b[0mparams3\u001b[0m\u001b[0;34m:\u001b[0m\u001b[0;34m\u001b[0m\u001b[0;34m\u001b[0m\u001b[0m\n\u001b[0;32m----> 5\u001b[0;31m         \u001b[0mder\u001b[0m\u001b[0;34m,\u001b[0m \u001b[0mjer\u001b[0m\u001b[0;34m,\u001b[0m \u001b[0mmes\u001b[0m \u001b[0;34m=\u001b[0m \u001b[0mdiarization1\u001b[0m\u001b[0;34m(\u001b[0m\u001b[0membedding\u001b[0m\u001b[0;34m=\u001b[0m\u001b[0;34m'clova'\u001b[0m\u001b[0;34m,\u001b[0m \u001b[0mclustering\u001b[0m\u001b[0;34m=\u001b[0m\u001b[0;34m'links'\u001b[0m\u001b[0;34m,\u001b[0m \u001b[0mdataset\u001b[0m\u001b[0;34m=\u001b[0m\u001b[0;34m'aishell4'\u001b[0m\u001b[0;34m,\u001b[0m \u001b[0mthr2\u001b[0m\u001b[0;34m=\u001b[0m\u001b[0mi1\u001b[0m\u001b[0;34m,\u001b[0m \u001b[0mthr3\u001b[0m\u001b[0;34m=\u001b[0m\u001b[0mi2\u001b[0m\u001b[0;34m,\u001b[0m \u001b[0mps\u001b[0m\u001b[0;34m=\u001b[0m\u001b[0mi3\u001b[0m\u001b[0;34m)\u001b[0m\u001b[0;34m\u001b[0m\u001b[0;34m\u001b[0m\u001b[0m\n\u001b[0m\u001b[1;32m      6\u001b[0m         \u001b[0;32mif\u001b[0m \u001b[0mcurMin\u001b[0m \u001b[0;34m>\u001b[0m \u001b[0;34m(\u001b[0m\u001b[0mder\u001b[0m \u001b[0;34m+\u001b[0m \u001b[0mjer\u001b[0m\u001b[0;34m)\u001b[0m\u001b[0;34m/\u001b[0m\u001b[0;36m2\u001b[0m\u001b[0;34m:\u001b[0m\u001b[0;34m\u001b[0m\u001b[0;34m\u001b[0m\u001b[0m\n\u001b[1;32m      7\u001b[0m           \u001b[0mbesti1\u001b[0m\u001b[0;34m,\u001b[0m \u001b[0mbesti2\u001b[0m\u001b[0;34m,\u001b[0m \u001b[0mbesti3\u001b[0m \u001b[0;34m=\u001b[0m \u001b[0mi1\u001b[0m\u001b[0;34m,\u001b[0m \u001b[0mi2\u001b[0m\u001b[0;34m,\u001b[0m \u001b[0mi3\u001b[0m\u001b[0;34m\u001b[0m\u001b[0;34m\u001b[0m\u001b[0m\n",
            "\u001b[0;32m/content/speaker-diarization/run_diarization.py\u001b[0m in \u001b[0;36mdiarization1\u001b[0;34m(embedding, clustering, dataset, thr1, thr2, thr3, ps)\u001b[0m\n\u001b[1;32m    255\u001b[0m           \u001b[0;32mif\u001b[0m \u001b[0mtime\u001b[0m\u001b[0;34m.\u001b[0m\u001b[0mtime\u001b[0m\u001b[0;34m(\u001b[0m\u001b[0;34m)\u001b[0m \u001b[0;34m-\u001b[0m \u001b[0mstart_time\u001b[0m \u001b[0;34m>\u001b[0m \u001b[0;36m20\u001b[0m\u001b[0;34m:\u001b[0m\u001b[0;34m\u001b[0m\u001b[0;34m\u001b[0m\u001b[0m\n\u001b[1;32m    256\u001b[0m             \u001b[0;32mreturn\u001b[0m \u001b[0;36m1000\u001b[0m\u001b[0;34m,\u001b[0m \u001b[0;36m1000\u001b[0m\u001b[0;34m,\u001b[0m \u001b[0;34m'bad'\u001b[0m\u001b[0;34m\u001b[0m\u001b[0;34m\u001b[0m\u001b[0m\n\u001b[0;32m--> 257\u001b[0;31m           \u001b[0mlabels\u001b[0m \u001b[0;34m+=\u001b[0m \u001b[0;34m[\u001b[0m\u001b[0mlinks_cluster\u001b[0m\u001b[0;34m.\u001b[0m\u001b[0mpredict\u001b[0m\u001b[0;34m(\u001b[0m\u001b[0membeddings\u001b[0m\u001b[0;34m[\u001b[0m\u001b[0mi\u001b[0m\u001b[0;34m]\u001b[0m\u001b[0;34m)\u001b[0m\u001b[0;34m]\u001b[0m\u001b[0;34m\u001b[0m\u001b[0;34m\u001b[0m\u001b[0m\n\u001b[0m\u001b[1;32m    258\u001b[0m \u001b[0;34m\u001b[0m\u001b[0m\n\u001b[1;32m    259\u001b[0m       \u001b[0;32mif\u001b[0m \u001b[0mCLUSTERING\u001b[0m \u001b[0;34m==\u001b[0m \u001b[0;34m'online'\u001b[0m\u001b[0;34m:\u001b[0m\u001b[0;34m\u001b[0m\u001b[0;34m\u001b[0m\u001b[0m\n",
            "\u001b[0;32m/content/speaker-diarization/links_cluster.py\u001b[0m in \u001b[0;36mpredict\u001b[0;34m(self, new_vector)\u001b[0m\n\u001b[1;32m     94\u001b[0m             \u001b[0;31m# Add to existing subcluster\u001b[0m\u001b[0;34m\u001b[0m\u001b[0;34m\u001b[0m\u001b[0;34m\u001b[0m\u001b[0m\n\u001b[1;32m     95\u001b[0m             \u001b[0mbest_subcluster\u001b[0m\u001b[0;34m.\u001b[0m\u001b[0madd\u001b[0m\u001b[0;34m(\u001b[0m\u001b[0mnew_vector\u001b[0m\u001b[0;34m)\u001b[0m\u001b[0;34m\u001b[0m\u001b[0;34m\u001b[0m\u001b[0m\n\u001b[0;32m---> 96\u001b[0;31m             \u001b[0mself\u001b[0m\u001b[0;34m.\u001b[0m\u001b[0mupdate_cluster\u001b[0m\u001b[0;34m(\u001b[0m\u001b[0mbest_subcluster_cluster_id\u001b[0m\u001b[0;34m,\u001b[0m \u001b[0mbest_subcluster_id\u001b[0m\u001b[0;34m)\u001b[0m\u001b[0;34m\u001b[0m\u001b[0;34m\u001b[0m\u001b[0m\n\u001b[0m\u001b[1;32m     97\u001b[0m             \u001b[0massigned_cluster\u001b[0m \u001b[0;34m=\u001b[0m \u001b[0mbest_subcluster_cluster_id\u001b[0m\u001b[0;34m\u001b[0m\u001b[0;34m\u001b[0m\u001b[0m\n\u001b[1;32m     98\u001b[0m         \u001b[0;32melse\u001b[0m\u001b[0;34m:\u001b[0m\u001b[0;34m\u001b[0m\u001b[0;34m\u001b[0m\u001b[0m\n",
            "\u001b[0;32m/content/speaker-diarization/links_cluster.py\u001b[0m in \u001b[0;36mupdate_cluster\u001b[0;34m(self, cl_idx, sc_idx)\u001b[0m\n\u001b[1;32m    183\u001b[0m                     \u001b[0mconnected_sc_idx\u001b[0m \u001b[0;34m=\u001b[0m \u001b[0mc_sc_idx\u001b[0m\u001b[0;34m\u001b[0m\u001b[0;34m\u001b[0m\u001b[0m\n\u001b[1;32m    184\u001b[0m             \u001b[0;32mif\u001b[0m \u001b[0mconnected_sc_idx\u001b[0m \u001b[0;32mis\u001b[0m \u001b[0;32mNone\u001b[0m\u001b[0;34m:\u001b[0m\u001b[0;34m\u001b[0m\u001b[0;34m\u001b[0m\u001b[0m\n\u001b[0;32m--> 185\u001b[0;31m                 raise ValueError(f\"Connected subcluster of {sc_idx} \"\n\u001b[0m\u001b[1;32m    186\u001b[0m                                  f\"was not found in cluster list of {cl_idx}.\")\n\u001b[1;32m    187\u001b[0m             \u001b[0mcossim\u001b[0m \u001b[0;34m=\u001b[0m \u001b[0;36m1.0\u001b[0m \u001b[0;34m-\u001b[0m \u001b[0mcosine\u001b[0m\u001b[0;34m(\u001b[0m\u001b[0mupdated_sc\u001b[0m\u001b[0;34m.\u001b[0m\u001b[0mcentroid\u001b[0m\u001b[0;34m,\u001b[0m \u001b[0mconnected_sc\u001b[0m\u001b[0;34m.\u001b[0m\u001b[0mcentroid\u001b[0m\u001b[0;34m)\u001b[0m\u001b[0;34m\u001b[0m\u001b[0;34m\u001b[0m\u001b[0m\n",
            "\u001b[0;31mValueError\u001b[0m: Connected subcluster of 1 was not found in cluster list of 0."
          ]
        }
      ]
    },
    {
      "cell_type": "code",
      "source": [
        "print('Best DER: ', bestDER, ', Best JER: ', bestJER)\n",
        "print('Best thr1: ', besti1, ', Best thr2: ', besti2)"
      ],
      "metadata": {
        "colab": {
          "base_uri": "https://localhost:8080/"
        },
        "id": "2qWuAyqXOUMm",
        "outputId": "517761f2-aba7-425b-8bb2-5b434fe3c74d"
      },
      "execution_count": null,
      "outputs": [
        {
          "output_type": "stream",
          "name": "stdout",
          "text": [
            "Best DER:  0.08263362506500352 , Best JER:  0.14932725782264578\n",
            "Best thr1:  1.0781016062837196 , Best thr2:  0.4826015185057927\n"
          ]
        }
      ]
    },
    {
      "cell_type": "code",
      "source": [
        "# !conda create -n diart python=3.8\n",
        "# !conda activate diart"
      ],
      "metadata": {
        "id": "yN2m6PnnRwZV",
        "colab": {
          "base_uri": "https://localhost:8080/"
        },
        "outputId": "f6a01393-3db4-4902-e7f8-e8a9705980e3"
      },
      "execution_count": null,
      "outputs": [
        {
          "output_type": "stream",
          "name": "stdout",
          "text": [
            "/bin/bash: conda: command not found\n",
            "/bin/bash: conda: command not found\n"
          ]
        }
      ]
    },
    {
      "cell_type": "code",
      "source": [
        "!pip install git+https://github.com/pyannote/pyannote-audio.git@develop;#egg=pyannote-audio\n"
      ],
      "metadata": {
        "id": "DZ2pNqk4A5gl",
        "colab": {
          "base_uri": "https://localhost:8080/",
          "height": 1000
        },
        "outputId": "aa215423-dd54-4859-c654-ceb33019bd5c"
      },
      "execution_count": null,
      "outputs": [
        {
          "output_type": "stream",
          "name": "stdout",
          "text": [
            "Looking in indexes: https://pypi.org/simple, https://us-python.pkg.dev/colab-wheels/public/simple/\n",
            "Collecting git+https://github.com/pyannote/pyannote-audio.git@develop\n",
            "  Cloning https://github.com/pyannote/pyannote-audio.git (to revision develop) to /tmp/pip-req-build-8vq0e39k\n",
            "  Running command git clone -q https://github.com/pyannote/pyannote-audio.git /tmp/pip-req-build-8vq0e39k\n",
            "  Running command git submodule update --init --recursive -q\n",
            "Collecting torch_audiomentations@ git+https://github.com/asteroid-team/torch-audiomentations@master#egg=torch_audiomentations\n",
            "  Cloning https://github.com/asteroid-team/torch-audiomentations (to revision master) to /tmp/pip-install-9q521xpj/torch-audiomentations_fa6e8e56730d46c0a7444cfeb156dfa8\n",
            "  Running command git clone -q https://github.com/asteroid-team/torch-audiomentations /tmp/pip-install-9q521xpj/torch-audiomentations_fa6e8e56730d46c0a7444cfeb156dfa8\n",
            "  Installing build dependencies ... \u001b[?25l\u001b[?25hdone\n",
            "  Getting requirements to build wheel ... \u001b[?25l\u001b[?25hdone\n",
            "    Preparing wheel metadata ... \u001b[?25l\u001b[?25hdone\n",
            "Collecting asteroid-filterbanks<0.5,>=0.4\n",
            "  Downloading asteroid_filterbanks-0.4.0-py3-none-any.whl (29 kB)\n",
            "Collecting backports.cached_property\n",
            "  Downloading backports.cached_property-1.0.1-py3-none-any.whl (5.7 kB)\n",
            "Collecting einops<0.4.0,>=0.3\n",
            "  Downloading einops-0.3.2-py3-none-any.whl (25 kB)\n",
            "Collecting huggingface_hub\n",
            "  Downloading huggingface_hub-0.7.0-py3-none-any.whl (86 kB)\n",
            "\u001b[K     |████████████████████████████████| 86 kB 5.1 MB/s \n",
            "\u001b[?25hRequirement already satisfied: networkx<3.0,>=2.6 in /usr/local/lib/python3.7/dist-packages (from pyannote.audio==0.0.1) (2.6.3)\n",
            "Collecting omegaconf<3.0,>=2.1\n",
            "  Downloading omegaconf-2.2.2-py3-none-any.whl (79 kB)\n",
            "\u001b[K     |████████████████████████████████| 79 kB 7.6 MB/s \n",
            "\u001b[?25hCollecting pyannote.core<5.0,>=4.4\n",
            "  Downloading pyannote.core-4.4-py3-none-any.whl (65 kB)\n",
            "\u001b[K     |████████████████████████████████| 65 kB 5.3 MB/s \n",
            "\u001b[?25hCollecting pyannote.database<5.0,>=4.1.1\n",
            "  Downloading pyannote.database-4.1.3-py3-none-any.whl (41 kB)\n",
            "\u001b[K     |████████████████████████████████| 41 kB 569 kB/s \n",
            "\u001b[?25hCollecting pyannote.metrics<4.0,>=3.2\n",
            "  Downloading pyannote.metrics-3.2-py3-none-any.whl (49 kB)\n",
            "\u001b[K     |████████████████████████████████| 49 kB 7.5 MB/s \n",
            "\u001b[?25hCollecting pyannote.pipeline<3.0,>=2.2\n",
            "  Downloading pyannote.pipeline-2.2-py3-none-any.whl (25 kB)\n",
            "Collecting pytorch_lightning<1.7,>=1.5.4\n",
            "  Downloading pytorch_lightning-1.6.4-py3-none-any.whl (585 kB)\n",
            "\u001b[K     |████████████████████████████████| 585 kB 61.4 MB/s \n",
            "\u001b[?25hCollecting pytorch_metric_learning<2.0,>=1.0.0\n",
            "  Downloading pytorch_metric_learning-1.3.2-py3-none-any.whl (109 kB)\n",
            "\u001b[K     |████████████████████████████████| 109 kB 76.1 MB/s \n",
            "\u001b[?25hRequirement already satisfied: semver<3.0,>=2.10.2 in /usr/local/lib/python3.7/dist-packages (from pyannote.audio==0.0.1) (2.13.0)\n",
            "Collecting singledispatchmethod\n",
            "  Downloading singledispatchmethod-1.0-py2.py3-none-any.whl (4.7 kB)\n",
            "Requirement already satisfied: soundfile<0.11,>=0.10.2 in /usr/local/lib/python3.7/dist-packages (from pyannote.audio==0.0.1) (0.10.3.post1)\n",
            "Collecting spectralcluster<0.3,>=0.2.4\n",
            "  Downloading spectralcluster-0.2.5-py3-none-any.whl (23 kB)\n",
            "Requirement already satisfied: torch>=1.9 in /usr/local/lib/python3.7/dist-packages (from pyannote.audio==0.0.1) (1.11.0+cu113)\n",
            "Requirement already satisfied: torchaudio<1.0,>=0.10 in /usr/local/lib/python3.7/dist-packages (from pyannote.audio==0.0.1) (0.11.0+cu113)\n",
            "Collecting torchmetrics<1.0,>=0.6\n",
            "  Downloading torchmetrics-0.9.0-py3-none-any.whl (418 kB)\n",
            "\u001b[K     |████████████████████████████████| 418 kB 58.1 MB/s \n",
            "\u001b[?25hRequirement already satisfied: typing_extensions in /usr/local/lib/python3.7/dist-packages (from pyannote.audio==0.0.1) (4.2.0)\n",
            "Collecting julius<0.3,>=0.2.3\n",
            "  Downloading julius-0.2.6.tar.gz (58 kB)\n",
            "\u001b[K     |████████████████████████████████| 58 kB 7.8 MB/s \n",
            "\u001b[?25hRequirement already satisfied: librosa>=0.6.0 in /usr/local/lib/python3.7/dist-packages (from torch_audiomentations@ git+https://github.com/asteroid-team/torch-audiomentations@master#egg=torch_audiomentations->pyannote.audio==0.0.1) (0.8.1)\n",
            "Collecting torch-pitch-shift>=1.2.2\n",
            "  Downloading torch_pitch_shift-1.2.2-py3-none-any.whl (5.0 kB)\n",
            "Requirement already satisfied: numpy in /usr/local/lib/python3.7/dist-packages (from asteroid-filterbanks<0.5,>=0.4->pyannote.audio==0.0.1) (1.21.6)\n",
            "Requirement already satisfied: scipy>=1.0.0 in /usr/local/lib/python3.7/dist-packages (from librosa>=0.6.0->torch_audiomentations@ git+https://github.com/asteroid-team/torch-audiomentations@master#egg=torch_audiomentations->pyannote.audio==0.0.1) (1.4.1)\n",
            "Requirement already satisfied: scikit-learn!=0.19.0,>=0.14.0 in /usr/local/lib/python3.7/dist-packages (from librosa>=0.6.0->torch_audiomentations@ git+https://github.com/asteroid-team/torch-audiomentations@master#egg=torch_audiomentations->pyannote.audio==0.0.1) (1.0.2)\n",
            "Requirement already satisfied: decorator>=3.0.0 in /usr/local/lib/python3.7/dist-packages (from librosa>=0.6.0->torch_audiomentations@ git+https://github.com/asteroid-team/torch-audiomentations@master#egg=torch_audiomentations->pyannote.audio==0.0.1) (4.4.2)\n",
            "Requirement already satisfied: pooch>=1.0 in /usr/local/lib/python3.7/dist-packages (from librosa>=0.6.0->torch_audiomentations@ git+https://github.com/asteroid-team/torch-audiomentations@master#egg=torch_audiomentations->pyannote.audio==0.0.1) (1.6.0)\n",
            "Requirement already satisfied: packaging>=20.0 in /usr/local/lib/python3.7/dist-packages (from librosa>=0.6.0->torch_audiomentations@ git+https://github.com/asteroid-team/torch-audiomentations@master#egg=torch_audiomentations->pyannote.audio==0.0.1) (21.3)\n",
            "Requirement already satisfied: audioread>=2.0.0 in /usr/local/lib/python3.7/dist-packages (from librosa>=0.6.0->torch_audiomentations@ git+https://github.com/asteroid-team/torch-audiomentations@master#egg=torch_audiomentations->pyannote.audio==0.0.1) (2.1.9)\n",
            "Requirement already satisfied: resampy>=0.2.2 in /usr/local/lib/python3.7/dist-packages (from librosa>=0.6.0->torch_audiomentations@ git+https://github.com/asteroid-team/torch-audiomentations@master#egg=torch_audiomentations->pyannote.audio==0.0.1) (0.2.2)\n",
            "Requirement already satisfied: numba>=0.43.0 in /usr/local/lib/python3.7/dist-packages (from librosa>=0.6.0->torch_audiomentations@ git+https://github.com/asteroid-team/torch-audiomentations@master#egg=torch_audiomentations->pyannote.audio==0.0.1) (0.51.2)\n",
            "Requirement already satisfied: joblib>=0.14 in /usr/local/lib/python3.7/dist-packages (from librosa>=0.6.0->torch_audiomentations@ git+https://github.com/asteroid-team/torch-audiomentations@master#egg=torch_audiomentations->pyannote.audio==0.0.1) (1.1.0)\n",
            "Requirement already satisfied: llvmlite<0.35,>=0.34.0.dev0 in /usr/local/lib/python3.7/dist-packages (from numba>=0.43.0->librosa>=0.6.0->torch_audiomentations@ git+https://github.com/asteroid-team/torch-audiomentations@master#egg=torch_audiomentations->pyannote.audio==0.0.1) (0.34.0)\n",
            "Requirement already satisfied: setuptools in /usr/local/lib/python3.7/dist-packages (from numba>=0.43.0->librosa>=0.6.0->torch_audiomentations@ git+https://github.com/asteroid-team/torch-audiomentations@master#egg=torch_audiomentations->pyannote.audio==0.0.1) (57.4.0)\n",
            "Collecting antlr4-python3-runtime==4.9.*\n",
            "  Downloading antlr4-python3-runtime-4.9.3.tar.gz (117 kB)\n",
            "\u001b[K     |████████████████████████████████| 117 kB 66.2 MB/s \n",
            "\u001b[?25hCollecting PyYAML>=5.1.0\n",
            "  Downloading PyYAML-6.0-cp37-cp37m-manylinux_2_5_x86_64.manylinux1_x86_64.manylinux_2_12_x86_64.manylinux2010_x86_64.whl (596 kB)\n",
            "\u001b[K     |████████████████████████████████| 596 kB 58.2 MB/s \n",
            "\u001b[?25hRequirement already satisfied: pyparsing!=3.0.5,>=2.0.2 in /usr/local/lib/python3.7/dist-packages (from packaging>=20.0->librosa>=0.6.0->torch_audiomentations@ git+https://github.com/asteroid-team/torch-audiomentations@master#egg=torch_audiomentations->pyannote.audio==0.0.1) (3.0.9)\n",
            "Requirement already satisfied: appdirs>=1.3.0 in /usr/local/lib/python3.7/dist-packages (from pooch>=1.0->librosa>=0.6.0->torch_audiomentations@ git+https://github.com/asteroid-team/torch-audiomentations@master#egg=torch_audiomentations->pyannote.audio==0.0.1) (1.4.4)\n",
            "Requirement already satisfied: requests>=2.19.0 in /usr/local/lib/python3.7/dist-packages (from pooch>=1.0->librosa>=0.6.0->torch_audiomentations@ git+https://github.com/asteroid-team/torch-audiomentations@master#egg=torch_audiomentations->pyannote.audio==0.0.1) (2.23.0)\n",
            "Requirement already satisfied: sortedcontainers>=2.0.4 in /usr/local/lib/python3.7/dist-packages (from pyannote.core<5.0,>=4.4->pyannote.audio==0.0.1) (2.4.0)\n",
            "Collecting simplejson>=3.8.1\n",
            "  Downloading simplejson-3.17.6-cp37-cp37m-manylinux_2_5_x86_64.manylinux1_x86_64.manylinux_2_12_x86_64.manylinux2010_x86_64.whl (130 kB)\n",
            "\u001b[K     |████████████████████████████████| 130 kB 69.6 MB/s \n",
            "\u001b[?25hRequirement already satisfied: pandas>=0.19 in /usr/local/lib/python3.7/dist-packages (from pyannote.database<5.0,>=4.1.1->pyannote.audio==0.0.1) (1.3.5)\n",
            "Collecting typer[all]>=0.2.1\n",
            "  Downloading typer-0.4.1-py3-none-any.whl (27 kB)\n",
            "Requirement already satisfied: pytz>=2017.3 in /usr/local/lib/python3.7/dist-packages (from pandas>=0.19->pyannote.database<5.0,>=4.1.1->pyannote.audio==0.0.1) (2022.1)\n",
            "Requirement already satisfied: python-dateutil>=2.7.3 in /usr/local/lib/python3.7/dist-packages (from pandas>=0.19->pyannote.database<5.0,>=4.1.1->pyannote.audio==0.0.1) (2.8.2)\n",
            "Requirement already satisfied: matplotlib>=2.0.0 in /usr/local/lib/python3.7/dist-packages (from pyannote.metrics<4.0,>=3.2->pyannote.audio==0.0.1) (3.2.2)\n",
            "Requirement already satisfied: tabulate>=0.7.7 in /usr/local/lib/python3.7/dist-packages (from pyannote.metrics<4.0,>=3.2->pyannote.audio==0.0.1) (0.8.9)\n",
            "Requirement already satisfied: sympy>=1.1 in /usr/local/lib/python3.7/dist-packages (from pyannote.metrics<4.0,>=3.2->pyannote.audio==0.0.1) (1.7.1)\n",
            "Requirement already satisfied: docopt>=0.6.2 in /usr/local/lib/python3.7/dist-packages (from pyannote.metrics<4.0,>=3.2->pyannote.audio==0.0.1) (0.6.2)\n",
            "Requirement already satisfied: kiwisolver>=1.0.1 in /usr/local/lib/python3.7/dist-packages (from matplotlib>=2.0.0->pyannote.metrics<4.0,>=3.2->pyannote.audio==0.0.1) (1.4.2)\n",
            "Requirement already satisfied: cycler>=0.10 in /usr/local/lib/python3.7/dist-packages (from matplotlib>=2.0.0->pyannote.metrics<4.0,>=3.2->pyannote.audio==0.0.1) (0.11.0)\n",
            "Requirement already satisfied: filelock>=3.0.10 in /usr/local/lib/python3.7/dist-packages (from pyannote.pipeline<3.0,>=2.2->pyannote.audio==0.0.1) (3.7.0)\n",
            "Requirement already satisfied: tqdm>=4.29.1 in /usr/local/lib/python3.7/dist-packages (from pyannote.pipeline<3.0,>=2.2->pyannote.audio==0.0.1) (4.64.0)\n",
            "Collecting optuna>=1.4\n",
            "  Downloading optuna-2.10.0-py3-none-any.whl (308 kB)\n",
            "\u001b[K     |████████████████████████████████| 308 kB 72.1 MB/s \n",
            "\u001b[?25hCollecting cliff\n",
            "  Downloading cliff-3.10.1-py3-none-any.whl (81 kB)\n",
            "\u001b[K     |████████████████████████████████| 81 kB 12.2 MB/s \n",
            "\u001b[?25hRequirement already satisfied: sqlalchemy>=1.1.0 in /usr/local/lib/python3.7/dist-packages (from optuna>=1.4->pyannote.pipeline<3.0,>=2.2->pyannote.audio==0.0.1) (1.4.36)\n",
            "Collecting colorlog\n",
            "  Downloading colorlog-6.6.0-py2.py3-none-any.whl (11 kB)\n",
            "Collecting alembic\n",
            "  Downloading alembic-1.8.0-py3-none-any.whl (209 kB)\n",
            "\u001b[K     |████████████████████████████████| 209 kB 76.4 MB/s \n",
            "\u001b[?25hCollecting cmaes>=0.8.2\n",
            "  Downloading cmaes-0.8.2-py3-none-any.whl (15 kB)\n",
            "Requirement already satisfied: six>=1.5 in /usr/local/lib/python3.7/dist-packages (from python-dateutil>=2.7.3->pandas>=0.19->pyannote.database<5.0,>=4.1.1->pyannote.audio==0.0.1) (1.15.0)\n",
            "Collecting fsspec[http]!=2021.06.0,>=2021.05.0\n",
            "  Downloading fsspec-2022.5.0-py3-none-any.whl (140 kB)\n",
            "\u001b[K     |████████████████████████████████| 140 kB 64.5 MB/s \n",
            "\u001b[?25hRequirement already satisfied: tensorboard>=2.2.0 in /usr/local/lib/python3.7/dist-packages (from pytorch_lightning<1.7,>=1.5.4->pyannote.audio==0.0.1) (2.8.0)\n",
            "Requirement already satisfied: protobuf<=3.20.1 in /usr/local/lib/python3.7/dist-packages (from pytorch_lightning<1.7,>=1.5.4->pyannote.audio==0.0.1) (3.17.3)\n",
            "Collecting pyDeprecate>=0.3.1\n",
            "  Downloading pyDeprecate-0.3.2-py3-none-any.whl (10 kB)\n",
            "Collecting aiohttp\n",
            "  Downloading aiohttp-3.8.1-cp37-cp37m-manylinux_2_5_x86_64.manylinux1_x86_64.manylinux_2_12_x86_64.manylinux2010_x86_64.whl (1.1 MB)\n",
            "\u001b[K     |████████████████████████████████| 1.1 MB 52.3 MB/s \n",
            "\u001b[?25hRequirement already satisfied: torchvision in /usr/local/lib/python3.7/dist-packages (from pytorch_metric_learning<2.0,>=1.0.0->pyannote.audio==0.0.1) (0.12.0+cu113)\n",
            "Requirement already satisfied: certifi>=2017.4.17 in /usr/local/lib/python3.7/dist-packages (from requests>=2.19.0->pooch>=1.0->librosa>=0.6.0->torch_audiomentations@ git+https://github.com/asteroid-team/torch-audiomentations@master#egg=torch_audiomentations->pyannote.audio==0.0.1) (2022.5.18.1)\n",
            "Requirement already satisfied: urllib3!=1.25.0,!=1.25.1,<1.26,>=1.21.1 in /usr/local/lib/python3.7/dist-packages (from requests>=2.19.0->pooch>=1.0->librosa>=0.6.0->torch_audiomentations@ git+https://github.com/asteroid-team/torch-audiomentations@master#egg=torch_audiomentations->pyannote.audio==0.0.1) (1.24.3)\n",
            "Requirement already satisfied: idna<3,>=2.5 in /usr/local/lib/python3.7/dist-packages (from requests>=2.19.0->pooch>=1.0->librosa>=0.6.0->torch_audiomentations@ git+https://github.com/asteroid-team/torch-audiomentations@master#egg=torch_audiomentations->pyannote.audio==0.0.1) (2.10)\n",
            "Requirement already satisfied: chardet<4,>=3.0.2 in /usr/local/lib/python3.7/dist-packages (from requests>=2.19.0->pooch>=1.0->librosa>=0.6.0->torch_audiomentations@ git+https://github.com/asteroid-team/torch-audiomentations@master#egg=torch_audiomentations->pyannote.audio==0.0.1) (3.0.4)\n",
            "Requirement already satisfied: threadpoolctl>=2.0.0 in /usr/local/lib/python3.7/dist-packages (from scikit-learn!=0.19.0,>=0.14.0->librosa>=0.6.0->torch_audiomentations@ git+https://github.com/asteroid-team/torch-audiomentations@master#egg=torch_audiomentations->pyannote.audio==0.0.1) (3.1.0)\n",
            "Requirement already satisfied: cffi>=1.0 in /usr/local/lib/python3.7/dist-packages (from soundfile<0.11,>=0.10.2->pyannote.audio==0.0.1) (1.15.0)\n",
            "Requirement already satisfied: pycparser in /usr/local/lib/python3.7/dist-packages (from cffi>=1.0->soundfile<0.11,>=0.10.2->pyannote.audio==0.0.1) (2.21)\n",
            "Requirement already satisfied: greenlet!=0.4.17 in /usr/local/lib/python3.7/dist-packages (from sqlalchemy>=1.1.0->optuna>=1.4->pyannote.pipeline<3.0,>=2.2->pyannote.audio==0.0.1) (1.1.2)\n",
            "Requirement already satisfied: importlib-metadata in /usr/local/lib/python3.7/dist-packages (from sqlalchemy>=1.1.0->optuna>=1.4->pyannote.pipeline<3.0,>=2.2->pyannote.audio==0.0.1) (4.11.4)\n",
            "Requirement already satisfied: mpmath>=0.19 in /usr/local/lib/python3.7/dist-packages (from sympy>=1.1->pyannote.metrics<4.0,>=3.2->pyannote.audio==0.0.1) (1.2.1)\n",
            "Requirement already satisfied: absl-py>=0.4 in /usr/local/lib/python3.7/dist-packages (from tensorboard>=2.2.0->pytorch_lightning<1.7,>=1.5.4->pyannote.audio==0.0.1) (1.0.0)\n",
            "Requirement already satisfied: tensorboard-plugin-wit>=1.6.0 in /usr/local/lib/python3.7/dist-packages (from tensorboard>=2.2.0->pytorch_lightning<1.7,>=1.5.4->pyannote.audio==0.0.1) (1.8.1)\n",
            "Requirement already satisfied: wheel>=0.26 in /usr/local/lib/python3.7/dist-packages (from tensorboard>=2.2.0->pytorch_lightning<1.7,>=1.5.4->pyannote.audio==0.0.1) (0.37.1)\n",
            "Requirement already satisfied: markdown>=2.6.8 in /usr/local/lib/python3.7/dist-packages (from tensorboard>=2.2.0->pytorch_lightning<1.7,>=1.5.4->pyannote.audio==0.0.1) (3.3.7)\n",
            "Requirement already satisfied: werkzeug>=0.11.15 in /usr/local/lib/python3.7/dist-packages (from tensorboard>=2.2.0->pytorch_lightning<1.7,>=1.5.4->pyannote.audio==0.0.1) (1.0.1)\n",
            "Requirement already satisfied: google-auth-oauthlib<0.5,>=0.4.1 in /usr/local/lib/python3.7/dist-packages (from tensorboard>=2.2.0->pytorch_lightning<1.7,>=1.5.4->pyannote.audio==0.0.1) (0.4.6)\n",
            "Requirement already satisfied: tensorboard-data-server<0.7.0,>=0.6.0 in /usr/local/lib/python3.7/dist-packages (from tensorboard>=2.2.0->pytorch_lightning<1.7,>=1.5.4->pyannote.audio==0.0.1) (0.6.1)\n",
            "Requirement already satisfied: grpcio>=1.24.3 in /usr/local/lib/python3.7/dist-packages (from tensorboard>=2.2.0->pytorch_lightning<1.7,>=1.5.4->pyannote.audio==0.0.1) (1.46.3)\n",
            "Requirement already satisfied: google-auth<3,>=1.6.3 in /usr/local/lib/python3.7/dist-packages (from tensorboard>=2.2.0->pytorch_lightning<1.7,>=1.5.4->pyannote.audio==0.0.1) (1.35.0)\n",
            "Requirement already satisfied: rsa<5,>=3.1.4 in /usr/local/lib/python3.7/dist-packages (from google-auth<3,>=1.6.3->tensorboard>=2.2.0->pytorch_lightning<1.7,>=1.5.4->pyannote.audio==0.0.1) (4.8)\n",
            "Requirement already satisfied: cachetools<5.0,>=2.0.0 in /usr/local/lib/python3.7/dist-packages (from google-auth<3,>=1.6.3->tensorboard>=2.2.0->pytorch_lightning<1.7,>=1.5.4->pyannote.audio==0.0.1) (4.2.4)\n",
            "Requirement already satisfied: pyasn1-modules>=0.2.1 in /usr/local/lib/python3.7/dist-packages (from google-auth<3,>=1.6.3->tensorboard>=2.2.0->pytorch_lightning<1.7,>=1.5.4->pyannote.audio==0.0.1) (0.2.8)\n",
            "Requirement already satisfied: requests-oauthlib>=0.7.0 in /usr/local/lib/python3.7/dist-packages (from google-auth-oauthlib<0.5,>=0.4.1->tensorboard>=2.2.0->pytorch_lightning<1.7,>=1.5.4->pyannote.audio==0.0.1) (1.3.1)\n",
            "Requirement already satisfied: zipp>=0.5 in /usr/local/lib/python3.7/dist-packages (from importlib-metadata->sqlalchemy>=1.1.0->optuna>=1.4->pyannote.pipeline<3.0,>=2.2->pyannote.audio==0.0.1) (3.8.0)\n",
            "Requirement already satisfied: pyasn1<0.5.0,>=0.4.6 in /usr/local/lib/python3.7/dist-packages (from pyasn1-modules>=0.2.1->google-auth<3,>=1.6.3->tensorboard>=2.2.0->pytorch_lightning<1.7,>=1.5.4->pyannote.audio==0.0.1) (0.4.8)\n",
            "Requirement already satisfied: oauthlib>=3.0.0 in /usr/local/lib/python3.7/dist-packages (from requests-oauthlib>=0.7.0->google-auth-oauthlib<0.5,>=0.4.1->tensorboard>=2.2.0->pytorch_lightning<1.7,>=1.5.4->pyannote.audio==0.0.1) (3.2.0)\n",
            "Collecting primePy>=1.3\n",
            "  Downloading primePy-1.3-py3-none-any.whl (4.0 kB)\n",
            "Requirement already satisfied: click<9.0.0,>=7.1.1 in /usr/local/lib/python3.7/dist-packages (from typer[all]>=0.2.1->pyannote.database<5.0,>=4.1.1->pyannote.audio==0.0.1) (7.1.2)\n",
            "Collecting colorama<0.5.0,>=0.4.3\n",
            "  Downloading colorama-0.4.4-py2.py3-none-any.whl (16 kB)\n",
            "Collecting shellingham<2.0.0,>=1.3.0\n",
            "  Downloading shellingham-1.4.0-py2.py3-none-any.whl (9.4 kB)\n",
            "Requirement already satisfied: attrs>=17.3.0 in /usr/local/lib/python3.7/dist-packages (from aiohttp->fsspec[http]!=2021.06.0,>=2021.05.0->pytorch_lightning<1.7,>=1.5.4->pyannote.audio==0.0.1) (21.4.0)\n",
            "Collecting multidict<7.0,>=4.5\n",
            "  Downloading multidict-6.0.2-cp37-cp37m-manylinux_2_17_x86_64.manylinux2014_x86_64.whl (94 kB)\n",
            "\u001b[K     |████████████████████████████████| 94 kB 5.0 MB/s \n",
            "\u001b[?25hCollecting asynctest==0.13.0\n",
            "  Downloading asynctest-0.13.0-py3-none-any.whl (26 kB)\n",
            "Collecting async-timeout<5.0,>=4.0.0a3\n",
            "  Downloading async_timeout-4.0.2-py3-none-any.whl (5.8 kB)\n",
            "Collecting frozenlist>=1.1.1\n",
            "  Downloading frozenlist-1.3.0-cp37-cp37m-manylinux_2_5_x86_64.manylinux1_x86_64.manylinux_2_17_x86_64.manylinux2014_x86_64.whl (144 kB)\n",
            "\u001b[K     |████████████████████████████████| 144 kB 78.4 MB/s \n",
            "\u001b[?25hCollecting aiosignal>=1.1.2\n",
            "  Downloading aiosignal-1.2.0-py3-none-any.whl (8.2 kB)\n",
            "Requirement already satisfied: charset-normalizer<3.0,>=2.0 in /usr/local/lib/python3.7/dist-packages (from aiohttp->fsspec[http]!=2021.06.0,>=2021.05.0->pytorch_lightning<1.7,>=1.5.4->pyannote.audio==0.0.1) (2.0.12)\n",
            "Collecting yarl<2.0,>=1.0\n",
            "  Downloading yarl-1.7.2-cp37-cp37m-manylinux_2_5_x86_64.manylinux1_x86_64.manylinux_2_12_x86_64.manylinux2010_x86_64.whl (271 kB)\n",
            "\u001b[K     |████████████████████████████████| 271 kB 78.9 MB/s \n",
            "\u001b[?25hCollecting Mako\n",
            "  Downloading Mako-1.2.0-py3-none-any.whl (78 kB)\n",
            "\u001b[K     |████████████████████████████████| 78 kB 9.3 MB/s \n",
            "\u001b[?25hRequirement already satisfied: importlib-resources in /usr/local/lib/python3.7/dist-packages (from alembic->optuna>=1.4->pyannote.pipeline<3.0,>=2.2->pyannote.audio==0.0.1) (5.7.1)\n",
            "Collecting stevedore>=2.0.1\n",
            "  Downloading stevedore-3.5.0-py3-none-any.whl (49 kB)\n",
            "\u001b[K     |████████████████████████████████| 49 kB 8.0 MB/s \n",
            "\u001b[?25hCollecting pbr!=2.1.0,>=2.0.0\n",
            "  Downloading pbr-5.9.0-py2.py3-none-any.whl (112 kB)\n",
            "\u001b[K     |████████████████████████████████| 112 kB 73.0 MB/s \n",
            "\u001b[?25hCollecting autopage>=0.4.0\n",
            "  Downloading autopage-0.5.1-py3-none-any.whl (29 kB)\n",
            "Collecting cmd2>=1.0.0\n",
            "  Downloading cmd2-2.4.1-py3-none-any.whl (146 kB)\n",
            "\u001b[K     |████████████████████████████████| 146 kB 76.8 MB/s \n",
            "\u001b[?25hRequirement already satisfied: PrettyTable>=0.7.2 in /usr/local/lib/python3.7/dist-packages (from cliff->optuna>=1.4->pyannote.pipeline<3.0,>=2.2->pyannote.audio==0.0.1) (3.3.0)\n",
            "Collecting pyperclip>=1.6\n",
            "  Downloading pyperclip-1.8.2.tar.gz (20 kB)\n",
            "Requirement already satisfied: wcwidth>=0.1.7 in /usr/local/lib/python3.7/dist-packages (from cmd2>=1.0.0->cliff->optuna>=1.4->pyannote.pipeline<3.0,>=2.2->pyannote.audio==0.0.1) (0.2.5)\n",
            "Requirement already satisfied: MarkupSafe>=0.9.2 in /usr/local/lib/python3.7/dist-packages (from Mako->alembic->optuna>=1.4->pyannote.pipeline<3.0,>=2.2->pyannote.audio==0.0.1) (2.0.1)\n",
            "Requirement already satisfied: pillow!=8.3.*,>=5.3.0 in /usr/local/lib/python3.7/dist-packages (from torchvision->pytorch_metric_learning<2.0,>=1.0.0->pyannote.audio==0.0.1) (7.1.2)\n",
            "Building wheels for collected packages: pyannote.audio, torch-audiomentations, julius, antlr4-python3-runtime, pyperclip\n",
            "  Building wheel for pyannote.audio (setup.py) ... \u001b[?25l\u001b[?25hdone\n",
            "  Created wheel for pyannote.audio: filename=pyannote.audio-0.0.1-py2.py3-none-any.whl size=374407 sha256=e78bbc9a4adb85a1c3d8ee103cdabbe63b4326ccbcfff2a45989258552167f87\n",
            "  Stored in directory: /tmp/pip-ephem-wheel-cache-66dour_6/wheels/f7/33/a2/cfaf7eb56ae80f4f79b53a406d5c23a868e6968cbef374b2fe\n",
            "  Building wheel for torch-audiomentations (PEP 517) ... \u001b[?25l\u001b[?25hdone\n",
            "  Created wheel for torch-audiomentations: filename=torch_audiomentations-0.10.1-py3-none-any.whl size=47169 sha256=3a899bcd643cba228b4e49b061091f4c7e9da6cd0a617339d8d0f75ea5b76b76\n",
            "  Stored in directory: /tmp/pip-ephem-wheel-cache-66dour_6/wheels/51/72/82/99d25bd404dbad4009e909d5e61fe6d2ac48f4c0a7db404796\n",
            "  Building wheel for julius (setup.py) ... \u001b[?25l\u001b[?25hdone\n",
            "  Created wheel for julius: filename=julius-0.2.6-py3-none-any.whl size=20965 sha256=658f8ce7d436ee79d269376300de0c5e22abb0bc75db3f1b98ef4ff04f3e69bd\n",
            "  Stored in directory: /root/.cache/pip/wheels/ad/6f/00/57039014814f8794b1f32aad93d1d387645d103afdda943caf\n",
            "  Building wheel for antlr4-python3-runtime (setup.py) ... \u001b[?25l\u001b[?25hdone\n",
            "  Created wheel for antlr4-python3-runtime: filename=antlr4_python3_runtime-4.9.3-py3-none-any.whl size=144575 sha256=e40d6ba0eaf9d39f8cd38b97ca19413ef14f737bde506c12743b31ce9339c955\n",
            "  Stored in directory: /root/.cache/pip/wheels/8b/8d/53/2af8772d9aec614e3fc65e53d4a993ad73c61daa8bbd85a873\n",
            "  Building wheel for pyperclip (setup.py) ... \u001b[?25l\u001b[?25hdone\n",
            "  Created wheel for pyperclip: filename=pyperclip-1.8.2-py3-none-any.whl size=11137 sha256=bbb7f8d4ebad8fcb4058baef83672cdd52fc9e68fa93816f859bd13b14f09aaf\n",
            "  Stored in directory: /root/.cache/pip/wheels/9f/18/84/8f69f8b08169c7bae2dde6bd7daf0c19fca8c8e500ee620a28\n",
            "Successfully built pyannote.audio torch-audiomentations julius antlr4-python3-runtime pyperclip\n",
            "Installing collected packages: pyperclip, pbr, multidict, frozenlist, yarl, typer, stevedore, simplejson, shellingham, PyYAML, Mako, colorama, cmd2, autopage, asynctest, async-timeout, aiosignal, pyannote.core, primePy, fsspec, colorlog, cmaes, cliff, alembic, aiohttp, torchmetrics, torch-pitch-shift, pyDeprecate, pyannote.database, optuna, julius, antlr4-python3-runtime, torch-audiomentations, spectralcluster, singledispatchmethod, pytorch-metric-learning, pytorch-lightning, pyannote.pipeline, pyannote.metrics, omegaconf, huggingface-hub, einops, backports.cached-property, asteroid-filterbanks, pyannote.audio\n",
            "  Attempting uninstall: PyYAML\n",
            "    Found existing installation: PyYAML 3.13\n",
            "    Uninstalling PyYAML-3.13:\n",
            "      Successfully uninstalled PyYAML-3.13\n",
            "Successfully installed Mako-1.2.0 PyYAML-6.0 aiohttp-3.8.1 aiosignal-1.2.0 alembic-1.8.0 antlr4-python3-runtime-4.9.3 asteroid-filterbanks-0.4.0 async-timeout-4.0.2 asynctest-0.13.0 autopage-0.5.1 backports.cached-property-1.0.1 cliff-3.10.1 cmaes-0.8.2 cmd2-2.4.1 colorama-0.4.4 colorlog-6.6.0 einops-0.3.2 frozenlist-1.3.0 fsspec-2022.5.0 huggingface-hub-0.7.0 julius-0.2.6 multidict-6.0.2 omegaconf-2.2.2 optuna-2.10.0 pbr-5.9.0 primePy-1.3 pyDeprecate-0.3.2 pyannote.audio-0.0.1 pyannote.core-4.4 pyannote.database-4.1.3 pyannote.metrics-3.2 pyannote.pipeline-2.2 pyperclip-1.8.2 pytorch-lightning-1.6.4 pytorch-metric-learning-1.3.2 shellingham-1.4.0 simplejson-3.17.6 singledispatchmethod-1.0 spectralcluster-0.2.5 stevedore-3.5.0 torch-audiomentations-0.10.1 torch-pitch-shift-1.2.2 torchmetrics-0.9.0 typer-0.4.1 yarl-1.7.2\n"
          ]
        },
        {
          "output_type": "display_data",
          "data": {
            "application/vnd.colab-display-data+json": {
              "pip_warning": {
                "packages": [
                  "pydevd_plugins"
                ]
              }
            }
          },
          "metadata": {}
        }
      ]
    },
    {
      "cell_type": "code",
      "source": [
        "!pip install git+https://github.com/pyannote/pyannote-core.git@develop;#egg=pyannote-audio\n"
      ],
      "metadata": {
        "colab": {
          "base_uri": "https://localhost:8080/"
        },
        "id": "YGWj5snMzWv5",
        "outputId": "a2b9d33c-454b-475f-f17a-9d7dec107ff5"
      },
      "execution_count": null,
      "outputs": [
        {
          "output_type": "stream",
          "name": "stdout",
          "text": [
            "Looking in indexes: https://pypi.org/simple, https://us-python.pkg.dev/colab-wheels/public/simple/\n",
            "Collecting git+https://github.com/pyannote/pyannote-core.git@develop\n",
            "  Cloning https://github.com/pyannote/pyannote-core.git (to revision develop) to /tmp/pip-req-build-jcijar08\n",
            "  Running command git clone -q https://github.com/pyannote/pyannote-core.git /tmp/pip-req-build-jcijar08\n",
            "Requirement already satisfied: sortedcontainers>=2.0.4 in /usr/local/lib/python3.7/dist-packages (from pyannote.core==4.4+3.ge2e605c) (2.4.0)\n",
            "Requirement already satisfied: numpy>=1.10.4 in /usr/local/lib/python3.7/dist-packages (from pyannote.core==4.4+3.ge2e605c) (1.21.6)\n",
            "Requirement already satisfied: scipy>=1.1 in /usr/local/lib/python3.7/dist-packages (from pyannote.core==4.4+3.ge2e605c) (1.4.1)\n",
            "Requirement already satisfied: simplejson>=3.8.1 in /usr/local/lib/python3.7/dist-packages (from pyannote.core==4.4+3.ge2e605c) (3.17.6)\n",
            "Requirement already satisfied: typing-extensions>=3.7.4.1 in /usr/local/lib/python3.7/dist-packages (from pyannote.core==4.4+3.ge2e605c) (4.2.0)\n",
            "Building wheels for collected packages: pyannote.core\n",
            "  Building wheel for pyannote.core (setup.py) ... \u001b[?25l\u001b[?25hdone\n",
            "  Created wheel for pyannote.core: filename=pyannote.core-4.4+3.ge2e605c-py3-none-any.whl size=60383 sha256=595acc25cc2f9c0b8c1edac52313fd004b9ed45245229f67170c6ccfa4060e8d\n",
            "  Stored in directory: /tmp/pip-ephem-wheel-cache-qtj_ltui/wheels/28/f0/39/d3fbda6992f434688d28ab58afaae441930dedfe1be3cf2b7b\n",
            "Successfully built pyannote.core\n",
            "Installing collected packages: pyannote.core\n",
            "  Attempting uninstall: pyannote.core\n",
            "    Found existing installation: pyannote.core 4.4\n",
            "    Uninstalling pyannote.core-4.4:\n",
            "      Successfully uninstalled pyannote.core-4.4\n",
            "Successfully installed pyannote.core-4.4+3.ge2e605c\n"
          ]
        }
      ]
    },
    {
      "cell_type": "code",
      "source": [
        "!git clone https://github.com/juanmc2005/StreamingSpeakerDiarization.git"
      ],
      "metadata": {
        "colab": {
          "base_uri": "https://localhost:8080/"
        },
        "id": "Uf6L5VkksfjX",
        "outputId": "ef93c38b-e29c-4d75-cba6-c1a97ad3ca61"
      },
      "execution_count": null,
      "outputs": [
        {
          "output_type": "stream",
          "name": "stdout",
          "text": [
            "fatal: destination path 'StreamingSpeakerDiarization' already exists and is not an empty directory.\n"
          ]
        }
      ]
    },
    {
      "cell_type": "code",
      "source": [
        "# !mv /content/StreamingSpeakerDiarization/src/diart speaker-diarization/diart"
      ],
      "metadata": {
        "id": "5ERIeGxEDy_E"
      },
      "execution_count": null,
      "outputs": []
    },
    {
      "cell_type": "code",
      "source": [
        "%cd  StreamingSpeakerDiarization/src"
      ],
      "metadata": {
        "colab": {
          "base_uri": "https://localhost:8080/"
        },
        "id": "SKmFWGAWsxDM",
        "outputId": "393b65d6-d0cf-458a-e055-46f074455b7e"
      },
      "execution_count": null,
      "outputs": [
        {
          "output_type": "stream",
          "name": "stdout",
          "text": [
            "/content/StreamingSpeakerDiarization/src\n"
          ]
        }
      ]
    },
    {
      "cell_type": "code",
      "source": [
        "!pip install rx"
      ],
      "metadata": {
        "id": "sk_5yvpCuYFA",
        "colab": {
          "base_uri": "https://localhost:8080/"
        },
        "outputId": "d8ca302e-f7c2-47bb-96fe-499ee06ea6a1"
      },
      "execution_count": null,
      "outputs": [
        {
          "output_type": "stream",
          "name": "stdout",
          "text": [
            "Looking in indexes: https://pypi.org/simple, https://us-python.pkg.dev/colab-wheels/public/simple/\n",
            "Requirement already satisfied: rx in /usr/local/lib/python3.7/dist-packages (3.2.0)\n"
          ]
        }
      ]
    },
    {
      "cell_type": "code",
      "source": [
        "!pip install sounddevice "
      ],
      "metadata": {
        "id": "xB2Zd5t5unB7",
        "colab": {
          "base_uri": "https://localhost:8080/"
        },
        "outputId": "0bd7d648-5773-4d28-d89e-13d4db06d3e9"
      },
      "execution_count": null,
      "outputs": [
        {
          "output_type": "stream",
          "name": "stdout",
          "text": [
            "Looking in indexes: https://pypi.org/simple, https://us-python.pkg.dev/colab-wheels/public/simple/\n",
            "Requirement already satisfied: sounddevice in /usr/local/lib/python3.7/dist-packages (0.4.4)\n",
            "Requirement already satisfied: CFFI>=1.0 in /usr/local/lib/python3.7/dist-packages (from sounddevice) (1.15.0)\n",
            "Requirement already satisfied: pycparser in /usr/local/lib/python3.7/dist-packages (from CFFI>=1.0->sounddevice) (2.21)\n"
          ]
        }
      ]
    },
    {
      "cell_type": "code",
      "source": [
        "!sudo apt-get install libportaudio2\n"
      ],
      "metadata": {
        "id": "cWVmLSggu-MN",
        "colab": {
          "base_uri": "https://localhost:8080/"
        },
        "outputId": "df7e4941-cfbb-418d-c409-ac2425b691ec"
      },
      "execution_count": null,
      "outputs": [
        {
          "output_type": "stream",
          "name": "stdout",
          "text": [
            "Reading package lists... Done\n",
            "Building dependency tree       \n",
            "Reading state information... Done\n",
            "libportaudio2 is already the newest version (19.6.0-1).\n",
            "The following package was automatically installed and is no longer required:\n",
            "  libnvidia-common-460\n",
            "Use 'sudo apt autoremove' to remove it.\n",
            "0 upgraded, 0 newly installed, 0 to remove and 45 not upgraded.\n"
          ]
        }
      ]
    },
    {
      "cell_type": "code",
      "source": [
        "from diart.pipelines import OnlineSpeakerDiarization, PipelineConfig\n",
        "import torch\n",
        "# pipeline = OnlineSpeakerDiarization(PipelineConfig(device=torch.device(\"cuda\")))\n"
      ],
      "metadata": {
        "id": "e-G7AJ2guMa-"
      },
      "execution_count": null,
      "outputs": []
    },
    {
      "cell_type": "code",
      "source": [
        "import diart.sources as src\n",
        "# audio_source = src.FileAudioSource(\n",
        "#                   file='/content/StreamingSpeakerDiarization/src/test/wav/L_R003S03C02.flac',\n",
        "#                   uri='L_R003S03C02',\n",
        "#                   reader=src.RegularAudioFileReader(\n",
        "#                       pipeline.sample_rate, pipeline.duration, pipeline.config.step\n",
        "#                   ),\n",
        "#                   )"
      ],
      "metadata": {
        "id": "aGniwORc0q7D"
      },
      "execution_count": null,
      "outputs": []
    },
    {
      "cell_type": "code",
      "source": [
        "from diart.inference import RealTimeInference\n",
        "# RealTimeInference('../../', do_plot=False)(pipeline, audio_source)\n"
      ],
      "metadata": {
        "id": "lHrth09718f7"
      },
      "execution_count": null,
      "outputs": []
    },
    {
      "cell_type": "code",
      "source": [
        "import os\n",
        "from pathlib import Path\n",
        "for file in os.listdir('./test/wav'):\n",
        "  file = Path(file)\n",
        "  file = Path('./test/wav') / file\n",
        "  audio_source = src.FileAudioSource(\n",
        "                  file=str(file),\n",
        "                  uri=file.stem,\n",
        "                  reader=src.RegularAudioFileReader(\n",
        "                      pipeline.sample_rate, pipeline.duration, pipeline.config.step\n",
        "                  ),\n",
        "                  )\n",
        "  RealTimeInference('/content/pred_rttm', do_plot=False)(pipeline, audio_source);\n"
      ],
      "metadata": {
        "colab": {
          "base_uri": "https://localhost:8080/",
          "height": 514
        },
        "id": "eXZ4H9MO_j4v",
        "outputId": "818e682b-6294-48bb-f8bf-67a8346385fa"
      },
      "execution_count": null,
      "outputs": [
        {
          "output_type": "stream",
          "name": "stderr",
          "text": [
            "Streaming L_R003S03C02: 100%|██████████| 4528/4528 [04:18<00:00, 17.54it/s]\n",
            "Streaming L_R004S02C01: 100%|██████████| 4445/4445 [04:12<00:00, 17.62it/s]\n",
            "Streaming M_R003S01C01: 100%|██████████| 4556/4556 [04:21<00:00, 17.43it/s]\n",
            "Streaming S_R004S03C01: 100%|██████████| 4646/4646 [04:24<00:00, 17.56it/s]\n",
            "Streaming L_R004S01C01: 100%|██████████| 4382/4382 [04:09<00:00, 17.55it/s]\n",
            "Streaming S_R004S02C01: 100%|██████████| 4630/4630 [04:23<00:00, 17.55it/s]\n",
            "Streaming S_R003S03C01: 100%|██████████| 4550/4550 [04:19<00:00, 17.52it/s]\n",
            "Streaming L_R004S03C01: 100%|██████████| 4447/4447 [04:12<00:00, 17.62it/s]\n",
            "Streaming L_R003S02C02:   0%|          | 0/4485 [00:00<?, ?it/s]"
          ]
        },
        {
          "output_type": "error",
          "ename": "RuntimeError",
          "evalue": "ignored",
          "traceback": [
            "\u001b[0;31m---------------------------------------------------------------------------\u001b[0m",
            "\u001b[0;31mRuntimeError\u001b[0m                              Traceback (most recent call last)",
            "\u001b[0;32m<ipython-input-13-0c594c82d4b6>\u001b[0m in \u001b[0;36m<module>\u001b[0;34m()\u001b[0m\n\u001b[1;32m     11\u001b[0m                   ),\n\u001b[1;32m     12\u001b[0m                   )\n\u001b[0;32m---> 13\u001b[0;31m   \u001b[0mRealTimeInference\u001b[0m\u001b[0;34m(\u001b[0m\u001b[0;34m'../../'\u001b[0m\u001b[0;34m,\u001b[0m \u001b[0mdo_plot\u001b[0m\u001b[0;34m=\u001b[0m\u001b[0;32mFalse\u001b[0m\u001b[0;34m)\u001b[0m\u001b[0;34m(\u001b[0m\u001b[0mpipeline\u001b[0m\u001b[0;34m,\u001b[0m \u001b[0maudio_source\u001b[0m\u001b[0;34m)\u001b[0m\u001b[0;34m\u001b[0m\u001b[0;34m\u001b[0m\u001b[0m\n\u001b[0m",
            "\u001b[0;32m/content/StreamingSpeakerDiarization/src/diart/inference.py\u001b[0m in \u001b[0;36m__call__\u001b[0;34m(self, pipeline, source)\u001b[0m\n\u001b[1;32m     67\u001b[0m             ).subscribe(RealTimePlot(pipeline.duration, pipeline.config.latency))\n\u001b[1;32m     68\u001b[0m         \u001b[0;31m# Stream audio through the pipeline\u001b[0m\u001b[0;34m\u001b[0m\u001b[0;34m\u001b[0m\u001b[0;34m\u001b[0m\u001b[0m\n\u001b[0;32m---> 69\u001b[0;31m         \u001b[0msource\u001b[0m\u001b[0;34m.\u001b[0m\u001b[0mread\u001b[0m\u001b[0;34m(\u001b[0m\u001b[0;34m)\u001b[0m\u001b[0;34m\u001b[0m\u001b[0;34m\u001b[0m\u001b[0m\n\u001b[0m\u001b[1;32m     70\u001b[0m \u001b[0;34m\u001b[0m\u001b[0m\n\u001b[1;32m     71\u001b[0m         \u001b[0;32mreturn\u001b[0m \u001b[0mload_rttm\u001b[0m\u001b[0;34m(\u001b[0m\u001b[0mrttm_path\u001b[0m\u001b[0;34m)\u001b[0m\u001b[0;34m[\u001b[0m\u001b[0msource\u001b[0m\u001b[0;34m.\u001b[0m\u001b[0muri\u001b[0m\u001b[0;34m]\u001b[0m\u001b[0;34m\u001b[0m\u001b[0;34m\u001b[0m\u001b[0m\n",
            "\u001b[0;32m/content/StreamingSpeakerDiarization/src/diart/sources.py\u001b[0m in \u001b[0;36mread\u001b[0;34m(self)\u001b[0m\n\u001b[1;32m    260\u001b[0m         \u001b[0;34m\"\"\"Send each chunk of samples through the stream\"\"\"\u001b[0m\u001b[0;34m\u001b[0m\u001b[0;34m\u001b[0m\u001b[0m\n\u001b[1;32m    261\u001b[0m         \u001b[0mtimes\u001b[0m \u001b[0;34m=\u001b[0m \u001b[0;34m[\u001b[0m\u001b[0;34m]\u001b[0m\u001b[0;34m\u001b[0m\u001b[0;34m\u001b[0m\u001b[0m\n\u001b[0;32m--> 262\u001b[0;31m         \u001b[0;32mfor\u001b[0m \u001b[0mwaveform\u001b[0m \u001b[0;32min\u001b[0m \u001b[0mself\u001b[0m\u001b[0;34m.\u001b[0m\u001b[0mreader\u001b[0m\u001b[0;34m.\u001b[0m\u001b[0miterate\u001b[0m\u001b[0;34m(\u001b[0m\u001b[0mself\u001b[0m\u001b[0;34m.\u001b[0m\u001b[0mfile\u001b[0m\u001b[0;34m)\u001b[0m\u001b[0;34m:\u001b[0m\u001b[0;34m\u001b[0m\u001b[0;34m\u001b[0m\u001b[0m\n\u001b[0m\u001b[1;32m    263\u001b[0m             \u001b[0;32mtry\u001b[0m\u001b[0;34m:\u001b[0m\u001b[0;34m\u001b[0m\u001b[0;34m\u001b[0m\u001b[0m\n\u001b[1;32m    264\u001b[0m                 \u001b[0;32mif\u001b[0m \u001b[0mself\u001b[0m\u001b[0;34m.\u001b[0m\u001b[0mprofile\u001b[0m\u001b[0;34m:\u001b[0m\u001b[0;34m\u001b[0m\u001b[0;34m\u001b[0m\u001b[0m\n",
            "\u001b[0;32m/content/StreamingSpeakerDiarization/src/diart/sources.py\u001b[0m in \u001b[0;36miterate\u001b[0;34m(self, file)\u001b[0m\n\u001b[1;32m    159\u001b[0m \u001b[0;34m\u001b[0m\u001b[0m\n\u001b[1;32m    160\u001b[0m     \u001b[0;32mdef\u001b[0m \u001b[0miterate\u001b[0m\u001b[0;34m(\u001b[0m\u001b[0mself\u001b[0m\u001b[0;34m,\u001b[0m \u001b[0mfile\u001b[0m\u001b[0;34m:\u001b[0m \u001b[0mAudioFile\u001b[0m\u001b[0;34m)\u001b[0m \u001b[0;34m->\u001b[0m \u001b[0mIterable\u001b[0m\u001b[0;34m[\u001b[0m\u001b[0mSlidingWindowFeature\u001b[0m\u001b[0;34m]\u001b[0m\u001b[0;34m:\u001b[0m\u001b[0;34m\u001b[0m\u001b[0;34m\u001b[0m\u001b[0m\n\u001b[0;32m--> 161\u001b[0;31m         \u001b[0mchunks\u001b[0m \u001b[0;34m=\u001b[0m \u001b[0mself\u001b[0m\u001b[0;34m.\u001b[0m\u001b[0mchunk_loader\u001b[0m\u001b[0;34m.\u001b[0m\u001b[0mget_chunks\u001b[0m\u001b[0;34m(\u001b[0m\u001b[0mfile\u001b[0m\u001b[0;34m)\u001b[0m\u001b[0;34m\u001b[0m\u001b[0;34m\u001b[0m\u001b[0m\n\u001b[0m\u001b[1;32m    162\u001b[0m         \u001b[0;32mfor\u001b[0m \u001b[0mi\u001b[0m\u001b[0;34m,\u001b[0m \u001b[0mchunk\u001b[0m \u001b[0;32min\u001b[0m \u001b[0menumerate\u001b[0m\u001b[0;34m(\u001b[0m\u001b[0mchunks\u001b[0m\u001b[0;34m)\u001b[0m\u001b[0;34m:\u001b[0m\u001b[0;34m\u001b[0m\u001b[0;34m\u001b[0m\u001b[0m\n\u001b[1;32m    163\u001b[0m             w = SlidingWindow(\n",
            "\u001b[0;32m/content/StreamingSpeakerDiarization/src/diart/sources.py\u001b[0m in \u001b[0;36mget_chunks\u001b[0;34m(self, file)\u001b[0m\n\u001b[1;32m     38\u001b[0m \u001b[0;34m\u001b[0m\u001b[0m\n\u001b[1;32m     39\u001b[0m     \u001b[0;32mdef\u001b[0m \u001b[0mget_chunks\u001b[0m\u001b[0;34m(\u001b[0m\u001b[0mself\u001b[0m\u001b[0;34m,\u001b[0m \u001b[0mfile\u001b[0m\u001b[0;34m:\u001b[0m \u001b[0mAudioFile\u001b[0m\u001b[0;34m)\u001b[0m \u001b[0;34m->\u001b[0m \u001b[0mnp\u001b[0m\u001b[0;34m.\u001b[0m\u001b[0mndarray\u001b[0m\u001b[0;34m:\u001b[0m\u001b[0;34m\u001b[0m\u001b[0;34m\u001b[0m\u001b[0m\n\u001b[0;32m---> 40\u001b[0;31m         \u001b[0mwaveform\u001b[0m\u001b[0;34m,\u001b[0m \u001b[0m_\u001b[0m \u001b[0;34m=\u001b[0m \u001b[0mself\u001b[0m\u001b[0;34m.\u001b[0m\u001b[0maudio\u001b[0m\u001b[0;34m(\u001b[0m\u001b[0mfile\u001b[0m\u001b[0;34m)\u001b[0m\u001b[0;34m\u001b[0m\u001b[0;34m\u001b[0m\u001b[0m\n\u001b[0m\u001b[1;32m     41\u001b[0m         \u001b[0m_\u001b[0m\u001b[0;34m,\u001b[0m \u001b[0mnum_samples\u001b[0m \u001b[0;34m=\u001b[0m \u001b[0mwaveform\u001b[0m\u001b[0;34m.\u001b[0m\u001b[0mshape\u001b[0m\u001b[0;34m\u001b[0m\u001b[0;34m\u001b[0m\u001b[0m\n\u001b[1;32m     42\u001b[0m         chunks = rearrange(\n",
            "\u001b[0;32m/usr/local/lib/python3.7/dist-packages/pyannote/audio/core/io.py\u001b[0m in \u001b[0;36m__call__\u001b[0;34m(self, file)\u001b[0m\n\u001b[1;32m    276\u001b[0m \u001b[0;34m\u001b[0m\u001b[0m\n\u001b[1;32m    277\u001b[0m         \u001b[0;32melif\u001b[0m \u001b[0;34m\"audio\"\u001b[0m \u001b[0;32min\u001b[0m \u001b[0mfile\u001b[0m\u001b[0;34m:\u001b[0m\u001b[0;34m\u001b[0m\u001b[0;34m\u001b[0m\u001b[0m\n\u001b[0;32m--> 278\u001b[0;31m             \u001b[0mwaveform\u001b[0m\u001b[0;34m,\u001b[0m \u001b[0msample_rate\u001b[0m \u001b[0;34m=\u001b[0m \u001b[0mtorchaudio\u001b[0m\u001b[0;34m.\u001b[0m\u001b[0mload\u001b[0m\u001b[0;34m(\u001b[0m\u001b[0mfile\u001b[0m\u001b[0;34m[\u001b[0m\u001b[0;34m\"audio\"\u001b[0m\u001b[0;34m]\u001b[0m\u001b[0;34m)\u001b[0m\u001b[0;34m\u001b[0m\u001b[0;34m\u001b[0m\u001b[0m\n\u001b[0m\u001b[1;32m    279\u001b[0m \u001b[0;34m\u001b[0m\u001b[0m\n\u001b[1;32m    280\u001b[0m         \u001b[0mchannel\u001b[0m \u001b[0;34m=\u001b[0m \u001b[0mfile\u001b[0m\u001b[0;34m.\u001b[0m\u001b[0mget\u001b[0m\u001b[0;34m(\u001b[0m\u001b[0;34m\"channel\"\u001b[0m\u001b[0;34m,\u001b[0m \u001b[0;32mNone\u001b[0m\u001b[0;34m)\u001b[0m\u001b[0;34m\u001b[0m\u001b[0;34m\u001b[0m\u001b[0m\n",
            "\u001b[0;32m/usr/local/lib/python3.7/dist-packages/torchaudio/backend/soundfile_backend.py\u001b[0m in \u001b[0;36mload\u001b[0;34m(filepath, frame_offset, num_frames, normalize, channels_first, format)\u001b[0m\n\u001b[1;32m    204\u001b[0m \u001b[0;34m\u001b[0m\u001b[0m\n\u001b[1;32m    205\u001b[0m         \u001b[0mframes\u001b[0m \u001b[0;34m=\u001b[0m \u001b[0mfile_\u001b[0m\u001b[0;34m.\u001b[0m\u001b[0m_prepare_read\u001b[0m\u001b[0;34m(\u001b[0m\u001b[0mframe_offset\u001b[0m\u001b[0;34m,\u001b[0m \u001b[0;32mNone\u001b[0m\u001b[0;34m,\u001b[0m \u001b[0mnum_frames\u001b[0m\u001b[0;34m)\u001b[0m\u001b[0;34m\u001b[0m\u001b[0;34m\u001b[0m\u001b[0m\n\u001b[0;32m--> 206\u001b[0;31m         \u001b[0mwaveform\u001b[0m \u001b[0;34m=\u001b[0m \u001b[0mfile_\u001b[0m\u001b[0;34m.\u001b[0m\u001b[0mread\u001b[0m\u001b[0;34m(\u001b[0m\u001b[0mframes\u001b[0m\u001b[0;34m,\u001b[0m \u001b[0mdtype\u001b[0m\u001b[0;34m,\u001b[0m \u001b[0malways_2d\u001b[0m\u001b[0;34m=\u001b[0m\u001b[0;32mTrue\u001b[0m\u001b[0;34m)\u001b[0m\u001b[0;34m\u001b[0m\u001b[0;34m\u001b[0m\u001b[0m\n\u001b[0m\u001b[1;32m    207\u001b[0m         \u001b[0msample_rate\u001b[0m \u001b[0;34m=\u001b[0m \u001b[0mfile_\u001b[0m\u001b[0;34m.\u001b[0m\u001b[0msamplerate\u001b[0m\u001b[0;34m\u001b[0m\u001b[0;34m\u001b[0m\u001b[0m\n\u001b[1;32m    208\u001b[0m \u001b[0;34m\u001b[0m\u001b[0m\n",
            "\u001b[0;32m/usr/local/lib/python3.7/dist-packages/soundfile.py\u001b[0m in \u001b[0;36mread\u001b[0;34m(self, frames, dtype, always_2d, fill_value, out)\u001b[0m\n\u001b[1;32m    865\u001b[0m             \u001b[0;32mif\u001b[0m \u001b[0mframes\u001b[0m \u001b[0;34m<\u001b[0m \u001b[0;36m0\u001b[0m \u001b[0;32mor\u001b[0m \u001b[0mframes\u001b[0m \u001b[0;34m>\u001b[0m \u001b[0mlen\u001b[0m\u001b[0;34m(\u001b[0m\u001b[0mout\u001b[0m\u001b[0;34m)\u001b[0m\u001b[0;34m:\u001b[0m\u001b[0;34m\u001b[0m\u001b[0;34m\u001b[0m\u001b[0m\n\u001b[1;32m    866\u001b[0m                 \u001b[0mframes\u001b[0m \u001b[0;34m=\u001b[0m \u001b[0mlen\u001b[0m\u001b[0;34m(\u001b[0m\u001b[0mout\u001b[0m\u001b[0;34m)\u001b[0m\u001b[0;34m\u001b[0m\u001b[0;34m\u001b[0m\u001b[0m\n\u001b[0;32m--> 867\u001b[0;31m         \u001b[0mframes\u001b[0m \u001b[0;34m=\u001b[0m \u001b[0mself\u001b[0m\u001b[0;34m.\u001b[0m\u001b[0m_array_io\u001b[0m\u001b[0;34m(\u001b[0m\u001b[0;34m'read'\u001b[0m\u001b[0;34m,\u001b[0m \u001b[0mout\u001b[0m\u001b[0;34m,\u001b[0m \u001b[0mframes\u001b[0m\u001b[0;34m)\u001b[0m\u001b[0;34m\u001b[0m\u001b[0;34m\u001b[0m\u001b[0m\n\u001b[0m\u001b[1;32m    868\u001b[0m         \u001b[0;32mif\u001b[0m \u001b[0mlen\u001b[0m\u001b[0;34m(\u001b[0m\u001b[0mout\u001b[0m\u001b[0;34m)\u001b[0m \u001b[0;34m>\u001b[0m \u001b[0mframes\u001b[0m\u001b[0;34m:\u001b[0m\u001b[0;34m\u001b[0m\u001b[0;34m\u001b[0m\u001b[0m\n\u001b[1;32m    869\u001b[0m             \u001b[0;32mif\u001b[0m \u001b[0mfill_value\u001b[0m \u001b[0;32mis\u001b[0m \u001b[0;32mNone\u001b[0m\u001b[0;34m:\u001b[0m\u001b[0;34m\u001b[0m\u001b[0;34m\u001b[0m\u001b[0m\n",
            "\u001b[0;32m/usr/local/lib/python3.7/dist-packages/soundfile.py\u001b[0m in \u001b[0;36m_array_io\u001b[0;34m(self, action, array, frames)\u001b[0m\n\u001b[1;32m   1310\u001b[0m         \u001b[0;32massert\u001b[0m \u001b[0marray\u001b[0m\u001b[0;34m.\u001b[0m\u001b[0mdtype\u001b[0m\u001b[0;34m.\u001b[0m\u001b[0mitemsize\u001b[0m \u001b[0;34m==\u001b[0m \u001b[0m_ffi\u001b[0m\u001b[0;34m.\u001b[0m\u001b[0msizeof\u001b[0m\u001b[0;34m(\u001b[0m\u001b[0mctype\u001b[0m\u001b[0;34m)\u001b[0m\u001b[0;34m\u001b[0m\u001b[0;34m\u001b[0m\u001b[0m\n\u001b[1;32m   1311\u001b[0m         \u001b[0mcdata\u001b[0m \u001b[0;34m=\u001b[0m \u001b[0m_ffi\u001b[0m\u001b[0;34m.\u001b[0m\u001b[0mcast\u001b[0m\u001b[0;34m(\u001b[0m\u001b[0mctype\u001b[0m \u001b[0;34m+\u001b[0m \u001b[0;34m'*'\u001b[0m\u001b[0;34m,\u001b[0m \u001b[0marray\u001b[0m\u001b[0;34m.\u001b[0m\u001b[0m__array_interface__\u001b[0m\u001b[0;34m[\u001b[0m\u001b[0;34m'data'\u001b[0m\u001b[0;34m]\u001b[0m\u001b[0;34m[\u001b[0m\u001b[0;36m0\u001b[0m\u001b[0;34m]\u001b[0m\u001b[0;34m)\u001b[0m\u001b[0;34m\u001b[0m\u001b[0;34m\u001b[0m\u001b[0m\n\u001b[0;32m-> 1312\u001b[0;31m         \u001b[0;32mreturn\u001b[0m \u001b[0mself\u001b[0m\u001b[0;34m.\u001b[0m\u001b[0m_cdata_io\u001b[0m\u001b[0;34m(\u001b[0m\u001b[0maction\u001b[0m\u001b[0;34m,\u001b[0m \u001b[0mcdata\u001b[0m\u001b[0;34m,\u001b[0m \u001b[0mctype\u001b[0m\u001b[0;34m,\u001b[0m \u001b[0mframes\u001b[0m\u001b[0;34m)\u001b[0m\u001b[0;34m\u001b[0m\u001b[0;34m\u001b[0m\u001b[0m\n\u001b[0m\u001b[1;32m   1313\u001b[0m \u001b[0;34m\u001b[0m\u001b[0m\n\u001b[1;32m   1314\u001b[0m     \u001b[0;32mdef\u001b[0m \u001b[0m_cdata_io\u001b[0m\u001b[0;34m(\u001b[0m\u001b[0mself\u001b[0m\u001b[0;34m,\u001b[0m \u001b[0maction\u001b[0m\u001b[0;34m,\u001b[0m \u001b[0mdata\u001b[0m\u001b[0;34m,\u001b[0m \u001b[0mctype\u001b[0m\u001b[0;34m,\u001b[0m \u001b[0mframes\u001b[0m\u001b[0;34m)\u001b[0m\u001b[0;34m:\u001b[0m\u001b[0;34m\u001b[0m\u001b[0;34m\u001b[0m\u001b[0m\n",
            "\u001b[0;32m/usr/local/lib/python3.7/dist-packages/soundfile.py\u001b[0m in \u001b[0;36m_cdata_io\u001b[0;34m(self, action, data, ctype, frames)\u001b[0m\n\u001b[1;32m   1322\u001b[0m         \u001b[0m_error_check\u001b[0m\u001b[0;34m(\u001b[0m\u001b[0mself\u001b[0m\u001b[0;34m.\u001b[0m\u001b[0m_errorcode\u001b[0m\u001b[0;34m)\u001b[0m\u001b[0;34m\u001b[0m\u001b[0;34m\u001b[0m\u001b[0m\n\u001b[1;32m   1323\u001b[0m         \u001b[0;32mif\u001b[0m \u001b[0mself\u001b[0m\u001b[0;34m.\u001b[0m\u001b[0mseekable\u001b[0m\u001b[0;34m(\u001b[0m\u001b[0;34m)\u001b[0m\u001b[0;34m:\u001b[0m\u001b[0;34m\u001b[0m\u001b[0;34m\u001b[0m\u001b[0m\n\u001b[0;32m-> 1324\u001b[0;31m             \u001b[0mself\u001b[0m\u001b[0;34m.\u001b[0m\u001b[0mseek\u001b[0m\u001b[0;34m(\u001b[0m\u001b[0mcurr\u001b[0m \u001b[0;34m+\u001b[0m \u001b[0mframes\u001b[0m\u001b[0;34m,\u001b[0m \u001b[0mSEEK_SET\u001b[0m\u001b[0;34m)\u001b[0m  \u001b[0;31m# Update read & write position\u001b[0m\u001b[0;34m\u001b[0m\u001b[0;34m\u001b[0m\u001b[0m\n\u001b[0m\u001b[1;32m   1325\u001b[0m         \u001b[0;32mreturn\u001b[0m \u001b[0mframes\u001b[0m\u001b[0;34m\u001b[0m\u001b[0;34m\u001b[0m\u001b[0m\n\u001b[1;32m   1326\u001b[0m \u001b[0;34m\u001b[0m\u001b[0m\n",
            "\u001b[0;32m/usr/local/lib/python3.7/dist-packages/soundfile.py\u001b[0m in \u001b[0;36mseek\u001b[0;34m(self, frames, whence)\u001b[0m\n\u001b[1;32m    771\u001b[0m         \u001b[0mself\u001b[0m\u001b[0;34m.\u001b[0m\u001b[0m_check_if_closed\u001b[0m\u001b[0;34m(\u001b[0m\u001b[0;34m)\u001b[0m\u001b[0;34m\u001b[0m\u001b[0;34m\u001b[0m\u001b[0m\n\u001b[1;32m    772\u001b[0m         \u001b[0mposition\u001b[0m \u001b[0;34m=\u001b[0m \u001b[0m_snd\u001b[0m\u001b[0;34m.\u001b[0m\u001b[0msf_seek\u001b[0m\u001b[0;34m(\u001b[0m\u001b[0mself\u001b[0m\u001b[0;34m.\u001b[0m\u001b[0m_file\u001b[0m\u001b[0;34m,\u001b[0m \u001b[0mframes\u001b[0m\u001b[0;34m,\u001b[0m \u001b[0mwhence\u001b[0m\u001b[0;34m)\u001b[0m\u001b[0;34m\u001b[0m\u001b[0;34m\u001b[0m\u001b[0m\n\u001b[0;32m--> 773\u001b[0;31m         \u001b[0m_error_check\u001b[0m\u001b[0;34m(\u001b[0m\u001b[0mself\u001b[0m\u001b[0;34m.\u001b[0m\u001b[0m_errorcode\u001b[0m\u001b[0;34m)\u001b[0m\u001b[0;34m\u001b[0m\u001b[0;34m\u001b[0m\u001b[0m\n\u001b[0m\u001b[1;32m    774\u001b[0m         \u001b[0;32mreturn\u001b[0m \u001b[0mposition\u001b[0m\u001b[0;34m\u001b[0m\u001b[0;34m\u001b[0m\u001b[0m\n\u001b[1;32m    775\u001b[0m \u001b[0;34m\u001b[0m\u001b[0m\n",
            "\u001b[0;32m/usr/local/lib/python3.7/dist-packages/soundfile.py\u001b[0m in \u001b[0;36m_error_check\u001b[0;34m(err, prefix)\u001b[0m\n\u001b[1;32m   1355\u001b[0m     \u001b[0;32mif\u001b[0m \u001b[0merr\u001b[0m \u001b[0;34m!=\u001b[0m \u001b[0;36m0\u001b[0m\u001b[0;34m:\u001b[0m\u001b[0;34m\u001b[0m\u001b[0;34m\u001b[0m\u001b[0m\n\u001b[1;32m   1356\u001b[0m         \u001b[0merr_str\u001b[0m \u001b[0;34m=\u001b[0m \u001b[0m_snd\u001b[0m\u001b[0;34m.\u001b[0m\u001b[0msf_error_number\u001b[0m\u001b[0;34m(\u001b[0m\u001b[0merr\u001b[0m\u001b[0;34m)\u001b[0m\u001b[0;34m\u001b[0m\u001b[0;34m\u001b[0m\u001b[0m\n\u001b[0;32m-> 1357\u001b[0;31m         \u001b[0;32mraise\u001b[0m \u001b[0mRuntimeError\u001b[0m\u001b[0;34m(\u001b[0m\u001b[0mprefix\u001b[0m \u001b[0;34m+\u001b[0m \u001b[0m_ffi\u001b[0m\u001b[0;34m.\u001b[0m\u001b[0mstring\u001b[0m\u001b[0;34m(\u001b[0m\u001b[0merr_str\u001b[0m\u001b[0;34m)\u001b[0m\u001b[0;34m.\u001b[0m\u001b[0mdecode\u001b[0m\u001b[0;34m(\u001b[0m\u001b[0;34m'utf-8'\u001b[0m\u001b[0;34m,\u001b[0m \u001b[0;34m'replace'\u001b[0m\u001b[0;34m)\u001b[0m\u001b[0;34m)\u001b[0m\u001b[0;34m\u001b[0m\u001b[0;34m\u001b[0m\u001b[0m\n\u001b[0m\u001b[1;32m   1358\u001b[0m \u001b[0;34m\u001b[0m\u001b[0m\n\u001b[1;32m   1359\u001b[0m \u001b[0;34m\u001b[0m\u001b[0m\n",
            "\u001b[0;31mRuntimeError\u001b[0m: Internal psf_fseek() failed."
          ]
        }
      ]
    },
    {
      "cell_type": "code",
      "source": [
        "# load_rttm('/content/L_R003S01C02.rttm')['L_R003S01C02']\n",
        "!rm -r /content/pred_rttm/.ipynb_checkpoints"
      ],
      "metadata": {
        "id": "f6VSQO9hBOiO"
      },
      "execution_count": null,
      "outputs": []
    },
    {
      "cell_type": "code",
      "source": [
        "from pyannote.metrics.diarization import DiarizationErrorRate, JaccardErrorRate\n",
        "from pyannote.database.util import load_rttm\n",
        "import glob2\n",
        "\n",
        "uri2ann_ref = {}\n",
        "data_root = '/content/StreamingSpeakerDiarization/src'\n",
        "audio_dir = f\"{data_root}/test/wav\"\n",
        "rttm_dir = '/content/StreamingSpeakerDiarization/src/test/TextGrid'\n",
        "\n",
        "wav_list = glob2.glob(f\"{audio_dir}/*.flac\")\n",
        "uri2path = {os.path.splitext(os.path.basename(wav))[0]: wav for wav in wav_list}\n",
        "for uri in uri2path:\n",
        "  uri2ann_ref.update(load_rttm(f\"{rttm_dir}/{uri}.rttm\"))\n",
        "\n",
        "\n",
        "uri2ann_hyp = {}\n",
        "for file in os.listdir('/content/pred_rttm'):\n",
        "  file = Path(file)\n",
        "  file = Path('/content/pred_rttm') / file\n",
        "  # uri = file.stem\n",
        "  file = str(file)\n",
        "  # print(file)\n",
        "  # print(uri)\n",
        "  uri2ann_hyp.update(load_rttm(file))\n",
        "\n",
        "collar = 0\n",
        "skip_overlap = False\n",
        "# Diarization Error Rate (DER)\n",
        "# NOTE: FA and Miss will be zero if skip_overlap=True and the Oracle VAD is used, that is, DER = Confusion\n",
        "der_metric = DiarizationErrorRate(collar=collar, skip_overlap=skip_overlap)\n",
        "for uri, ann_hyp in uri2ann_hyp.items():\n",
        "    ann_ref = uri2ann_ref[uri]\n",
        "    der_metric(ann_ref, ann_hyp)\n",
        "    # der.append(der_metric(ann_ref, ann_hyp))\n",
        "\n",
        "report = der_metric.report(display=False)\n",
        "DER = report[\"diarization error rate\"][\"%\"][\"TOTAL\"]\n",
        "print(f\"DER: {DER}%\")\n",
        "\n",
        "# Jaccard Error Rate (JER)\n",
        "jer_metric = JaccardErrorRate(collar=collar, skip_overlap=skip_overlap)\n",
        "for uri, ann_hyp in uri2ann_hyp.items():\n",
        "    ann_ref = uri2ann_ref[uri]\n",
        "    jer_metric(ann_ref, ann_hyp)\n",
        "    # jer.append(jer_metric(ann_ref, ann_hyp))\n",
        "\n",
        "report = jer_metric.report(display=False)\n",
        "JER = report[\"jaccard error rate\"][\"%\"][\"TOTAL\"]\n",
        "print(f\"JER: {JER}%\")"
      ],
      "metadata": {
        "colab": {
          "base_uri": "https://localhost:8080/"
        },
        "id": "TktivJYwT3hd",
        "outputId": "348afee1-bde3-4c97-dea6-73ba5ba9bbdc"
      },
      "execution_count": null,
      "outputs": [
        {
          "output_type": "stream",
          "name": "stdout",
          "text": [
            "DER: 54.201520901743535%\n",
            "JER: 74.24722472979325%\n"
          ]
        }
      ]
    },
    {
      "cell_type": "code",
      "source": [
        "der_metric.report(display=True)"
      ],
      "metadata": {
        "colab": {
          "base_uri": "https://localhost:8080/",
          "height": 1000
        },
        "id": "r9JiuPFvuBJD",
        "outputId": "4faf12b0-53c0-4d5e-dcff-977b03a1294a"
      },
      "execution_count": null,
      "outputs": [
        {
          "output_type": "stream",
          "name": "stdout",
          "text": [
            "             diarization error rate    total  correct correct false alarm false alarm missed detection missed detection confusion confusion\n",
            "                                  %                         %                       %                                 %                   %\n",
            "item                                                                                                                                       \n",
            "S_R003S01C01                  36.72  2127.86  1377.15   64.72       30.57        1.44           473.51            22.25    277.20     13.03\n",
            "S_R003S03C01                  52.10  2071.12  1009.52   48.74       17.45        0.84           548.60            26.49    513.00     24.77\n",
            "L_R004S03C01                  59.44  2314.18  1005.58   43.45       66.95        2.89           405.42            17.52    903.18     39.03\n",
            "S_R004S03C01                  60.62  2074.39   825.21   39.78        8.26        0.40           417.55            20.13    831.63     40.09\n",
            "M_R003S01C01                  50.37  2191.47  1112.21   50.75       24.49        1.12           660.92            30.16    418.34     19.09\n",
            "L_R003S04C02                  50.35  2011.85  1056.02   52.49       57.17        2.84           618.44            30.74    337.39     16.77\n",
            "L_R004S02C01                  52.13  2204.89  1119.62   50.78       64.05        2.91           365.09            16.56    720.19     32.66\n",
            "L_R004S06C01                  63.04  2029.95   768.33   37.85       18.11        0.89           537.54            26.48    724.08     35.67\n",
            "M_R003S04C01                  57.86  2015.63   920.31   45.66       70.87        3.52           526.80            26.14    568.52     28.21\n",
            "L_R003S03C02                  64.90  2376.45   874.37   36.79       40.16        1.69           717.42            30.19    784.66     33.02\n",
            "L_R004S01C01                  42.82  2041.84  1215.28   59.52       47.85        2.34           398.42            19.51    428.14     20.97\n",
            "S_R004S04C01                  59.47  2078.85   861.77   41.45       19.18        0.92           396.85            19.09    820.22     39.46\n",
            "L_R003S01C02                  52.21  2311.97  1175.19   50.83       70.32        3.04           631.14            27.30    505.64     21.87\n",
            "S_R004S01C01                  45.43  2117.91  1167.77   55.14       12.10        0.57           576.39            27.22    373.74     17.65\n",
            "M_R003S05C01                  63.87  2249.68   899.82   40.00       87.09        3.87           659.81            29.33    690.05     30.67\n",
            "S_R004S02C01                  54.11  2095.08   978.68   46.71       17.31        0.83           421.29            20.11    695.11     33.18\n",
            "TOTAL                         54.20 34313.13 16366.82   47.70      651.93        1.90          8355.20            24.35   9591.11     27.95\n"
          ]
        },
        {
          "output_type": "execute_result",
          "data": {
            "text/plain": [
              "             diarization error rate       total     correct             \\\n",
              "                                  %                                  %   \n",
              "item                                                                     \n",
              "S_R003S01C01              36.716644   2127.8617   1377.1508  64.719939   \n",
              "S_R003S03C01              52.099913   2071.1238   1009.5186  48.742552   \n",
              "L_R004S03C01              59.440073   2314.1765   1005.5813  43.453094   \n",
              "S_R004S03C01              60.617493   2074.3898    825.2084  39.780778   \n",
              "M_R003S01C01              50.365531   2191.4684   1112.2095  50.751793   \n",
              "L_R003S04C02              50.351989   2011.8506   1056.0155  52.489757   \n",
              "L_R004S02C01              52.126399   2204.8941   1119.6161  50.778679   \n",
              "L_R004S06C01              63.042346   2029.9473    768.3293  37.849717   \n",
              "M_R003S04C01              57.857213   2015.6332    920.3107  45.658640   \n",
              "L_R003S03C02              64.896915   2376.4518    874.3711  36.793134   \n",
              "L_R004S01C01              42.824826   2041.8432   1215.2780  59.518674   \n",
              "S_R004S04C01              59.468311   2078.8480    861.7733  41.454368   \n",
              "L_R003S01C02              52.210974   2311.9680   1175.1888  50.830669   \n",
              "S_R004S01C01              45.433303   2117.9081   1167.7713  55.137959   \n",
              "M_R003S05C01              63.873510   2249.6841    899.8219  39.997700   \n",
              "S_R004S02C01              54.112963   2095.0819    978.6799  46.713205   \n",
              "TOTAL                     54.201521  34313.1305  16366.8245  47.698430   \n",
              "\n",
              "             false alarm           missed detection             confusion  \\\n",
              "                                 %                           %              \n",
              "item                                                                        \n",
              "S_R003S01C01     30.5685  1.436583         473.5122  22.252959   277.1987   \n",
              "S_R003S03C01     17.4485  0.842465         548.6023  26.488146   513.0029   \n",
              "L_R004S03C01     66.9530  2.893167         405.4155  17.518780   903.1797   \n",
              "S_R004S03C01      8.2617  0.398271         417.5485  20.128739   831.6329   \n",
              "M_R003S01C01     24.4858  1.117324         660.9212  30.158829   418.3377   \n",
              "L_R003S04C02     57.1717  2.841747         618.4403  30.739872   337.3948   \n",
              "L_R004S02C01     64.0539  2.905078         365.0910  16.558210   720.1870   \n",
              "L_R004S06C01     18.1084  0.892063         537.5367  26.480328   724.0813   \n",
              "M_R003S04C01     70.8667  3.515853         526.7999  26.135703   568.5226   \n",
              "L_R003S03C02     40.1632  1.690049         717.4160  30.188536   784.6647   \n",
              "L_R004S01C01     47.8506  2.343500         398.4228  19.512899   428.1424   \n",
              "S_R004S04C01     19.1811  0.922679         396.8531  19.090049   820.2216   \n",
              "L_R003S01C02     70.3218  3.041642         631.1408  27.298855   505.6384   \n",
              "S_R004S01C01     12.0988  0.571262         576.3939  27.215246   373.7429   \n",
              "M_R003S05C01     87.0900  3.871210         659.8121  29.329100   690.0501   \n",
              "S_R004S02C01     17.3089  0.826168         421.2888  20.108464   695.1132   \n",
              "TOTAL           651.9326  1.899951        8355.1951  24.349848  9591.1109   \n",
              "\n",
              "                         \n",
              "                      %  \n",
              "item                     \n",
              "S_R003S01C01  13.027101  \n",
              "S_R003S03C01  24.769302  \n",
              "L_R004S03C01  39.028125  \n",
              "S_R004S03C01  40.090483  \n",
              "M_R003S01C01  19.089379  \n",
              "L_R003S04C02  16.770371  \n",
              "L_R004S02C01  32.663111  \n",
              "L_R004S06C01  35.669956  \n",
              "M_R003S04C01  28.205658  \n",
              "L_R003S03C02  33.018330  \n",
              "L_R004S01C01  20.968427  \n",
              "S_R004S04C01  39.455583  \n",
              "L_R003S01C02  21.870476  \n",
              "S_R004S01C01  17.646795  \n",
              "M_R003S05C01  30.673200  \n",
              "S_R004S02C01  33.178331  \n",
              "TOTAL         27.951722  "
            ],
            "text/html": [
              "\n",
              "  <div id=\"df-3b600ea1-2fef-4306-835b-8f7a54e0ff69\">\n",
              "    <div class=\"colab-df-container\">\n",
              "      <div>\n",
              "<style scoped>\n",
              "    .dataframe tbody tr th:only-of-type {\n",
              "        vertical-align: middle;\n",
              "    }\n",
              "\n",
              "    .dataframe tbody tr th {\n",
              "        vertical-align: top;\n",
              "    }\n",
              "\n",
              "    .dataframe thead tr th {\n",
              "        text-align: left;\n",
              "    }\n",
              "\n",
              "    .dataframe thead tr:last-of-type th {\n",
              "        text-align: right;\n",
              "    }\n",
              "</style>\n",
              "<table border=\"1\" class=\"dataframe\">\n",
              "  <thead>\n",
              "    <tr>\n",
              "      <th></th>\n",
              "      <th>diarization error rate</th>\n",
              "      <th>total</th>\n",
              "      <th colspan=\"2\" halign=\"left\">correct</th>\n",
              "      <th colspan=\"2\" halign=\"left\">false alarm</th>\n",
              "      <th colspan=\"2\" halign=\"left\">missed detection</th>\n",
              "      <th colspan=\"2\" halign=\"left\">confusion</th>\n",
              "    </tr>\n",
              "    <tr>\n",
              "      <th></th>\n",
              "      <th>%</th>\n",
              "      <th></th>\n",
              "      <th></th>\n",
              "      <th>%</th>\n",
              "      <th></th>\n",
              "      <th>%</th>\n",
              "      <th></th>\n",
              "      <th>%</th>\n",
              "      <th></th>\n",
              "      <th>%</th>\n",
              "    </tr>\n",
              "    <tr>\n",
              "      <th>item</th>\n",
              "      <th></th>\n",
              "      <th></th>\n",
              "      <th></th>\n",
              "      <th></th>\n",
              "      <th></th>\n",
              "      <th></th>\n",
              "      <th></th>\n",
              "      <th></th>\n",
              "      <th></th>\n",
              "      <th></th>\n",
              "    </tr>\n",
              "  </thead>\n",
              "  <tbody>\n",
              "    <tr>\n",
              "      <th>S_R003S01C01</th>\n",
              "      <td>36.716644</td>\n",
              "      <td>2127.8617</td>\n",
              "      <td>1377.1508</td>\n",
              "      <td>64.719939</td>\n",
              "      <td>30.5685</td>\n",
              "      <td>1.436583</td>\n",
              "      <td>473.5122</td>\n",
              "      <td>22.252959</td>\n",
              "      <td>277.1987</td>\n",
              "      <td>13.027101</td>\n",
              "    </tr>\n",
              "    <tr>\n",
              "      <th>S_R003S03C01</th>\n",
              "      <td>52.099913</td>\n",
              "      <td>2071.1238</td>\n",
              "      <td>1009.5186</td>\n",
              "      <td>48.742552</td>\n",
              "      <td>17.4485</td>\n",
              "      <td>0.842465</td>\n",
              "      <td>548.6023</td>\n",
              "      <td>26.488146</td>\n",
              "      <td>513.0029</td>\n",
              "      <td>24.769302</td>\n",
              "    </tr>\n",
              "    <tr>\n",
              "      <th>L_R004S03C01</th>\n",
              "      <td>59.440073</td>\n",
              "      <td>2314.1765</td>\n",
              "      <td>1005.5813</td>\n",
              "      <td>43.453094</td>\n",
              "      <td>66.9530</td>\n",
              "      <td>2.893167</td>\n",
              "      <td>405.4155</td>\n",
              "      <td>17.518780</td>\n",
              "      <td>903.1797</td>\n",
              "      <td>39.028125</td>\n",
              "    </tr>\n",
              "    <tr>\n",
              "      <th>S_R004S03C01</th>\n",
              "      <td>60.617493</td>\n",
              "      <td>2074.3898</td>\n",
              "      <td>825.2084</td>\n",
              "      <td>39.780778</td>\n",
              "      <td>8.2617</td>\n",
              "      <td>0.398271</td>\n",
              "      <td>417.5485</td>\n",
              "      <td>20.128739</td>\n",
              "      <td>831.6329</td>\n",
              "      <td>40.090483</td>\n",
              "    </tr>\n",
              "    <tr>\n",
              "      <th>M_R003S01C01</th>\n",
              "      <td>50.365531</td>\n",
              "      <td>2191.4684</td>\n",
              "      <td>1112.2095</td>\n",
              "      <td>50.751793</td>\n",
              "      <td>24.4858</td>\n",
              "      <td>1.117324</td>\n",
              "      <td>660.9212</td>\n",
              "      <td>30.158829</td>\n",
              "      <td>418.3377</td>\n",
              "      <td>19.089379</td>\n",
              "    </tr>\n",
              "    <tr>\n",
              "      <th>L_R003S04C02</th>\n",
              "      <td>50.351989</td>\n",
              "      <td>2011.8506</td>\n",
              "      <td>1056.0155</td>\n",
              "      <td>52.489757</td>\n",
              "      <td>57.1717</td>\n",
              "      <td>2.841747</td>\n",
              "      <td>618.4403</td>\n",
              "      <td>30.739872</td>\n",
              "      <td>337.3948</td>\n",
              "      <td>16.770371</td>\n",
              "    </tr>\n",
              "    <tr>\n",
              "      <th>L_R004S02C01</th>\n",
              "      <td>52.126399</td>\n",
              "      <td>2204.8941</td>\n",
              "      <td>1119.6161</td>\n",
              "      <td>50.778679</td>\n",
              "      <td>64.0539</td>\n",
              "      <td>2.905078</td>\n",
              "      <td>365.0910</td>\n",
              "      <td>16.558210</td>\n",
              "      <td>720.1870</td>\n",
              "      <td>32.663111</td>\n",
              "    </tr>\n",
              "    <tr>\n",
              "      <th>L_R004S06C01</th>\n",
              "      <td>63.042346</td>\n",
              "      <td>2029.9473</td>\n",
              "      <td>768.3293</td>\n",
              "      <td>37.849717</td>\n",
              "      <td>18.1084</td>\n",
              "      <td>0.892063</td>\n",
              "      <td>537.5367</td>\n",
              "      <td>26.480328</td>\n",
              "      <td>724.0813</td>\n",
              "      <td>35.669956</td>\n",
              "    </tr>\n",
              "    <tr>\n",
              "      <th>M_R003S04C01</th>\n",
              "      <td>57.857213</td>\n",
              "      <td>2015.6332</td>\n",
              "      <td>920.3107</td>\n",
              "      <td>45.658640</td>\n",
              "      <td>70.8667</td>\n",
              "      <td>3.515853</td>\n",
              "      <td>526.7999</td>\n",
              "      <td>26.135703</td>\n",
              "      <td>568.5226</td>\n",
              "      <td>28.205658</td>\n",
              "    </tr>\n",
              "    <tr>\n",
              "      <th>L_R003S03C02</th>\n",
              "      <td>64.896915</td>\n",
              "      <td>2376.4518</td>\n",
              "      <td>874.3711</td>\n",
              "      <td>36.793134</td>\n",
              "      <td>40.1632</td>\n",
              "      <td>1.690049</td>\n",
              "      <td>717.4160</td>\n",
              "      <td>30.188536</td>\n",
              "      <td>784.6647</td>\n",
              "      <td>33.018330</td>\n",
              "    </tr>\n",
              "    <tr>\n",
              "      <th>L_R004S01C01</th>\n",
              "      <td>42.824826</td>\n",
              "      <td>2041.8432</td>\n",
              "      <td>1215.2780</td>\n",
              "      <td>59.518674</td>\n",
              "      <td>47.8506</td>\n",
              "      <td>2.343500</td>\n",
              "      <td>398.4228</td>\n",
              "      <td>19.512899</td>\n",
              "      <td>428.1424</td>\n",
              "      <td>20.968427</td>\n",
              "    </tr>\n",
              "    <tr>\n",
              "      <th>S_R004S04C01</th>\n",
              "      <td>59.468311</td>\n",
              "      <td>2078.8480</td>\n",
              "      <td>861.7733</td>\n",
              "      <td>41.454368</td>\n",
              "      <td>19.1811</td>\n",
              "      <td>0.922679</td>\n",
              "      <td>396.8531</td>\n",
              "      <td>19.090049</td>\n",
              "      <td>820.2216</td>\n",
              "      <td>39.455583</td>\n",
              "    </tr>\n",
              "    <tr>\n",
              "      <th>L_R003S01C02</th>\n",
              "      <td>52.210974</td>\n",
              "      <td>2311.9680</td>\n",
              "      <td>1175.1888</td>\n",
              "      <td>50.830669</td>\n",
              "      <td>70.3218</td>\n",
              "      <td>3.041642</td>\n",
              "      <td>631.1408</td>\n",
              "      <td>27.298855</td>\n",
              "      <td>505.6384</td>\n",
              "      <td>21.870476</td>\n",
              "    </tr>\n",
              "    <tr>\n",
              "      <th>S_R004S01C01</th>\n",
              "      <td>45.433303</td>\n",
              "      <td>2117.9081</td>\n",
              "      <td>1167.7713</td>\n",
              "      <td>55.137959</td>\n",
              "      <td>12.0988</td>\n",
              "      <td>0.571262</td>\n",
              "      <td>576.3939</td>\n",
              "      <td>27.215246</td>\n",
              "      <td>373.7429</td>\n",
              "      <td>17.646795</td>\n",
              "    </tr>\n",
              "    <tr>\n",
              "      <th>M_R003S05C01</th>\n",
              "      <td>63.873510</td>\n",
              "      <td>2249.6841</td>\n",
              "      <td>899.8219</td>\n",
              "      <td>39.997700</td>\n",
              "      <td>87.0900</td>\n",
              "      <td>3.871210</td>\n",
              "      <td>659.8121</td>\n",
              "      <td>29.329100</td>\n",
              "      <td>690.0501</td>\n",
              "      <td>30.673200</td>\n",
              "    </tr>\n",
              "    <tr>\n",
              "      <th>S_R004S02C01</th>\n",
              "      <td>54.112963</td>\n",
              "      <td>2095.0819</td>\n",
              "      <td>978.6799</td>\n",
              "      <td>46.713205</td>\n",
              "      <td>17.3089</td>\n",
              "      <td>0.826168</td>\n",
              "      <td>421.2888</td>\n",
              "      <td>20.108464</td>\n",
              "      <td>695.1132</td>\n",
              "      <td>33.178331</td>\n",
              "    </tr>\n",
              "    <tr>\n",
              "      <th>TOTAL</th>\n",
              "      <td>54.201521</td>\n",
              "      <td>34313.1305</td>\n",
              "      <td>16366.8245</td>\n",
              "      <td>47.698430</td>\n",
              "      <td>651.9326</td>\n",
              "      <td>1.899951</td>\n",
              "      <td>8355.1951</td>\n",
              "      <td>24.349848</td>\n",
              "      <td>9591.1109</td>\n",
              "      <td>27.951722</td>\n",
              "    </tr>\n",
              "  </tbody>\n",
              "</table>\n",
              "</div>\n",
              "      <button class=\"colab-df-convert\" onclick=\"convertToInteractive('df-3b600ea1-2fef-4306-835b-8f7a54e0ff69')\"\n",
              "              title=\"Convert this dataframe to an interactive table.\"\n",
              "              style=\"display:none;\">\n",
              "        \n",
              "  <svg xmlns=\"http://www.w3.org/2000/svg\" height=\"24px\"viewBox=\"0 0 24 24\"\n",
              "       width=\"24px\">\n",
              "    <path d=\"M0 0h24v24H0V0z\" fill=\"none\"/>\n",
              "    <path d=\"M18.56 5.44l.94 2.06.94-2.06 2.06-.94-2.06-.94-.94-2.06-.94 2.06-2.06.94zm-11 1L8.5 8.5l.94-2.06 2.06-.94-2.06-.94L8.5 2.5l-.94 2.06-2.06.94zm10 10l.94 2.06.94-2.06 2.06-.94-2.06-.94-.94-2.06-.94 2.06-2.06.94z\"/><path d=\"M17.41 7.96l-1.37-1.37c-.4-.4-.92-.59-1.43-.59-.52 0-1.04.2-1.43.59L10.3 9.45l-7.72 7.72c-.78.78-.78 2.05 0 2.83L4 21.41c.39.39.9.59 1.41.59.51 0 1.02-.2 1.41-.59l7.78-7.78 2.81-2.81c.8-.78.8-2.07 0-2.86zM5.41 20L4 18.59l7.72-7.72 1.47 1.35L5.41 20z\"/>\n",
              "  </svg>\n",
              "      </button>\n",
              "      \n",
              "  <style>\n",
              "    .colab-df-container {\n",
              "      display:flex;\n",
              "      flex-wrap:wrap;\n",
              "      gap: 12px;\n",
              "    }\n",
              "\n",
              "    .colab-df-convert {\n",
              "      background-color: #E8F0FE;\n",
              "      border: none;\n",
              "      border-radius: 50%;\n",
              "      cursor: pointer;\n",
              "      display: none;\n",
              "      fill: #1967D2;\n",
              "      height: 32px;\n",
              "      padding: 0 0 0 0;\n",
              "      width: 32px;\n",
              "    }\n",
              "\n",
              "    .colab-df-convert:hover {\n",
              "      background-color: #E2EBFA;\n",
              "      box-shadow: 0px 1px 2px rgba(60, 64, 67, 0.3), 0px 1px 3px 1px rgba(60, 64, 67, 0.15);\n",
              "      fill: #174EA6;\n",
              "    }\n",
              "\n",
              "    [theme=dark] .colab-df-convert {\n",
              "      background-color: #3B4455;\n",
              "      fill: #D2E3FC;\n",
              "    }\n",
              "\n",
              "    [theme=dark] .colab-df-convert:hover {\n",
              "      background-color: #434B5C;\n",
              "      box-shadow: 0px 1px 3px 1px rgba(0, 0, 0, 0.15);\n",
              "      filter: drop-shadow(0px 1px 2px rgba(0, 0, 0, 0.3));\n",
              "      fill: #FFFFFF;\n",
              "    }\n",
              "  </style>\n",
              "\n",
              "      <script>\n",
              "        const buttonEl =\n",
              "          document.querySelector('#df-3b600ea1-2fef-4306-835b-8f7a54e0ff69 button.colab-df-convert');\n",
              "        buttonEl.style.display =\n",
              "          google.colab.kernel.accessAllowed ? 'block' : 'none';\n",
              "\n",
              "        async function convertToInteractive(key) {\n",
              "          const element = document.querySelector('#df-3b600ea1-2fef-4306-835b-8f7a54e0ff69');\n",
              "          const dataTable =\n",
              "            await google.colab.kernel.invokeFunction('convertToInteractive',\n",
              "                                                     [key], {});\n",
              "          if (!dataTable) return;\n",
              "\n",
              "          const docLinkHtml = 'Like what you see? Visit the ' +\n",
              "            '<a target=\"_blank\" href=https://colab.research.google.com/notebooks/data_table.ipynb>data table notebook</a>'\n",
              "            + ' to learn more about interactive tables.';\n",
              "          element.innerHTML = '';\n",
              "          dataTable['output_type'] = 'display_data';\n",
              "          await google.colab.output.renderOutput(dataTable, element);\n",
              "          const docLink = document.createElement('div');\n",
              "          docLink.innerHTML = docLinkHtml;\n",
              "          element.appendChild(docLink);\n",
              "        }\n",
              "      </script>\n",
              "    </div>\n",
              "  </div>\n",
              "  "
            ]
          },
          "metadata": {},
          "execution_count": 42
        }
      ]
    },
    {
      "cell_type": "code",
      "source": [
        "!rm -r /content/StreamingSpeakerDiarization/src/test/wav/L_R003S02C02.flac\n",
        "!rm -r /content/StreamingSpeakerDiarization/src/test/wav/L_R004S01C01.flac\n",
        "!rm -r /content/StreamingSpeakerDiarization/src/test/wav/L_R004S02C01.flac\n",
        "!rm -r /content/StreamingSpeakerDiarization/src/test/wav/L_R004S03C01.flac\n",
        "!rm -r /content/StreamingSpeakerDiarization/src/test/wav/L_R004S06C01.flac\n",
        "!rm -r /content/StreamingSpeakerDiarization/src/test/wav/M_R003S02C01.flac\n",
        "!rm -r /content/StreamingSpeakerDiarization/src/test/wav/S_R003S02C01.flac\n",
        "!rm -r /content/StreamingSpeakerDiarization/src/test/wav/S_R003S04C01.flac\n",
        "!rm -r /content/StreamingSpeakerDiarization/src/test/wav/S_R004S03C01.flac\n",
        "!rm -r /content/StreamingSpeakerDiarization/src/test/wav/S_R004S04C01.flac\n",
        "!rm -r /content/StreamingSpeakerDiarization/src/test/wav/S_R004S02C01.flac\n",
        "!rm -r /content/StreamingSpeakerDiarization/src/test/wav/L_R003S03C02.flac\n",
        "!rm -r /content/StreamingSpeakerDiarization/src/test/wav/M_R003S01C01.flac\n",
        "!rm -r /content/StreamingSpeakerDiarization/src/test/wav/S_R003S03C01.flac\n",
        "\n",
        "!rm -r /content/StreamingSpeakerDiarization/src/test/TextGrid/L_R003S02C02.rttm\n",
        "!rm -r /content/StreamingSpeakerDiarization/src/test/TextGrid/L_R004S01C01.rttm\n",
        "!rm -r /content/StreamingSpeakerDiarization/src/test/TextGrid/L_R004S02C01.rttm\n",
        "!rm -r /content/StreamingSpeakerDiarization/src/test/TextGrid/L_R004S03C01.rttm\n",
        "!rm -r /content/StreamingSpeakerDiarization/src/test/TextGrid/L_R004S06C01.rttm\n",
        "!rm -r /content/StreamingSpeakerDiarization/src/test/TextGrid/M_R003S02C01.rttm\n",
        "!rm -r /content/StreamingSpeakerDiarization/src/test/TextGrid/S_R003S02C01.rttm\n",
        "!rm -r /content/StreamingSpeakerDiarization/src/test/TextGrid/S_R003S04C01.rttm\n",
        "!rm -r /content/StreamingSpeakerDiarization/src/test/TextGrid/S_R004S03C01.rttm\n",
        "!rm -r /content/StreamingSpeakerDiarization/src/test/TextGrid/S_R004S04C01.rttm\n",
        "!rm -r /content/StreamingSpeakerDiarization/src/test/TextGrid/S_R004S02C01.rttm\n",
        "!rm -r /content/StreamingSpeakerDiarization/src/test/TextGrid/L_R003S03C02.rttm\n",
        "!rm -r /content/StreamingSpeakerDiarization/src/test/TextGrid/M_R003S01C01.rttm\n",
        "!rm -r /content/StreamingSpeakerDiarization/src/test/TextGrid/S_R003S03C01.rttm\n",
        "\n",
        "\n",
        "\n",
        "!rm -r /content/StreamingSpeakerDiarization/src/test/TextGrid/L_R003S02C02.TextGrid\n",
        "!rm -r /content/StreamingSpeakerDiarization/src/test/TextGrid/L_R004S01C01.TextGrid\n",
        "!rm -r /content/StreamingSpeakerDiarization/src/test/TextGrid/L_R004S02C01.TextGrid\n",
        "!rm -r /content/StreamingSpeakerDiarization/src/test/TextGrid/L_R004S03C01.TextGrid\n",
        "!rm -r /content/StreamingSpeakerDiarization/src/test/TextGrid/L_R004S06C01.TextGrid\n",
        "!rm -r /content/StreamingSpeakerDiarization/src/test/TextGrid/M_R003S02C01.TextGrid\n",
        "!rm -r /content/StreamingSpeakerDiarization/src/test/TextGrid/S_R003S02C01.TextGrid\n",
        "!rm -r /content/StreamingSpeakerDiarization/src/test/TextGrid/S_R003S04C01.TextGrid\n",
        "!rm -r /content/StreamingSpeakerDiarization/src/test/TextGrid/S_R004S03C01.TextGrid\n",
        "!rm -r /content/StreamingSpeakerDiarization/src/test/TextGrid/S_R004S04C01.TextGrid\n",
        "!rm -r /content/StreamingSpeakerDiarization/src/test/TextGrid/S_R004S02C01.TextGrid\n",
        "!rm -r /content/StreamingSpeakerDiarization/src/test/TextGrid/L_R003S03C02.TextGrid\n",
        "!rm -r /content/StreamingSpeakerDiarization/src/test/TextGrid/M_R003S01C01.TextGrid\n",
        "!rm -r /content/StreamingSpeakerDiarization/src/test/TextGrid/S_R003S03C01.TextGrid\n",
        "\n"
      ],
      "metadata": {
        "id": "z-BL5XnQ5Fbi",
        "colab": {
          "base_uri": "https://localhost:8080/"
        },
        "outputId": "c23c4be8-1596-4853-ab90-578beb82e058"
      },
      "execution_count": null,
      "outputs": [
        {
          "output_type": "stream",
          "name": "stdout",
          "text": [
            "rm: cannot remove '/content/StreamingSpeakerDiarization/src/test/wav/L_R003S02C02.flac': No such file or directory\n",
            "rm: cannot remove '/content/StreamingSpeakerDiarization/src/test/wav/L_R004S01C01.flac': No such file or directory\n"
          ]
        },
        {
          "output_type": "stream",
          "name": "stderr",
          "text": [
            "\rStreaming M_R003S01C01:  40%|████      | 1824/4556 [01:41<02:09, 21.18it/s]"
          ]
        },
        {
          "output_type": "stream",
          "name": "stdout",
          "text": [
            "rm: cannot remove '/content/StreamingSpeakerDiarization/src/test/wav/L_R004S02C01.flac': No such file or directory\n",
            "rm: cannot remove '/content/StreamingSpeakerDiarization/src/test/wav/L_R004S03C01.flac': No such file or directory\n",
            "rm: cannot remove '/content/StreamingSpeakerDiarization/src/test/wav/L_R004S06C01.flac': No such file or directory\n",
            "rm: cannot remove '/content/StreamingSpeakerDiarization/src/test/wav/M_R003S02C01.flac': No such file or directory\n",
            "rm: cannot remove '/content/StreamingSpeakerDiarization/src/test/wav/S_R003S02C01.flac': No such file or directory\n",
            "rm: cannot remove '/content/StreamingSpeakerDiarization/src/test/wav/S_R003S04C01.flac': No such file or directory\n",
            "rm: cannot remove '/content/StreamingSpeakerDiarization/src/test/wav/S_R004S03C01.flac': No such file or directory\n",
            "rm: cannot remove '/content/StreamingSpeakerDiarization/src/test/wav/S_R004S04C01.flac': No such file or directory\n",
            "rm: cannot remove '/content/StreamingSpeakerDiarization/src/test/wav/S_R004S02C01.flac': No such file or directory\n",
            "rm: cannot remove '/content/StreamingSpeakerDiarization/src/test/TextGrid/L_R003S02C02.rttm': No such file or directory\n",
            "rm: cannot remove '/content/StreamingSpeakerDiarization/src/test/TextGrid/L_R004S01C01.rttm': No such file or directory\n",
            "rm: cannot remove '/content/StreamingSpeakerDiarization/src/test/TextGrid/L_R004S02C01.rttm': No such file or directory\n",
            "rm: cannot remove '/content/StreamingSpeakerDiarization/src/test/TextGrid/L_R004S03C01.rttm': No such file or directory\n",
            "rm: cannot remove '/content/StreamingSpeakerDiarization/src/test/TextGrid/L_R004S06C01.rttm': No such file or directory\n",
            "rm: cannot remove '/content/StreamingSpeakerDiarization/src/test/TextGrid/M_R003S02C01.rttm': No such file or directory\n",
            "rm: cannot remove '/content/StreamingSpeakerDiarization/src/test/TextGrid/S_R003S02C01.rttm': No such file or directory\n",
            "rm: cannot remove '/content/StreamingSpeakerDiarization/src/test/TextGrid/S_R003S04C01.rttm': No such file or directory\n",
            "rm: cannot remove '/content/StreamingSpeakerDiarization/src/test/TextGrid/S_R004S03C01.rttm': No such file or directory\n",
            "rm: cannot remove '/content/StreamingSpeakerDiarization/src/test/TextGrid/S_R004S04C01.rttm': No such file or directory\n",
            "rm: cannot remove '/content/StreamingSpeakerDiarization/src/test/TextGrid/S_R004S02C01.rttm': No such file or directory\n",
            "rm: cannot remove '/content/StreamingSpeakerDiarization/src/test/TextGrid/L_R003S02C02.TextGrid': No such file or directory\n",
            "rm: cannot remove '/content/StreamingSpeakerDiarization/src/test/TextGrid/L_R004S01C01.TextGrid': No such file or directory\n",
            "rm: cannot remove '/content/StreamingSpeakerDiarization/src/test/TextGrid/L_R004S02C01.TextGrid': No such file or directory\n",
            "rm: cannot remove '/content/StreamingSpeakerDiarization/src/test/TextGrid/L_R004S03C01.TextGrid': No such file or directory\n",
            "rm: cannot remove '/content/StreamingSpeakerDiarization/src/test/TextGrid/L_R004S06C01.TextGrid': No such file or directory\n",
            "rm: cannot remove '/content/StreamingSpeakerDiarization/src/test/TextGrid/M_R003S02C01.TextGrid': No such file or directory\n",
            "rm: cannot remove '/content/StreamingSpeakerDiarization/src/test/TextGrid/S_R003S02C01.TextGrid': No such file or directory\n",
            "rm: cannot remove '/content/StreamingSpeakerDiarization/src/test/TextGrid/S_R003S04C01.TextGrid': No such file or directory\n",
            "rm: cannot remove '/content/StreamingSpeakerDiarization/src/test/TextGrid/S_R004S03C01.TextGrid': No such file or directory\n",
            "rm: cannot remove '/content/StreamingSpeakerDiarization/src/test/TextGrid/S_R004S04C01.TextGrid': No such file or directory\n",
            "rm: cannot remove '/content/StreamingSpeakerDiarization/src/test/TextGrid/S_R004S02C01.TextGrid': No such file or directory\n"
          ]
        }
      ]
    },
    {
      "cell_type": "code",
      "source": [
        "from pyannote.metrics.diarization import DiarizationErrorRate, JaccardErrorRate\n",
        "from pyannote.database.util import load_rttm\n",
        "import glob2\n",
        "import os\n",
        "import numpy as np\n",
        "from pathlib import Path\n",
        "\n",
        "uri2ann_ref = {}\n",
        "data_root = '/content/StreamingSpeakerDiarization/src'\n",
        "audio_dir = f\"{data_root}/test/wav\"\n",
        "rttm_dir = '/content/StreamingSpeakerDiarization/src/test/TextGrid'\n",
        "\n",
        "wav_list = glob2.glob(f\"{audio_dir}/*.flac\")\n",
        "uri2path = {os.path.splitext(os.path.basename(wav))[0]: wav for wav in wav_list}\n",
        "for uri in uri2path:\n",
        "  uri2ann_ref.update(load_rttm(f\"{rttm_dir}/{uri}.rttm\"))\n"
      ],
      "metadata": {
        "id": "dcEplcJ0oHRN"
      },
      "execution_count": null,
      "outputs": []
    },
    {
      "cell_type": "code",
      "source": [
        "uri2ann_ref"
      ],
      "metadata": {
        "colab": {
          "base_uri": "https://localhost:8080/"
        },
        "id": "xQabJlYk5OBB",
        "outputId": "6cc1fbf2-1109-442d-9e3e-d5f333f48d53"
      },
      "execution_count": null,
      "outputs": [
        {
          "output_type": "execute_result",
          "data": {
            "text/plain": [
              "{'L_R003S01C02': <pyannote.core.annotation.Annotation at 0x7f2ece6250d0>,\n",
              " 'L_R003S03C02': <pyannote.core.annotation.Annotation at 0x7f2ece7beed0>,\n",
              " 'L_R003S04C02': <pyannote.core.annotation.Annotation at 0x7f2ece60be10>,\n",
              " 'M_R003S01C01': <pyannote.core.annotation.Annotation at 0x7f2ece8238d0>,\n",
              " 'M_R003S04C01': <pyannote.core.annotation.Annotation at 0x7f2ece9d8050>,\n",
              " 'M_R003S05C01': <pyannote.core.annotation.Annotation at 0x7f2ece7ab5d0>,\n",
              " 'S_R003S01C01': <pyannote.core.annotation.Annotation at 0x7f2ece898690>,\n",
              " 'S_R003S03C01': <pyannote.core.annotation.Annotation at 0x7f2ece845d50>,\n",
              " 'S_R004S01C01': <pyannote.core.annotation.Annotation at 0x7f2ece5e5810>}"
            ]
          },
          "metadata": {},
          "execution_count": 16
        }
      ]
    },
    {
      "cell_type": "code",
      "source": [
        "!ls"
      ],
      "metadata": {
        "colab": {
          "base_uri": "https://localhost:8080/"
        },
        "id": "aVDfPVBl1wvo",
        "outputId": "b37dd31e-919e-4a22-ca53-6acfd0e83217"
      },
      "execution_count": null,
      "outputs": [
        {
          "output_type": "stream",
          "name": "stdout",
          "text": [
            "diart  test  test.tar.gz\n"
          ]
        }
      ]
    },
    {
      "cell_type": "code",
      "source": [
        "par1 = np.array([0.54511717, 0.49062027, 0.60781908])\n",
        "par2 = np.array([0.007, 0.33, 0.41, 0.91])\n",
        "par3 = np.array([0.93, 1.5, 0.61])\n",
        "\n",
        "for p1 in par1:\n",
        "  for p2 in par2:\n",
        "    for p3 in par3:\n",
        "      !rm -r /content/preds\n",
        "      !mkdir -p /content/preds\n",
        "      pipeline = OnlineSpeakerDiarization(PipelineConfig(\n",
        "                                              tau_active=p1,\n",
        "                                              rho_update=p2,\n",
        "                                              delta_new=p3,\n",
        "                                              device=torch.device(\"cuda\")));\n",
        "      !rm -r ./test/wav/.ipynb_checkpoints\n",
        "      for file in os.listdir('./test/wav'):\n",
        "        file = Path(file)\n",
        "        file = Path('./test/wav') / file\n",
        "        audio_source = src.FileAudioSource(\n",
        "                        file=str(file),\n",
        "                        uri=file.stem,\n",
        "                        reader=src.RegularAudioFileReader(\n",
        "                            pipeline.sample_rate, pipeline.duration, pipeline.config.step),);\n",
        "        RealTimeInference('/content/preds', do_plot=False)(pipeline, audio_source);\n",
        "      \n",
        "      !rm -r /content/preds/.ipynb_checkpoints\n",
        "      print('p1: ', p1, 'p2: ', p2, 'p3: ', p3)\n",
        "\n",
        "      uri2ann_hyp = {}\n",
        "      for file in os.listdir('/content/preds'):\n",
        "        file = Path(file)\n",
        "        file = Path('/content/preds') / file\n",
        "        file = str(file)\n",
        "        uri2ann_hyp.update(load_rttm(file))\n",
        "\n",
        "\n",
        "      der_metric = DiarizationErrorRate(collar=0, skip_overlap=False)\n",
        "      for uri, ann_hyp in uri2ann_hyp.items():\n",
        "          ann_ref = uri2ann_ref[uri]\n",
        "          der_metric(ann_ref, ann_hyp)\n",
        "\n",
        "      report = der_metric.report(display=False)\n",
        "      DER = report[\"diarization error rate\"][\"%\"][\"TOTAL\"]\n",
        "      print(f\"DER: {DER}%\")\n",
        "\n",
        "      jer_metric = JaccardErrorRate(collar=0, skip_overlap=False)\n",
        "      for uri, ann_hyp in uri2ann_hyp.items():\n",
        "          ann_ref = uri2ann_ref[uri]\n",
        "          jer_metric(ann_ref, ann_hyp)\n",
        "\n",
        "      report = jer_metric.report(display=False)\n",
        "      JER = report[\"jaccard error rate\"][\"%\"][\"TOTAL\"]\n",
        "      print(f\"JER: {JER}%\")\n",
        "      print()\n",
        "\n",
        "\n"
      ],
      "metadata": {
        "id": "-gYuQOcAnQ5G",
        "colab": {
          "base_uri": "https://localhost:8080/"
        },
        "outputId": "53a4072a-acf2-46c0-8828-7ba77744ec03"
      },
      "execution_count": null,
      "outputs": [
        {
          "output_type": "stream",
          "name": "stderr",
          "text": [
            "Streaming L_R003S04C02: 100%|██████████| 4641/4641 [04:06<00:00, 18.83it/s]\n",
            "Streaming S_R004S01C01: 100%|██████████| 4683/4683 [04:05<00:00, 19.07it/s]\n",
            "Streaming L_R003S01C02: 100%|██████████| 4717/4717 [04:11<00:00, 18.76it/s]\n",
            "Streaming M_R003S05C01: 100%|██████████| 4674/4674 [04:04<00:00, 19.13it/s]\n",
            "Streaming M_R003S04C01: 100%|██████████| 4505/4505 [03:54<00:00, 19.21it/s]\n",
            "Streaming S_R003S01C01: 100%|██████████| 4433/4433 [03:50<00:00, 19.19it/s]\n",
            "Streaming L_R003S03C02: 100%|██████████| 4528/4528 [03:54<00:00, 19.28it/s]\n",
            "Streaming M_R003S01C01: 100%|██████████| 4556/4556 [03:55<00:00, 19.32it/s]\n",
            "Streaming S_R003S03C01: 100%|██████████| 4550/4550 [03:55<00:00, 19.34it/s]\n"
          ]
        },
        {
          "output_type": "stream",
          "name": "stdout",
          "text": [
            "rm: cannot remove '/content/preds/.ipynb_checkpoints': No such file or directory\n",
            "p1:  0.54511717 p2:  0.007 p3:  0.93\n",
            "DER: 49.001832432585715%\n",
            "JER: 54.08525287497251%\n",
            "\n",
            "rm: cannot remove './test/wav/.ipynb_checkpoints': No such file or directory\n"
          ]
        },
        {
          "output_type": "stream",
          "name": "stderr",
          "text": [
            "Streaming L_R003S04C02: 100%|██████████| 4641/4641 [04:01<00:00, 19.18it/s]\n",
            "Streaming S_R004S01C01: 100%|██████████| 4683/4683 [04:05<00:00, 19.08it/s]\n",
            "Streaming L_R003S01C02: 100%|██████████| 4717/4717 [04:05<00:00, 19.18it/s]\n",
            "Streaming M_R003S05C01: 100%|██████████| 4674/4674 [04:03<00:00, 19.22it/s]\n",
            "Streaming M_R003S04C01: 100%|██████████| 4505/4505 [03:53<00:00, 19.30it/s]\n",
            "Streaming S_R003S01C01: 100%|██████████| 4433/4433 [03:48<00:00, 19.37it/s]\n",
            "Streaming L_R003S03C02: 100%|██████████| 4528/4528 [03:54<00:00, 19.32it/s]\n",
            "Streaming M_R003S01C01: 100%|██████████| 4556/4556 [03:55<00:00, 19.31it/s]\n",
            "Streaming S_R003S03C01: 100%|██████████| 4550/4550 [03:55<00:00, 19.31it/s]\n"
          ]
        },
        {
          "output_type": "stream",
          "name": "stdout",
          "text": [
            "rm: cannot remove '/content/preds/.ipynb_checkpoints': No such file or directory\n",
            "p1:  0.54511717 p2:  0.007 p3:  1.5\n",
            "DER: 54.20206615815605%\n",
            "JER: 75.81562822426015%\n",
            "\n",
            "rm: cannot remove './test/wav/.ipynb_checkpoints': No such file or directory\n"
          ]
        },
        {
          "output_type": "stream",
          "name": "stderr",
          "text": [
            "Streaming L_R003S04C02: 100%|██████████| 4641/4641 [04:01<00:00, 19.20it/s]\n",
            "Streaming S_R004S01C01: 100%|██████████| 4683/4683 [04:01<00:00, 19.41it/s]\n",
            "Streaming L_R003S01C02: 100%|██████████| 4717/4717 [04:03<00:00, 19.40it/s]\n",
            "Streaming M_R003S05C01: 100%|██████████| 4674/4674 [04:01<00:00, 19.37it/s]\n",
            "Streaming M_R003S04C01: 100%|██████████| 4505/4505 [03:57<00:00, 19.01it/s]\n",
            "Streaming S_R003S01C01: 100%|██████████| 4433/4433 [03:48<00:00, 19.42it/s]\n",
            "Streaming L_R003S03C02: 100%|██████████| 4528/4528 [03:54<00:00, 19.32it/s]\n",
            "Streaming M_R003S01C01: 100%|██████████| 4556/4556 [03:52<00:00, 19.56it/s]\n",
            "Streaming S_R003S03C01: 100%|██████████| 4550/4550 [03:54<00:00, 19.39it/s]\n"
          ]
        },
        {
          "output_type": "stream",
          "name": "stdout",
          "text": [
            "rm: cannot remove '/content/preds/.ipynb_checkpoints': No such file or directory\n",
            "p1:  0.54511717 p2:  0.007 p3:  0.61\n",
            "DER: 58.61919218164581%\n",
            "JER: 66.14864600208743%\n",
            "\n",
            "rm: cannot remove './test/wav/.ipynb_checkpoints': No such file or directory\n"
          ]
        },
        {
          "output_type": "stream",
          "name": "stderr",
          "text": [
            "Streaming L_R003S04C02: 100%|██████████| 4641/4641 [03:59<00:00, 19.38it/s]\n",
            "Streaming S_R004S01C01: 100%|██████████| 4683/4683 [04:01<00:00, 19.39it/s]\n",
            "Streaming L_R003S01C02: 100%|██████████| 4717/4717 [04:05<00:00, 19.19it/s]\n",
            "Streaming M_R003S05C01: 100%|██████████| 4674/4674 [04:04<00:00, 19.12it/s]\n",
            "Streaming M_R003S04C01: 100%|██████████| 4505/4505 [03:54<00:00, 19.18it/s]\n",
            "Streaming S_R003S01C01: 100%|██████████| 4433/4433 [03:50<00:00, 19.25it/s]\n",
            "Streaming L_R003S03C02: 100%|██████████| 4528/4528 [03:55<00:00, 19.26it/s]\n",
            "Streaming M_R003S01C01: 100%|██████████| 4556/4556 [03:56<00:00, 19.25it/s]\n",
            "Streaming S_R003S03C01: 100%|██████████| 4550/4550 [03:54<00:00, 19.37it/s]\n"
          ]
        },
        {
          "output_type": "stream",
          "name": "stdout",
          "text": [
            "rm: cannot remove '/content/preds/.ipynb_checkpoints': No such file or directory\n",
            "p1:  0.54511717 p2:  0.33 p3:  0.93\n",
            "DER: 49.602366488602165%\n",
            "JER: 62.80883175052622%\n",
            "\n",
            "rm: cannot remove './test/wav/.ipynb_checkpoints': No such file or directory\n"
          ]
        },
        {
          "output_type": "stream",
          "name": "stderr",
          "text": [
            "Streaming L_R003S04C02:  32%|███▏      | 1472/4641 [01:19<02:38, 19.99it/s]"
          ]
        }
      ]
    },
    {
      "cell_type": "code",
      "source": [
        "par1 = np.array([0.49062027, 0.60781908, 0.54511717])\n",
        "par2 = np.array([0.007, 0.33, 0.41, 0.91])\n",
        "par3 = np.array([0.93, 1.5, 0.61])\n",
        "\n",
        "for p1 in par1:\n",
        "  for p2 in par2:\n",
        "    for p3 in par3:\n",
        "      !rm -r /content/preds\n",
        "      !mkdir -p /content/preds\n",
        "      pipeline = OnlineSpeakerDiarization(PipelineConfig(\n",
        "                                              tau_active=p1,\n",
        "                                              rho_update=p2,\n",
        "                                              delta_new=p3,\n",
        "                                              device=torch.device(\"cuda\")));\n",
        "      !rm -r ./test/wav/.ipynb_checkpoints\n",
        "      for file in os.listdir('./test/wav'):\n",
        "        file = Path(file)\n",
        "        file = Path('./test/wav') / file\n",
        "        audio_source = src.FileAudioSource(\n",
        "                        file=str(file),\n",
        "                        uri=file.stem,\n",
        "                        reader=src.RegularAudioFileReader(\n",
        "                            pipeline.sample_rate, pipeline.duration, pipeline.config.step),);\n",
        "        RealTimeInference('/content/preds', do_plot=False)(pipeline, audio_source);\n",
        "      \n",
        "      !rm -r /content/preds/.ipynb_checkpoints\n",
        "      print('p1: ', p1, 'p2: ', p2, 'p3: ', p3)\n",
        "\n",
        "      uri2ann_hyp = {}\n",
        "      for file in os.listdir('/content/preds'):\n",
        "        file = Path(file)\n",
        "        file = Path('/content/preds') / file\n",
        "        file = str(file)\n",
        "        uri2ann_hyp.update(load_rttm(file))\n",
        "\n",
        "\n",
        "      der_metric = DiarizationErrorRate(collar=0, skip_overlap=False)\n",
        "      for uri, ann_hyp in uri2ann_hyp.items():\n",
        "          ann_ref = uri2ann_ref[uri]\n",
        "          der_metric(ann_ref, ann_hyp)\n",
        "\n",
        "      report = der_metric.report(display=False)\n",
        "      DER = report[\"diarization error rate\"][\"%\"][\"TOTAL\"]\n",
        "      print(f\"DER: {DER}%\")\n",
        "\n",
        "      jer_metric = JaccardErrorRate(collar=0, skip_overlap=False)\n",
        "      for uri, ann_hyp in uri2ann_hyp.items():\n",
        "          ann_ref = uri2ann_ref[uri]\n",
        "          jer_metric(ann_ref, ann_hyp)\n",
        "\n",
        "      report = jer_metric.report(display=False)\n",
        "      JER = report[\"jaccard error rate\"][\"%\"][\"TOTAL\"]\n",
        "      print(f\"JER: {JER}%\")\n",
        "      print()\n",
        "\n",
        "\n"
      ],
      "metadata": {
        "colab": {
          "base_uri": "https://localhost:8080/",
          "height": 842,
          "referenced_widgets": [
            "38c738a09f3b4f72a236b9ae48a9dd39",
            "148d03dd942645ab8fb5167f3aab04fa",
            "853d8cda783647a2971b59e961b2ba5b",
            "325a791e23424256b4bf9852c930beb1",
            "727460a26b9a42538ccdd6fe717b6fe1",
            "2b51bcad77e149a399fc7249635184d6",
            "3a9288d046244e2387693729b61e2eee",
            "7ae92fe31b674ef2a4df6c83f356cd95",
            "48c76f166d19483fabb6b5394950e73f",
            "feb5d33d4f00432790d62c93fddb764d",
            "7313c3290ffc42908b2572a837a61d2d",
            "9e3edbc4639d4067ae2847b1a1793c4a",
            "b67ed46fe4cf479fad6003f0d97571fd",
            "879f0ece2fcc42b19ea8744a70b9216f",
            "785b400cc17948b4b95574ea2bbffe05",
            "7532dbb64d474fe1ad738e44832f4f3f",
            "b3bf597f88454c9eab6b0408ae91f1c4",
            "56b6ba1b0e6340f2bd3e8f822a7f6837",
            "f0e3dafe330f4ec9af7f2aa969f79450",
            "ec1aeb3b620a4e759219cdee0eea280c",
            "154a62b78d944457bfa9d0594530b5a7",
            "44a9533e7262493d819a5f0d160efdea",
            "0fa51bf36194459abfc5591dcd41a372",
            "e1d467edf77a4a1ebdad2b534abe98ce",
            "e0fee1b8461844d69d233abd89f36a02",
            "71b6a877bbec4e14b8a0aabfa97a0793",
            "de9d580573c54390a4c6455b18200d93",
            "e0691b64bce64ef88defa9a6ecf8ee14",
            "dba24af17b92492797c98f10db3246a2",
            "8ed85b1d1d154be7821b25751991d91a",
            "3ece5bb620ec4db49a5d130dcd060779",
            "598ea71e5de840b8a1474a02e456c338",
            "5620e783d6b84eb7a4e2600e6073c732",
            "2a2119538197455cb616eaa10fa00516",
            "0e1108d406ba4a00b5bc3fea21e06be4",
            "859b6cdf59e64f62962a8327df1ab18a",
            "6bc080f2d152457ea3c3a62bad3eb2af",
            "8e8ce700a7204f99a61fbcb61ed735ca",
            "32054351474e46a5b8b6fd4017b96375",
            "688cb02fa9324743b803d223ffeb1157",
            "b1490170d994449084cd4e1bdc3f347c",
            "1f908699afaa42098531a44fad3f95f8",
            "fa8cbc86177d4cf5af6cd333e8f8f63f",
            "ecfb6d0c646149da89c0e5376200bc5a"
          ]
        },
        "id": "uQFZK8_8fw9D",
        "outputId": "b907c636-23e5-423c-a001-fd1eb3a78f2a"
      },
      "execution_count": null,
      "outputs": [
        {
          "metadata": {
            "tags": null
          },
          "name": "stdout",
          "output_type": "stream",
          "text": [
            "rm: cannot remove '/content/preds': No such file or directory\n"
          ]
        },
        {
          "data": {
            "application/vnd.jupyter.widget-view+json": {
              "model_id": "38c738a09f3b4f72a236b9ae48a9dd39",
              "version_major": 2,
              "version_minor": 0
            },
            "text/plain": [
              "Downloading:   0%|          | 0.00/17.7M [00:00<?, ?B/s]"
            ]
          },
          "metadata": {},
          "output_type": "display_data"
        },
        {
          "data": {
            "application/vnd.jupyter.widget-view+json": {
              "model_id": "9e3edbc4639d4067ae2847b1a1793c4a",
              "version_major": 2,
              "version_minor": 0
            },
            "text/plain": [
              "Downloading:   0%|          | 0.00/1.98k [00:00<?, ?B/s]"
            ]
          },
          "metadata": {},
          "output_type": "display_data"
        },
        {
          "data": {
            "application/vnd.jupyter.widget-view+json": {
              "model_id": "0fa51bf36194459abfc5591dcd41a372",
              "version_major": 2,
              "version_minor": 0
            },
            "text/plain": [
              "Downloading:   0%|          | 0.00/96.4M [00:00<?, ?B/s]"
            ]
          },
          "metadata": {},
          "output_type": "display_data"
        },
        {
          "data": {
            "application/vnd.jupyter.widget-view+json": {
              "model_id": "2a2119538197455cb616eaa10fa00516",
              "version_major": 2,
              "version_minor": 0
            },
            "text/plain": [
              "Downloading:   0%|          | 0.00/2.00k [00:00<?, ?B/s]"
            ]
          },
          "metadata": {},
          "output_type": "display_data"
        },
        {
          "metadata": {
            "tags": null
          },
          "name": "stdout",
          "output_type": "stream",
          "text": [
            "rm: cannot remove './test/wav/.ipynb_checkpoints': No such file or directory\n"
          ]
        },
        {
          "metadata": {
            "tags": null
          },
          "name": "stderr",
          "output_type": "stream",
          "text": [
            "Streaming L_R003S04C02: 100%|██████████| 4641/4641 [04:05<00:00, 18.93it/s]\n",
            "Streaming S_R004S01C01: 100%|██████████| 4683/4683 [04:00<00:00, 19.44it/s]\n",
            "Streaming L_R003S01C02: 100%|██████████| 4717/4717 [04:01<00:00, 19.55it/s]\n",
            "Streaming M_R003S05C01: 100%|██████████| 4674/4674 [03:59<00:00, 19.51it/s]\n",
            "Streaming M_R003S04C01: 100%|██████████| 4505/4505 [03:49<00:00, 19.62it/s]\n",
            "Streaming S_R003S01C01: 100%|██████████| 4433/4433 [03:46<00:00, 19.58it/s]\n",
            "Streaming L_R003S03C02: 100%|██████████| 4528/4528 [03:52<00:00, 19.50it/s]\n",
            "Streaming M_R003S01C01: 100%|██████████| 4556/4556 [03:52<00:00, 19.61it/s]\n",
            "Streaming S_R003S03C01: 100%|██████████| 4550/4550 [03:50<00:00, 19.72it/s]\n"
          ]
        },
        {
          "metadata": {
            "tags": null
          },
          "name": "stdout",
          "output_type": "stream",
          "text": [
            "rm: cannot remove '/content/preds/.ipynb_checkpoints': No such file or directory\n",
            "p1:  0.49062027 p2:  0.007 p3:  0.93\n",
            "DER: 47.788052980336246%\n",
            "JER: 53.061258070710835%\n",
            "\n",
            "rm: cannot remove './test/wav/.ipynb_checkpoints': No such file or directory\n"
          ]
        },
        {
          "metadata": {
            "tags": null
          },
          "name": "stderr",
          "output_type": "stream",
          "text": [
            "Streaming L_R003S04C02: 100%|██████████| 4641/4641 [03:56<00:00, 19.63it/s]\n",
            "Streaming S_R004S01C01: 100%|██████████| 4683/4683 [03:58<00:00, 19.60it/s]\n",
            "Streaming L_R003S01C02: 100%|██████████| 4717/4717 [04:02<00:00, 19.44it/s]\n",
            "Streaming M_R003S05C01: 100%|██████████| 4674/4674 [04:01<00:00, 19.36it/s]\n",
            "Streaming M_R003S04C01: 100%|██████████| 4505/4505 [03:51<00:00, 19.43it/s]\n",
            "Streaming S_R003S01C01: 100%|██████████| 4433/4433 [03:48<00:00, 19.41it/s]\n",
            "Streaming L_R003S03C02: 100%|██████████| 4528/4528 [03:53<00:00, 19.40it/s]\n",
            "Streaming M_R003S01C01: 100%|██████████| 4556/4556 [03:51<00:00, 19.71it/s]\n",
            "Streaming S_R003S03C01: 100%|██████████| 4550/4550 [03:53<00:00, 19.44it/s]\n"
          ]
        },
        {
          "metadata": {
            "tags": null
          },
          "name": "stdout",
          "output_type": "stream",
          "text": [
            "rm: cannot remove '/content/preds/.ipynb_checkpoints': No such file or directory\n",
            "p1:  0.49062027 p2:  0.007 p3:  1.5\n",
            "DER: 53.81442728076896%\n",
            "JER: 74.407429257125%\n",
            "\n",
            "rm: cannot remove './test/wav/.ipynb_checkpoints': No such file or directory\n"
          ]
        },
        {
          "output_type": "stream",
          "name": "stderr",
          "text": [
            "Streaming L_R003S04C02: 100%|██████████| 4641/4641 [03:58<00:00, 19.48it/s]\n",
            "Streaming S_R004S01C01: 100%|██████████| 4683/4683 [03:57<00:00, 19.70it/s]\n",
            "Streaming L_R003S01C02: 100%|██████████| 4717/4717 [04:05<00:00, 19.18it/s]\n",
            "Streaming M_R003S05C01: 100%|██████████| 4674/4674 [04:02<00:00, 19.24it/s]\n",
            "Streaming M_R003S04C01: 100%|██████████| 4505/4505 [03:49<00:00, 19.66it/s]\n",
            "Streaming S_R003S01C01: 100%|██████████| 4433/4433 [03:53<00:00, 18.97it/s]\n",
            "Streaming L_R003S03C02:   0%|          | 15/4528 [00:05<08:47,  8.55it/s]"
          ]
        }
      ]
    },
    {
      "cell_type": "code",
      "source": [
        "par1 = np.array([0.60781908])\n",
        "par2 = np.array([0.007])\n",
        "par3 = np.array([0.93, 1.5, 0.61])\n",
        "\n",
        "for p1 in par1:\n",
        "  for p2 in par2:\n",
        "    for p3 in par3:\n",
        "      !rm -r /content/preds\n",
        "      !mkdir -p /content/preds\n",
        "      pipeline = OnlineSpeakerDiarization(PipelineConfig(\n",
        "                                              tau_active=p1,\n",
        "                                              rho_update=p2,\n",
        "                                              delta_new=p3,\n",
        "                                              device=torch.device(\"cuda\")));\n",
        "      !rm -r ./test/wav/.ipynb_checkpoints\n",
        "      for file in os.listdir('./test/wav'):\n",
        "        file = Path(file)\n",
        "        file = Path('./test/wav') / file\n",
        "        audio_source = src.FileAudioSource(\n",
        "                        file=str(file),\n",
        "                        uri=file.stem,\n",
        "                        reader=src.RegularAudioFileReader(\n",
        "                            pipeline.sample_rate, pipeline.duration, pipeline.config.step),);\n",
        "        RealTimeInference('/content/preds', do_plot=False)(pipeline, audio_source);\n",
        "      \n",
        "      !rm -r /content/preds/.ipynb_checkpoints\n",
        "      print('p1: ', p1, 'p2: ', p2, 'p3: ', p3)\n",
        "\n",
        "      uri2ann_hyp = {}\n",
        "      for file in os.listdir('/content/preds'):\n",
        "        file = Path(file)\n",
        "        file = Path('/content/preds') / file\n",
        "        file = str(file)\n",
        "        uri2ann_hyp.update(load_rttm(file))\n",
        "\n",
        "\n",
        "      der_metric = DiarizationErrorRate(collar=0, skip_overlap=False)\n",
        "      for uri, ann_hyp in uri2ann_hyp.items():\n",
        "          ann_ref = uri2ann_ref[uri]\n",
        "          der_metric(ann_ref, ann_hyp)\n",
        "\n",
        "      report = der_metric.report(display=False)\n",
        "      DER = report[\"diarization error rate\"][\"%\"][\"TOTAL\"]\n",
        "      print(f\"DER: {DER}%\")\n",
        "\n",
        "      jer_metric = JaccardErrorRate(collar=0, skip_overlap=False)\n",
        "      for uri, ann_hyp in uri2ann_hyp.items():\n",
        "          ann_ref = uri2ann_ref[uri]\n",
        "          jer_metric(ann_ref, ann_hyp)\n",
        "\n",
        "      report = jer_metric.report(display=False)\n",
        "      JER = report[\"jaccard error rate\"][\"%\"][\"TOTAL\"]\n",
        "      print(f\"JER: {JER}%\")\n",
        "      print()\n",
        "\n",
        "\n"
      ],
      "metadata": {
        "colab": {
          "base_uri": "https://localhost:8080/"
        },
        "id": "orb6D4TpKzHw",
        "outputId": "ff78b4a4-5a68-4fdc-c750-2475758578f2"
      },
      "execution_count": null,
      "outputs": [
        {
          "output_type": "stream",
          "name": "stdout",
          "text": [
            "rm: cannot remove './test/wav/.ipynb_checkpoints': No such file or directory\n"
          ]
        },
        {
          "output_type": "stream",
          "name": "stderr",
          "text": [
            "Streaming L_R003S04C02: 100%|██████████| 4641/4641 [03:54<00:00, 19.80it/s]\n",
            "Streaming S_R004S01C01: 100%|██████████| 4683/4683 [03:54<00:00, 19.96it/s]\n",
            "Streaming L_R003S01C02: 100%|██████████| 4717/4717 [03:56<00:00, 19.97it/s]\n",
            "Streaming M_R003S05C01: 100%|██████████| 4674/4674 [03:54<00:00, 19.91it/s]\n",
            "Streaming M_R003S04C01: 100%|██████████| 4505/4505 [03:44<00:00, 20.07it/s]\n",
            "Streaming S_R003S01C01: 100%|██████████| 4433/4433 [03:41<00:00, 20.01it/s]\n"
          ]
        },
        {
          "output_type": "stream",
          "name": "stdout",
          "text": [
            "rm: cannot remove '/content/preds/.ipynb_checkpoints': No such file or directory\n",
            "p1:  0.60781908 p2:  0.007 p3:  0.93\n",
            "DER: 48.9292928735738%\n",
            "JER: 52.64535578728074%\n",
            "\n",
            "rm: cannot remove './test/wav/.ipynb_checkpoints': No such file or directory\n"
          ]
        },
        {
          "output_type": "stream",
          "name": "stderr",
          "text": [
            "Streaming L_R003S04C02: 100%|██████████| 4641/4641 [03:53<00:00, 19.90it/s]\n",
            "Streaming S_R004S01C01: 100%|██████████| 4683/4683 [03:54<00:00, 19.97it/s]\n",
            "Streaming L_R003S01C02: 100%|██████████| 4717/4717 [03:56<00:00, 19.98it/s]\n",
            "Streaming M_R003S05C01: 100%|██████████| 4674/4674 [03:47<00:00, 20.52it/s]\n",
            "Streaming M_R003S04C01: 100%|██████████| 4505/4505 [03:39<00:00, 20.54it/s]\n",
            "Streaming S_R003S01C01: 100%|██████████| 4433/4433 [03:32<00:00, 20.88it/s]\n"
          ]
        },
        {
          "output_type": "stream",
          "name": "stdout",
          "text": [
            "rm: cannot remove '/content/preds/.ipynb_checkpoints': No such file or directory\n",
            "p1:  0.60781908 p2:  0.007 p3:  1.5\n",
            "DER: 52.14177226093697%\n",
            "JER: 74.53949603955056%\n",
            "\n",
            "rm: cannot remove './test/wav/.ipynb_checkpoints': No such file or directory\n"
          ]
        },
        {
          "output_type": "stream",
          "name": "stderr",
          "text": [
            "Streaming L_R003S04C02: 100%|██████████| 4641/4641 [03:39<00:00, 21.12it/s]\n",
            "Streaming S_R004S01C01: 100%|██████████| 4683/4683 [03:41<00:00, 21.18it/s]\n",
            "Streaming L_R003S01C02: 100%|██████████| 4717/4717 [03:42<00:00, 21.18it/s]\n",
            "Streaming M_R003S05C01: 100%|██████████| 4674/4674 [03:41<00:00, 21.15it/s]\n",
            "Streaming M_R003S04C01: 100%|██████████| 4505/4505 [03:32<00:00, 21.22it/s]\n",
            "Streaming S_R003S01C01: 100%|██████████| 4433/4433 [03:29<00:00, 21.15it/s]\n"
          ]
        },
        {
          "output_type": "stream",
          "name": "stdout",
          "text": [
            "rm: cannot remove '/content/preds/.ipynb_checkpoints': No such file or directory\n",
            "p1:  0.60781908 p2:  0.007 p3:  0.61\n",
            "DER: 58.59659646739763%\n",
            "JER: 66.89082488678815%\n",
            "\n"
          ]
        }
      ]
    },
    {
      "cell_type": "code",
      "source": [
        "par1 = np.array([0.60781908])\n",
        "par2 = np.array([0.007])\n",
        "par3 = np.array([0.93, 1.5, 0.61])\n",
        "\n",
        "for p1 in par1:\n",
        "  for p2 in par2:\n",
        "    for p3 in par3:\n",
        "      !rm -r /content/preds\n",
        "      !mkdir -p /content/preds\n",
        "      pipeline = OnlineSpeakerDiarization(PipelineConfig(\n",
        "                                              tau_active=p1,\n",
        "                                              rho_update=p2,\n",
        "                                              delta_new=p3,\n",
        "                                              device=torch.device(\"cuda\")));\n",
        "      !rm -r ./test/wav/.ipynb_checkpoints\n",
        "      for file in os.listdir('./test/wav'):\n",
        "        file = Path(file)\n",
        "        file = Path('./test/wav') / file\n",
        "        audio_source = src.FileAudioSource(\n",
        "                        file=str(file),\n",
        "                        uri=file.stem,\n",
        "                        reader=src.RegularAudioFileReader(\n",
        "                            pipeline.sample_rate, pipeline.duration, pipeline.config.step),);\n",
        "        RealTimeInference('/content/preds', do_plot=False)(pipeline, audio_source);\n",
        "      \n",
        "      !rm -r /content/preds/.ipynb_checkpoints\n",
        "      print('p1: ', p1, 'p2: ', p2, 'p3: ', p3)\n",
        "\n",
        "      uri2ann_hyp = {}\n",
        "      for file in os.listdir('/content/preds'):\n",
        "        file = Path(file)\n",
        "        file = Path('/content/preds') / file\n",
        "        file = str(file)\n",
        "        uri2ann_hyp.update(load_rttm(file))\n",
        "\n",
        "\n",
        "      der_metric = DiarizationErrorRate(collar=0, skip_overlap=False)\n",
        "      for uri, ann_hyp in uri2ann_hyp.items():\n",
        "          ann_ref = uri2ann_ref[uri]\n",
        "          der_metric(ann_ref, ann_hyp)\n",
        "\n",
        "      report = der_metric.report(display=False)\n",
        "      DER = report[\"diarization error rate\"][\"%\"][\"TOTAL\"]\n",
        "      print(f\"DER: {DER}%\")\n",
        "\n",
        "      jer_metric = JaccardErrorRate(collar=0, skip_overlap=False)\n",
        "      for uri, ann_hyp in uri2ann_hyp.items():\n",
        "          ann_ref = uri2ann_ref[uri]\n",
        "          jer_metric(ann_ref, ann_hyp)\n",
        "\n",
        "      report = jer_metric.report(display=False)\n",
        "      JER = report[\"jaccard error rate\"][\"%\"][\"TOTAL\"]\n",
        "      print(f\"JER: {JER}%\")\n",
        "      print()\n",
        "\n",
        "\n"
      ],
      "metadata": {
        "id": "e-nYUqlRyP00"
      },
      "execution_count": null,
      "outputs": []
    },
    {
      "cell_type": "code",
      "source": [
        "# !rm -r /content/ttt\n",
        "# !mkdir -p /content/ttt"
      ],
      "metadata": {
        "id": "FmUd1fG8riht"
      },
      "execution_count": null,
      "outputs": []
    },
    {
      "cell_type": "code",
      "source": [
        "!wget https://openslr.elda.org/resources/111/test.tar.gz"
      ],
      "metadata": {
        "colab": {
          "base_uri": "https://localhost:8080/"
        },
        "id": "E1gWWGTUxhkX",
        "outputId": "a372c0b0-6caa-407e-fbc9-b390a3f4087b"
      },
      "execution_count": null,
      "outputs": [
        {
          "output_type": "stream",
          "name": "stdout",
          "text": [
            "--2022-06-03 15:24:21--  https://openslr.elda.org/resources/111/test.tar.gz\n",
            "Resolving openslr.elda.org (openslr.elda.org)... 141.94.109.138, 2001:41d0:203:ad8a::\n",
            "Connecting to openslr.elda.org (openslr.elda.org)|141.94.109.138|:443... connected.\n",
            "HTTP request sent, awaiting response... 200 OK\n",
            "Length: 5241010904 (4.9G) [application/x-gzip]\n",
            "Saving to: ‘test.tar.gz’\n",
            "\n",
            "test.tar.gz         100%[===================>]   4.88G  20.3MB/s    in 4m 8s   \n",
            "\n",
            "2022-06-03 15:28:31 (20.1 MB/s) - ‘test.tar.gz’ saved [5241010904/5241010904]\n",
            "\n"
          ]
        }
      ]
    },
    {
      "cell_type": "code",
      "source": [
        "!tar -xvf /content/StreamingSpeakerDiarization/src/test.tar.gz"
      ],
      "metadata": {
        "id": "7hQdXhNlzX_Y",
        "colab": {
          "base_uri": "https://localhost:8080/"
        },
        "outputId": "f5dc4196-adeb-4c50-a3dd-7dae9d9c31c6"
      },
      "execution_count": null,
      "outputs": [
        {
          "output_type": "stream",
          "name": "stdout",
          "text": [
            "test/wav/L_R003S04C02.flac\n",
            "test/wav/L_R004S01C01.flac\n",
            "test/wav/L_R004S02C01.flac\n",
            "test/wav/L_R004S03C01.flac\n",
            "test/wav/L_R004S06C01.flac\n",
            "test/wav/M_R003S02C01.flac\n",
            "test/wav/M_R003S04C01.flac\n",
            "test/wav/M_R003S05C01.flac\n",
            "test/wav/S_R003S01C01.flac\n",
            "test/wav/S_R003S02C01.flac\n",
            "test/wav/S_R003S03C01.flac\n",
            "test/wav/S_R003S04C01.flac\n",
            "test/wav/S_R004S02C01.flac\n",
            "test/wav/S_R004S03C01.flac\n",
            "test/wav/S_R004S04C01.flac\n"
          ]
        }
      ]
    },
    {
      "cell_type": "code",
      "source": [
        "!wget https://www.openslr.org/resources/111/train_L.tar.gz;"
      ],
      "metadata": {
        "id": "cGCGgH6NkAHz"
      },
      "execution_count": null,
      "outputs": []
    },
    {
      "cell_type": "code",
      "source": [
        "!tar -xvf /content/StreamingSpeakerDiarization/src/train_L.tar.gz;"
      ],
      "metadata": {
        "id": "6--lrse6kDxE"
      },
      "execution_count": null,
      "outputs": []
    },
    {
      "cell_type": "code",
      "source": [
        "# for i in [9, 3]:\n",
        "#   !mkdir -p /content/ttt\n",
        "#   !rm -r /content/ttt\n",
        "#   print(5)\n"
      ],
      "metadata": {
        "id": "pCmIRdXqm5Ul"
      },
      "execution_count": null,
      "outputs": []
    },
    {
      "cell_type": "code",
      "source": [
        ""
      ],
      "metadata": {
        "id": "STRVXiUb1Ex7"
      },
      "execution_count": null,
      "outputs": []
    }
  ]
}